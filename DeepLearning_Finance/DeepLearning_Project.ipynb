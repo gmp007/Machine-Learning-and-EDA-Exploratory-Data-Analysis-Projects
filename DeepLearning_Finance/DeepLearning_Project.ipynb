{
  "nbformat": 4,
  "nbformat_minor": 0,
  "metadata": {
    "colab": {
      "name": "DeepLearning_Project",
      "provenance": [],
      "collapsed_sections": [],
      "authorship_tag": "ABX9TyOxZ36Z0yPFWA9zKR+PvQ4Q",
      "include_colab_link": true
    },
    "kernelspec": {
      "name": "python3",
      "display_name": "Python 3"
    },
    "language_info": {
      "name": "python"
    },
    "accelerator": "GPU"
  },
  "cells": [
    {
      "cell_type": "markdown",
      "metadata": {
        "id": "view-in-github",
        "colab_type": "text"
      },
      "source": [
        "<a href=\"https://colab.research.google.com/github/gmp007/Machine-Learning-and-EDA-Exploratory-Data-Analysis-Projects/blob/main/DeepLearning_Finance/DeepLearning_Project.ipynb\" target=\"_parent\"><img src=\"https://colab.research.google.com/assets/colab-badge.svg\" alt=\"Open In Colab\"/></a>"
      ]
    },
    {
      "cell_type": "markdown",
      "source": [
        "## DESCRIPTION\n",
        "\n",
        "#### Create a model that predicts whether or not a loan will be default using the historical data.\n",
        "\n",
        " \n",
        "\n",
        "## Problem Statement:  \n",
        "\n",
        "### For companies like Lending Club correctly predicting whether or not a loan will be a default is very important. In this project, using the historical data from 2007 to 2015, you have to build a deep learning model to predict the chance of default for future loans. As you will see later this dataset is highly imbalanced and includes a lot of features that makes this problem more challenging.\n",
        "\n",
        "## Domain: Finance\n",
        "\n",
        "## Analysis to be done: Perform data preprocessing and build a deep learning prediction model. "
      ],
      "metadata": {
        "id": "v_RW3HmmExdL"
      }
    },
    {
      "cell_type": "markdown",
      "source": [
        ""
      ],
      "metadata": {
        "id": "Px_ZZYMYEeuG"
      }
    },
    {
      "cell_type": "code",
      "source": [
        "# Import the necessary libraries\n",
        "import pandas as pd\n",
        "import numpy as np\n",
        "from sklearn.model_selection import train_test_split\n",
        "import matplotlib.pyplot as plt\n",
        "from sklearn.preprocessing import LabelEncoder\n",
        "%matplotlib inline\n",
        "import seaborn as sns\n",
        "from sklearn import metrics\n",
        "\n",
        "\n",
        "#Control rows/columns\n",
        "pd.set_option('display.max_columns',200)\n",
        "pd.set_option('display.max_rows',200)\n",
        "\n",
        "\n",
        "# For ANN\n",
        "import tensorflow as tf\n",
        "from tensorflow import keras\n",
        "\n",
        "from tensorflow.python.ops.numpy_ops import np_config\n",
        "np_config.enable_numpy_behavior()\n",
        "from sklearn.preprocessing import MinMaxScaler,StandardScaler\n",
        "\n",
        "# Handle imbalance data\n",
        "from imblearn.over_sampling import SMOTE\n",
        "\n",
        "import warnings\n",
        "warnings.filterwarnings(\"ignore\") #, category=DeprecationWarning) "
      ],
      "metadata": {
        "id": "uOjodHXUDsbX"
      },
      "execution_count": 1,
      "outputs": []
    },
    {
      "cell_type": "code",
      "source": [
        "#from google.colab import drive\n",
        "#drive.mount('/content/drive')"
      ],
      "metadata": {
        "id": "sQQmZTi4DyvE"
      },
      "execution_count": 2,
      "outputs": []
    },
    {
      "cell_type": "code",
      "source": [
        "loan_data = pd.read_csv('loan_data.csv')"
      ],
      "metadata": {
        "id": "7r8tGeLKD4Px"
      },
      "execution_count": 3,
      "outputs": []
    },
    {
      "cell_type": "code",
      "source": [
        "loan_data.head()"
      ],
      "metadata": {
        "id": "VKQxr5DIEMBq",
        "colab": {
          "base_uri": "https://localhost:8080/",
          "height": 270
        },
        "outputId": "96e78d13-05e6-416f-b7bf-52ea454f4594"
      },
      "execution_count": 4,
      "outputs": [
        {
          "output_type": "execute_result",
          "data": {
            "text/html": [
              "\n",
              "  <div id=\"df-70a834fd-669b-4610-9114-f37ff8449bae\">\n",
              "    <div class=\"colab-df-container\">\n",
              "      <div>\n",
              "<style scoped>\n",
              "    .dataframe tbody tr th:only-of-type {\n",
              "        vertical-align: middle;\n",
              "    }\n",
              "\n",
              "    .dataframe tbody tr th {\n",
              "        vertical-align: top;\n",
              "    }\n",
              "\n",
              "    .dataframe thead th {\n",
              "        text-align: right;\n",
              "    }\n",
              "</style>\n",
              "<table border=\"1\" class=\"dataframe\">\n",
              "  <thead>\n",
              "    <tr style=\"text-align: right;\">\n",
              "      <th></th>\n",
              "      <th>credit.policy</th>\n",
              "      <th>purpose</th>\n",
              "      <th>int.rate</th>\n",
              "      <th>installment</th>\n",
              "      <th>log.annual.inc</th>\n",
              "      <th>dti</th>\n",
              "      <th>fico</th>\n",
              "      <th>days.with.cr.line</th>\n",
              "      <th>revol.bal</th>\n",
              "      <th>revol.util</th>\n",
              "      <th>inq.last.6mths</th>\n",
              "      <th>delinq.2yrs</th>\n",
              "      <th>pub.rec</th>\n",
              "      <th>not.fully.paid</th>\n",
              "    </tr>\n",
              "  </thead>\n",
              "  <tbody>\n",
              "    <tr>\n",
              "      <th>0</th>\n",
              "      <td>1</td>\n",
              "      <td>debt_consolidation</td>\n",
              "      <td>0.1189</td>\n",
              "      <td>829.10</td>\n",
              "      <td>11.350407</td>\n",
              "      <td>19.48</td>\n",
              "      <td>737</td>\n",
              "      <td>5639.958333</td>\n",
              "      <td>28854</td>\n",
              "      <td>52.1</td>\n",
              "      <td>0</td>\n",
              "      <td>0</td>\n",
              "      <td>0</td>\n",
              "      <td>0</td>\n",
              "    </tr>\n",
              "    <tr>\n",
              "      <th>1</th>\n",
              "      <td>1</td>\n",
              "      <td>credit_card</td>\n",
              "      <td>0.1071</td>\n",
              "      <td>228.22</td>\n",
              "      <td>11.082143</td>\n",
              "      <td>14.29</td>\n",
              "      <td>707</td>\n",
              "      <td>2760.000000</td>\n",
              "      <td>33623</td>\n",
              "      <td>76.7</td>\n",
              "      <td>0</td>\n",
              "      <td>0</td>\n",
              "      <td>0</td>\n",
              "      <td>0</td>\n",
              "    </tr>\n",
              "    <tr>\n",
              "      <th>2</th>\n",
              "      <td>1</td>\n",
              "      <td>debt_consolidation</td>\n",
              "      <td>0.1357</td>\n",
              "      <td>366.86</td>\n",
              "      <td>10.373491</td>\n",
              "      <td>11.63</td>\n",
              "      <td>682</td>\n",
              "      <td>4710.000000</td>\n",
              "      <td>3511</td>\n",
              "      <td>25.6</td>\n",
              "      <td>1</td>\n",
              "      <td>0</td>\n",
              "      <td>0</td>\n",
              "      <td>0</td>\n",
              "    </tr>\n",
              "    <tr>\n",
              "      <th>3</th>\n",
              "      <td>1</td>\n",
              "      <td>debt_consolidation</td>\n",
              "      <td>0.1008</td>\n",
              "      <td>162.34</td>\n",
              "      <td>11.350407</td>\n",
              "      <td>8.10</td>\n",
              "      <td>712</td>\n",
              "      <td>2699.958333</td>\n",
              "      <td>33667</td>\n",
              "      <td>73.2</td>\n",
              "      <td>1</td>\n",
              "      <td>0</td>\n",
              "      <td>0</td>\n",
              "      <td>0</td>\n",
              "    </tr>\n",
              "    <tr>\n",
              "      <th>4</th>\n",
              "      <td>1</td>\n",
              "      <td>credit_card</td>\n",
              "      <td>0.1426</td>\n",
              "      <td>102.92</td>\n",
              "      <td>11.299732</td>\n",
              "      <td>14.97</td>\n",
              "      <td>667</td>\n",
              "      <td>4066.000000</td>\n",
              "      <td>4740</td>\n",
              "      <td>39.5</td>\n",
              "      <td>0</td>\n",
              "      <td>1</td>\n",
              "      <td>0</td>\n",
              "      <td>0</td>\n",
              "    </tr>\n",
              "  </tbody>\n",
              "</table>\n",
              "</div>\n",
              "      <button class=\"colab-df-convert\" onclick=\"convertToInteractive('df-70a834fd-669b-4610-9114-f37ff8449bae')\"\n",
              "              title=\"Convert this dataframe to an interactive table.\"\n",
              "              style=\"display:none;\">\n",
              "        \n",
              "  <svg xmlns=\"http://www.w3.org/2000/svg\" height=\"24px\"viewBox=\"0 0 24 24\"\n",
              "       width=\"24px\">\n",
              "    <path d=\"M0 0h24v24H0V0z\" fill=\"none\"/>\n",
              "    <path d=\"M18.56 5.44l.94 2.06.94-2.06 2.06-.94-2.06-.94-.94-2.06-.94 2.06-2.06.94zm-11 1L8.5 8.5l.94-2.06 2.06-.94-2.06-.94L8.5 2.5l-.94 2.06-2.06.94zm10 10l.94 2.06.94-2.06 2.06-.94-2.06-.94-.94-2.06-.94 2.06-2.06.94z\"/><path d=\"M17.41 7.96l-1.37-1.37c-.4-.4-.92-.59-1.43-.59-.52 0-1.04.2-1.43.59L10.3 9.45l-7.72 7.72c-.78.78-.78 2.05 0 2.83L4 21.41c.39.39.9.59 1.41.59.51 0 1.02-.2 1.41-.59l7.78-7.78 2.81-2.81c.8-.78.8-2.07 0-2.86zM5.41 20L4 18.59l7.72-7.72 1.47 1.35L5.41 20z\"/>\n",
              "  </svg>\n",
              "      </button>\n",
              "      \n",
              "  <style>\n",
              "    .colab-df-container {\n",
              "      display:flex;\n",
              "      flex-wrap:wrap;\n",
              "      gap: 12px;\n",
              "    }\n",
              "\n",
              "    .colab-df-convert {\n",
              "      background-color: #E8F0FE;\n",
              "      border: none;\n",
              "      border-radius: 50%;\n",
              "      cursor: pointer;\n",
              "      display: none;\n",
              "      fill: #1967D2;\n",
              "      height: 32px;\n",
              "      padding: 0 0 0 0;\n",
              "      width: 32px;\n",
              "    }\n",
              "\n",
              "    .colab-df-convert:hover {\n",
              "      background-color: #E2EBFA;\n",
              "      box-shadow: 0px 1px 2px rgba(60, 64, 67, 0.3), 0px 1px 3px 1px rgba(60, 64, 67, 0.15);\n",
              "      fill: #174EA6;\n",
              "    }\n",
              "\n",
              "    [theme=dark] .colab-df-convert {\n",
              "      background-color: #3B4455;\n",
              "      fill: #D2E3FC;\n",
              "    }\n",
              "\n",
              "    [theme=dark] .colab-df-convert:hover {\n",
              "      background-color: #434B5C;\n",
              "      box-shadow: 0px 1px 3px 1px rgba(0, 0, 0, 0.15);\n",
              "      filter: drop-shadow(0px 1px 2px rgba(0, 0, 0, 0.3));\n",
              "      fill: #FFFFFF;\n",
              "    }\n",
              "  </style>\n",
              "\n",
              "      <script>\n",
              "        const buttonEl =\n",
              "          document.querySelector('#df-70a834fd-669b-4610-9114-f37ff8449bae button.colab-df-convert');\n",
              "        buttonEl.style.display =\n",
              "          google.colab.kernel.accessAllowed ? 'block' : 'none';\n",
              "\n",
              "        async function convertToInteractive(key) {\n",
              "          const element = document.querySelector('#df-70a834fd-669b-4610-9114-f37ff8449bae');\n",
              "          const dataTable =\n",
              "            await google.colab.kernel.invokeFunction('convertToInteractive',\n",
              "                                                     [key], {});\n",
              "          if (!dataTable) return;\n",
              "\n",
              "          const docLinkHtml = 'Like what you see? Visit the ' +\n",
              "            '<a target=\"_blank\" href=https://colab.research.google.com/notebooks/data_table.ipynb>data table notebook</a>'\n",
              "            + ' to learn more about interactive tables.';\n",
              "          element.innerHTML = '';\n",
              "          dataTable['output_type'] = 'display_data';\n",
              "          await google.colab.output.renderOutput(dataTable, element);\n",
              "          const docLink = document.createElement('div');\n",
              "          docLink.innerHTML = docLinkHtml;\n",
              "          element.appendChild(docLink);\n",
              "        }\n",
              "      </script>\n",
              "    </div>\n",
              "  </div>\n",
              "  "
            ],
            "text/plain": [
              "   credit.policy             purpose  int.rate  installment  log.annual.inc  \\\n",
              "0              1  debt_consolidation    0.1189       829.10       11.350407   \n",
              "1              1         credit_card    0.1071       228.22       11.082143   \n",
              "2              1  debt_consolidation    0.1357       366.86       10.373491   \n",
              "3              1  debt_consolidation    0.1008       162.34       11.350407   \n",
              "4              1         credit_card    0.1426       102.92       11.299732   \n",
              "\n",
              "     dti  fico  days.with.cr.line  revol.bal  revol.util  inq.last.6mths  \\\n",
              "0  19.48   737        5639.958333      28854        52.1               0   \n",
              "1  14.29   707        2760.000000      33623        76.7               0   \n",
              "2  11.63   682        4710.000000       3511        25.6               1   \n",
              "3   8.10   712        2699.958333      33667        73.2               1   \n",
              "4  14.97   667        4066.000000       4740        39.5               0   \n",
              "\n",
              "   delinq.2yrs  pub.rec  not.fully.paid  \n",
              "0            0        0               0  \n",
              "1            0        0               0  \n",
              "2            0        0               0  \n",
              "3            0        0               0  \n",
              "4            1        0               0  "
            ]
          },
          "metadata": {},
          "execution_count": 4
        }
      ]
    },
    {
      "cell_type": "code",
      "source": [
        "loan_data.shape"
      ],
      "metadata": {
        "id": "dUWn2oyTEQKV",
        "colab": {
          "base_uri": "https://localhost:8080/"
        },
        "outputId": "68bb8897-e9a5-498e-e6af-3aa12536c375"
      },
      "execution_count": 5,
      "outputs": [
        {
          "output_type": "execute_result",
          "data": {
            "text/plain": [
              "(9578, 14)"
            ]
          },
          "metadata": {},
          "execution_count": 5
        }
      ]
    },
    {
      "cell_type": "code",
      "source": [
        "loan_data.isnull().sum()"
      ],
      "metadata": {
        "id": "P5jSaSkZGiQs",
        "colab": {
          "base_uri": "https://localhost:8080/"
        },
        "outputId": "a7551a5d-3e88-47be-c5a9-6d84c9913f5d"
      },
      "execution_count": 6,
      "outputs": [
        {
          "output_type": "execute_result",
          "data": {
            "text/plain": [
              "credit.policy        0\n",
              "purpose              0\n",
              "int.rate             0\n",
              "installment          0\n",
              "log.annual.inc       0\n",
              "dti                  0\n",
              "fico                 0\n",
              "days.with.cr.line    0\n",
              "revol.bal            0\n",
              "revol.util           0\n",
              "inq.last.6mths       0\n",
              "delinq.2yrs          0\n",
              "pub.rec              0\n",
              "not.fully.paid       0\n",
              "dtype: int64"
            ]
          },
          "metadata": {},
          "execution_count": 6
        }
      ]
    },
    {
      "cell_type": "code",
      "source": [
        "loan_data.dtypes"
      ],
      "metadata": {
        "id": "L9D4sHB_I-EY",
        "colab": {
          "base_uri": "https://localhost:8080/"
        },
        "outputId": "9be31a70-c5b2-48e5-cb3c-d2d46c811bba"
      },
      "execution_count": 7,
      "outputs": [
        {
          "output_type": "execute_result",
          "data": {
            "text/plain": [
              "credit.policy          int64\n",
              "purpose               object\n",
              "int.rate             float64\n",
              "installment          float64\n",
              "log.annual.inc       float64\n",
              "dti                  float64\n",
              "fico                   int64\n",
              "days.with.cr.line    float64\n",
              "revol.bal              int64\n",
              "revol.util           float64\n",
              "inq.last.6mths         int64\n",
              "delinq.2yrs            int64\n",
              "pub.rec                int64\n",
              "not.fully.paid         int64\n",
              "dtype: object"
            ]
          },
          "metadata": {},
          "execution_count": 7
        }
      ]
    },
    {
      "cell_type": "code",
      "source": [
        "# Use labeleconder to handle categorical data\n",
        "le = LabelEncoder()\n",
        "\n",
        "for i in loan_data.columns:\n",
        "    if loan_data[i].dtypes == 'object':\n",
        "      print(f'Label Encoding: {i} - {loan_data[i].nunique() } ')\n",
        "      loan_data[i] = le.fit_transform(loan_data[i])"
      ],
      "metadata": {
        "id": "zVB4RkNOGmF1",
        "colab": {
          "base_uri": "https://localhost:8080/"
        },
        "outputId": "0b377bbb-405a-4c4e-9998-ddb3f3e1b0ef"
      },
      "execution_count": 8,
      "outputs": [
        {
          "output_type": "stream",
          "name": "stdout",
          "text": [
            "Label Encoding: purpose - 7 \n"
          ]
        }
      ]
    },
    {
      "cell_type": "code",
      "source": [
        "loan_data.head()"
      ],
      "metadata": {
        "id": "c6CHn_1fG0Cu",
        "colab": {
          "base_uri": "https://localhost:8080/",
          "height": 270
        },
        "outputId": "36053d98-5a47-4d87-ab86-f2547132c716"
      },
      "execution_count": 9,
      "outputs": [
        {
          "output_type": "execute_result",
          "data": {
            "text/html": [
              "\n",
              "  <div id=\"df-4d183326-8850-4ecb-8fa1-5e919a0f1429\">\n",
              "    <div class=\"colab-df-container\">\n",
              "      <div>\n",
              "<style scoped>\n",
              "    .dataframe tbody tr th:only-of-type {\n",
              "        vertical-align: middle;\n",
              "    }\n",
              "\n",
              "    .dataframe tbody tr th {\n",
              "        vertical-align: top;\n",
              "    }\n",
              "\n",
              "    .dataframe thead th {\n",
              "        text-align: right;\n",
              "    }\n",
              "</style>\n",
              "<table border=\"1\" class=\"dataframe\">\n",
              "  <thead>\n",
              "    <tr style=\"text-align: right;\">\n",
              "      <th></th>\n",
              "      <th>credit.policy</th>\n",
              "      <th>purpose</th>\n",
              "      <th>int.rate</th>\n",
              "      <th>installment</th>\n",
              "      <th>log.annual.inc</th>\n",
              "      <th>dti</th>\n",
              "      <th>fico</th>\n",
              "      <th>days.with.cr.line</th>\n",
              "      <th>revol.bal</th>\n",
              "      <th>revol.util</th>\n",
              "      <th>inq.last.6mths</th>\n",
              "      <th>delinq.2yrs</th>\n",
              "      <th>pub.rec</th>\n",
              "      <th>not.fully.paid</th>\n",
              "    </tr>\n",
              "  </thead>\n",
              "  <tbody>\n",
              "    <tr>\n",
              "      <th>0</th>\n",
              "      <td>1</td>\n",
              "      <td>2</td>\n",
              "      <td>0.1189</td>\n",
              "      <td>829.10</td>\n",
              "      <td>11.350407</td>\n",
              "      <td>19.48</td>\n",
              "      <td>737</td>\n",
              "      <td>5639.958333</td>\n",
              "      <td>28854</td>\n",
              "      <td>52.1</td>\n",
              "      <td>0</td>\n",
              "      <td>0</td>\n",
              "      <td>0</td>\n",
              "      <td>0</td>\n",
              "    </tr>\n",
              "    <tr>\n",
              "      <th>1</th>\n",
              "      <td>1</td>\n",
              "      <td>1</td>\n",
              "      <td>0.1071</td>\n",
              "      <td>228.22</td>\n",
              "      <td>11.082143</td>\n",
              "      <td>14.29</td>\n",
              "      <td>707</td>\n",
              "      <td>2760.000000</td>\n",
              "      <td>33623</td>\n",
              "      <td>76.7</td>\n",
              "      <td>0</td>\n",
              "      <td>0</td>\n",
              "      <td>0</td>\n",
              "      <td>0</td>\n",
              "    </tr>\n",
              "    <tr>\n",
              "      <th>2</th>\n",
              "      <td>1</td>\n",
              "      <td>2</td>\n",
              "      <td>0.1357</td>\n",
              "      <td>366.86</td>\n",
              "      <td>10.373491</td>\n",
              "      <td>11.63</td>\n",
              "      <td>682</td>\n",
              "      <td>4710.000000</td>\n",
              "      <td>3511</td>\n",
              "      <td>25.6</td>\n",
              "      <td>1</td>\n",
              "      <td>0</td>\n",
              "      <td>0</td>\n",
              "      <td>0</td>\n",
              "    </tr>\n",
              "    <tr>\n",
              "      <th>3</th>\n",
              "      <td>1</td>\n",
              "      <td>2</td>\n",
              "      <td>0.1008</td>\n",
              "      <td>162.34</td>\n",
              "      <td>11.350407</td>\n",
              "      <td>8.10</td>\n",
              "      <td>712</td>\n",
              "      <td>2699.958333</td>\n",
              "      <td>33667</td>\n",
              "      <td>73.2</td>\n",
              "      <td>1</td>\n",
              "      <td>0</td>\n",
              "      <td>0</td>\n",
              "      <td>0</td>\n",
              "    </tr>\n",
              "    <tr>\n",
              "      <th>4</th>\n",
              "      <td>1</td>\n",
              "      <td>1</td>\n",
              "      <td>0.1426</td>\n",
              "      <td>102.92</td>\n",
              "      <td>11.299732</td>\n",
              "      <td>14.97</td>\n",
              "      <td>667</td>\n",
              "      <td>4066.000000</td>\n",
              "      <td>4740</td>\n",
              "      <td>39.5</td>\n",
              "      <td>0</td>\n",
              "      <td>1</td>\n",
              "      <td>0</td>\n",
              "      <td>0</td>\n",
              "    </tr>\n",
              "  </tbody>\n",
              "</table>\n",
              "</div>\n",
              "      <button class=\"colab-df-convert\" onclick=\"convertToInteractive('df-4d183326-8850-4ecb-8fa1-5e919a0f1429')\"\n",
              "              title=\"Convert this dataframe to an interactive table.\"\n",
              "              style=\"display:none;\">\n",
              "        \n",
              "  <svg xmlns=\"http://www.w3.org/2000/svg\" height=\"24px\"viewBox=\"0 0 24 24\"\n",
              "       width=\"24px\">\n",
              "    <path d=\"M0 0h24v24H0V0z\" fill=\"none\"/>\n",
              "    <path d=\"M18.56 5.44l.94 2.06.94-2.06 2.06-.94-2.06-.94-.94-2.06-.94 2.06-2.06.94zm-11 1L8.5 8.5l.94-2.06 2.06-.94-2.06-.94L8.5 2.5l-.94 2.06-2.06.94zm10 10l.94 2.06.94-2.06 2.06-.94-2.06-.94-.94-2.06-.94 2.06-2.06.94z\"/><path d=\"M17.41 7.96l-1.37-1.37c-.4-.4-.92-.59-1.43-.59-.52 0-1.04.2-1.43.59L10.3 9.45l-7.72 7.72c-.78.78-.78 2.05 0 2.83L4 21.41c.39.39.9.59 1.41.59.51 0 1.02-.2 1.41-.59l7.78-7.78 2.81-2.81c.8-.78.8-2.07 0-2.86zM5.41 20L4 18.59l7.72-7.72 1.47 1.35L5.41 20z\"/>\n",
              "  </svg>\n",
              "      </button>\n",
              "      \n",
              "  <style>\n",
              "    .colab-df-container {\n",
              "      display:flex;\n",
              "      flex-wrap:wrap;\n",
              "      gap: 12px;\n",
              "    }\n",
              "\n",
              "    .colab-df-convert {\n",
              "      background-color: #E8F0FE;\n",
              "      border: none;\n",
              "      border-radius: 50%;\n",
              "      cursor: pointer;\n",
              "      display: none;\n",
              "      fill: #1967D2;\n",
              "      height: 32px;\n",
              "      padding: 0 0 0 0;\n",
              "      width: 32px;\n",
              "    }\n",
              "\n",
              "    .colab-df-convert:hover {\n",
              "      background-color: #E2EBFA;\n",
              "      box-shadow: 0px 1px 2px rgba(60, 64, 67, 0.3), 0px 1px 3px 1px rgba(60, 64, 67, 0.15);\n",
              "      fill: #174EA6;\n",
              "    }\n",
              "\n",
              "    [theme=dark] .colab-df-convert {\n",
              "      background-color: #3B4455;\n",
              "      fill: #D2E3FC;\n",
              "    }\n",
              "\n",
              "    [theme=dark] .colab-df-convert:hover {\n",
              "      background-color: #434B5C;\n",
              "      box-shadow: 0px 1px 3px 1px rgba(0, 0, 0, 0.15);\n",
              "      filter: drop-shadow(0px 1px 2px rgba(0, 0, 0, 0.3));\n",
              "      fill: #FFFFFF;\n",
              "    }\n",
              "  </style>\n",
              "\n",
              "      <script>\n",
              "        const buttonEl =\n",
              "          document.querySelector('#df-4d183326-8850-4ecb-8fa1-5e919a0f1429 button.colab-df-convert');\n",
              "        buttonEl.style.display =\n",
              "          google.colab.kernel.accessAllowed ? 'block' : 'none';\n",
              "\n",
              "        async function convertToInteractive(key) {\n",
              "          const element = document.querySelector('#df-4d183326-8850-4ecb-8fa1-5e919a0f1429');\n",
              "          const dataTable =\n",
              "            await google.colab.kernel.invokeFunction('convertToInteractive',\n",
              "                                                     [key], {});\n",
              "          if (!dataTable) return;\n",
              "\n",
              "          const docLinkHtml = 'Like what you see? Visit the ' +\n",
              "            '<a target=\"_blank\" href=https://colab.research.google.com/notebooks/data_table.ipynb>data table notebook</a>'\n",
              "            + ' to learn more about interactive tables.';\n",
              "          element.innerHTML = '';\n",
              "          dataTable['output_type'] = 'display_data';\n",
              "          await google.colab.output.renderOutput(dataTable, element);\n",
              "          const docLink = document.createElement('div');\n",
              "          docLink.innerHTML = docLinkHtml;\n",
              "          element.appendChild(docLink);\n",
              "        }\n",
              "      </script>\n",
              "    </div>\n",
              "  </div>\n",
              "  "
            ],
            "text/plain": [
              "   credit.policy  purpose  int.rate  installment  log.annual.inc    dti  fico  \\\n",
              "0              1        2    0.1189       829.10       11.350407  19.48   737   \n",
              "1              1        1    0.1071       228.22       11.082143  14.29   707   \n",
              "2              1        2    0.1357       366.86       10.373491  11.63   682   \n",
              "3              1        2    0.1008       162.34       11.350407   8.10   712   \n",
              "4              1        1    0.1426       102.92       11.299732  14.97   667   \n",
              "\n",
              "   days.with.cr.line  revol.bal  revol.util  inq.last.6mths  delinq.2yrs  \\\n",
              "0        5639.958333      28854        52.1               0            0   \n",
              "1        2760.000000      33623        76.7               0            0   \n",
              "2        4710.000000       3511        25.6               1            0   \n",
              "3        2699.958333      33667        73.2               1            0   \n",
              "4        4066.000000       4740        39.5               0            1   \n",
              "\n",
              "   pub.rec  not.fully.paid  \n",
              "0        0               0  \n",
              "1        0               0  \n",
              "2        0               0  \n",
              "3        0               0  \n",
              "4        0               0  "
            ]
          },
          "metadata": {},
          "execution_count": 9
        }
      ]
    },
    {
      "cell_type": "code",
      "source": [
        "# Check for the feature with the highest correction with the target\n",
        "loan_data.corr().abs()['not.fully.paid'].sort_values(ascending = False)"
      ],
      "metadata": {
        "id": "HJZxqMP-Kd_g",
        "colab": {
          "base_uri": "https://localhost:8080/"
        },
        "outputId": "9d6ad2fa-c157-431a-bd58-7b0e2369e65c"
      },
      "execution_count": 10,
      "outputs": [
        {
          "output_type": "execute_result",
          "data": {
            "text/plain": [
              "not.fully.paid       1.000000\n",
              "int.rate             0.159552\n",
              "credit.policy        0.158119\n",
              "fico                 0.149666\n",
              "inq.last.6mths       0.149452\n",
              "revol.util           0.082088\n",
              "revol.bal            0.053699\n",
              "installment          0.049955\n",
              "pub.rec              0.048634\n",
              "purpose              0.047907\n",
              "dti                  0.037362\n",
              "log.annual.inc       0.033439\n",
              "days.with.cr.line    0.029237\n",
              "delinq.2yrs          0.008881\n",
              "Name: not.fully.paid, dtype: float64"
            ]
          },
          "metadata": {},
          "execution_count": 10
        }
      ]
    },
    {
      "cell_type": "code",
      "source": [
        "# Visualize it with a contour plot\n",
        "\n",
        "f,axes = plt.subplots(1,1,figsize = (12,12))\n",
        "sns.heatmap(loan_data.corr(), annot = True, ax = axes)"
      ],
      "metadata": {
        "id": "mnwZhyPsKoPs",
        "colab": {
          "base_uri": "https://localhost:8080/",
          "height": 793
        },
        "outputId": "c7762f9f-a484-4d44-d400-4eb302ceef31"
      },
      "execution_count": 11,
      "outputs": [
        {
          "output_type": "execute_result",
          "data": {
            "text/plain": [
              "<matplotlib.axes._subplots.AxesSubplot at 0x7fdbafd12b10>"
            ]
          },
          "metadata": {},
          "execution_count": 11
        },
        {
          "output_type": "display_data",
          "data": {
            "image/png": "[encoded data removed]",
            "text/plain": [
              "<Figure size 864x864 with 2 Axes>"
            ]
          },
          "metadata": {
            "needs_background": "light"
          }
        }
      ]
    },
    {
      "cell_type": "markdown",
      "source": [
        "#### From above, the correlations are pretty okay. No strong correlations between the target and any of the features. Let's build the model with all the features and decide."
      ],
      "metadata": {
        "id": "DZMWyau8NSe2"
      }
    },
    {
      "cell_type": "code",
      "source": [
        "# Some EDA\n",
        "data_policy = loan_data.copy()\n",
        "data_policy['credit.policy'] = data_policy['credit.policy'].map({0: 'Non Credit Underwriting Criteria',\n",
        "                                                                  1: 'Credit Underwriting Criteria'})\n",
        "data_policy['Will Default'] = data_policy['not.fully.paid'].map({0: 'No', 1: 'Yes'})\n",
        "plt.figure(figsize=(14,6), dpi = 100)\n",
        "sns.countplot(data = data_policy, x = 'credit.policy', hue= 'not.fully.paid', palette = 'dark')\n",
        "plt.title('Distribution of Credit Policy')\n",
        "plt.show()"
      ],
      "metadata": {
        "id": "qRXf7k5ZL4am",
        "colab": {
          "base_uri": "https://localhost:8080/",
          "height": 411
        },
        "outputId": "0d5cca5f-ee4e-4a4f-8ed6-5a5b35e3af79"
      },
      "execution_count": 12,
      "outputs": [
        {
          "output_type": "display_data",
          "data": {
            "image/png": "[encoded data removed]",
            "text/plain": [
              "<Figure size 1400x600 with 1 Axes>"
            ]
          },
          "metadata": {
            "needs_background": "light"
          }
        }
      ]
    },
    {
      "cell_type": "code",
      "source": [
        "# Lets define X and y. None of the features strongly correlates with the target. So, none will be dropped.\n",
        "X = loan_data.drop(['not.fully.paid'],axis=1)\n",
        "y = loan_data['not.fully.paid']"
      ],
      "metadata": {
        "id": "qJara5xMFYIw"
      },
      "execution_count": 13,
      "outputs": []
    },
    {
      "cell_type": "code",
      "source": [
        "# The target is imbalance data\n",
        "y.value_counts()"
      ],
      "metadata": {
        "id": "19OH5Qk9MVpA",
        "colab": {
          "base_uri": "https://localhost:8080/"
        },
        "outputId": "c3b8361a-c3f2-417d-ce0d-c320e716889d"
      },
      "execution_count": 14,
      "outputs": [
        {
          "output_type": "execute_result",
          "data": {
            "text/plain": [
              "0    8045\n",
              "1    1533\n",
              "Name: not.fully.paid, dtype: int64"
            ]
          },
          "metadata": {},
          "execution_count": 14
        }
      ]
    },
    {
      "cell_type": "code",
      "source": [
        "# Now we routinely handle the imbalance\n",
        "X, y = SMOTE().fit_resample(X,y)"
      ],
      "metadata": {
        "id": "u34NnYW5u6m7"
      },
      "execution_count": 15,
      "outputs": []
    },
    {
      "cell_type": "code",
      "source": [
        "# Check to make sure the resampling was done correctly\n",
        "y.value_counts()"
      ],
      "metadata": {
        "id": "b5w06C2oN7aH",
        "colab": {
          "base_uri": "https://localhost:8080/"
        },
        "outputId": "ac26a32f-474c-4ec6-f31e-6e2c2a71e3b0"
      },
      "execution_count": 16,
      "outputs": [
        {
          "output_type": "execute_result",
          "data": {
            "text/plain": [
              "0    8045\n",
              "1    8045\n",
              "Name: not.fully.paid, dtype: int64"
            ]
          },
          "metadata": {},
          "execution_count": 16
        }
      ]
    },
    {
      "cell_type": "code",
      "source": [
        "# Large variations, necessitating the need for scaling\n",
        "sc = StandardScaler()\n",
        "df_names = X.columns\n",
        "X_scaled = sc.fit_transform(X)\n",
        "X_scaled = pd.DataFrame(X_scaled,columns=df_names)"
      ],
      "metadata": {
        "id": "Ya75HaFoN96b"
      },
      "execution_count": 17,
      "outputs": []
    },
    {
      "cell_type": "code",
      "source": [
        "#SPLITTING X and y\n",
        "X_train, X_test, y_train, y_test = train_test_split(X_scaled, y, test_size = 0.2, random_state = 110)"
      ],
      "metadata": {
        "id": "eVS7--LpPPYc"
      },
      "execution_count": 18,
      "outputs": []
    },
    {
      "cell_type": "code",
      "source": [
        "print(X_train.shape)\n",
        "print(X_test.shape)\n",
        "print(y_train.shape)\n",
        "print(y_test.shape)"
      ],
      "metadata": {
        "id": "AKmlmbcvPiUE",
        "colab": {
          "base_uri": "https://localhost:8080/"
        },
        "outputId": "a653f442-4e78-4600-bf5e-c52eccaa1575"
      },
      "execution_count": 19,
      "outputs": [
        {
          "output_type": "stream",
          "name": "stdout",
          "text": [
            "(12872, 13)\n",
            "(3218, 13)\n",
            "(12872,)\n",
            "(3218,)\n"
          ]
        }
      ]
    },
    {
      "cell_type": "code",
      "source": [
        "# Build the model architecture \n",
        "input_shape = [X.shape[1]]\n",
        "model = keras.Sequential(\n",
        "    [\n",
        "        keras.layers.Dense(\n",
        "            200, activation=\"relu\", input_shape=input_shape\n",
        "        ), # Input + hidden layer\n",
        "        keras.layers.Dense(150, activation=\"relu\"), # hidden layer\n",
        "        keras.layers.Dropout(0.3), #Aviod or at least reduce overfitting\n",
        "        keras.layers.Dense(150, activation=\"relu\"),\n",
        "        keras.layers.Dropout(0.3), #Aviod or at least reduce overfitting\n",
        "        keras.layers.Dense(1, activation=\"sigmoid\"), #output layer\n",
        "    ]\n",
        ")"
      ],
      "metadata": {
        "id": "XcrkfH0uXZzf"
      },
      "execution_count": 20,
      "outputs": []
    },
    {
      "cell_type": "code",
      "source": [
        "# Compile the model\n",
        "model.compile(optimizer='Adam',\n",
        "              loss = 'binary_crossentropy',\n",
        "              metrics = ['binary_accuracy'])\n",
        "model.summary()"
      ],
      "metadata": {
        "id": "7mDCaUCxTKp4",
        "colab": {
          "base_uri": "https://localhost:8080/"
        },
        "outputId": "2cb4d341-4832-4ff0-a9a9-0388aa9a269b"
      },
      "execution_count": 21,
      "outputs": [
        {
          "output_type": "stream",
          "name": "stdout",
          "text": [
            "Model: \"sequential\"\n",
            "_________________________________________________________________\n",
            " Layer (type)                Output Shape              Param #   \n",
            "=================================================================\n",
            " dense (Dense)               (None, 200)               2800      \n",
            "                                                                 \n",
            " dense_1 (Dense)             (None, 150)               30150     \n",
            "                                                                 \n",
            " dropout (Dropout)           (None, 150)               0         \n",
            "                                                                 \n",
            " dense_2 (Dense)             (None, 150)               22650     \n",
            "                                                                 \n",
            " dropout_1 (Dropout)         (None, 150)               0         \n",
            "                                                                 \n",
            " dense_3 (Dense)             (None, 1)                 151       \n",
            "                                                                 \n",
            "=================================================================\n",
            "Total params: 55,751\n",
            "Trainable params: 55,751\n",
            "Non-trainable params: 0\n",
            "_________________________________________________________________\n"
          ]
        }
      ]
    },
    {
      "cell_type": "code",
      "source": [
        "# Fit the model\n",
        "early_stopping = keras.callbacks.EarlyStopping(patience = 25, min_delta = 0.001, \n",
        "                                               restore_best_weights =True,monitor='val_loss' )\n",
        "mdl_history = model.fit(X_train,y_train,\n",
        "                        epochs=1000,\n",
        "                        validation_data=(X_test,y_test),\n",
        "                        shuffle = True,\n",
        "                        batch_size = 50,\n",
        "                        callbacks=[early_stopping],\n",
        "                        verbose = 1,)"
      ],
      "metadata": {
        "id": "e6GQua2XQSsz",
        "colab": {
          "base_uri": "https://localhost:8080/"
        },
        "outputId": "d27ff495-1659-4582-f770-50731f001d70"
      },
      "execution_count": 22,
      "outputs": [
        {
          "output_type": "stream",
          "name": "stdout",
          "text": [
            "Epoch 1/1000\n",
            "258/258 [==============================] - 6s 8ms/step - loss: 0.5997 - binary_accuracy: 0.6659 - val_loss: 0.5796 - val_binary_accuracy: 0.6821\n",
            "Epoch 2/1000\n",
            "258/258 [==============================] - 2s 7ms/step - loss: 0.5729 - binary_accuracy: 0.6942 - val_loss: 0.5664 - val_binary_accuracy: 0.6955\n",
            "Epoch 3/1000\n",
            "258/258 [==============================] - 2s 7ms/step - loss: 0.5610 - binary_accuracy: 0.7021 - val_loss: 0.5596 - val_binary_accuracy: 0.7029\n",
            "Epoch 4/1000\n",
            "258/258 [==============================] - 2s 7ms/step - loss: 0.5517 - binary_accuracy: 0.7063 - val_loss: 0.5589 - val_binary_accuracy: 0.7001\n",
            "Epoch 5/1000\n",
            "258/258 [==============================] - 1s 4ms/step - loss: 0.5437 - binary_accuracy: 0.7132 - val_loss: 0.5525 - val_binary_accuracy: 0.7057\n",
            "Epoch 6/1000\n",
            "258/258 [==============================] - 1s 3ms/step - loss: 0.5370 - binary_accuracy: 0.7227 - val_loss: 0.5461 - val_binary_accuracy: 0.7116\n",
            "Epoch 7/1000\n",
            "258/258 [==============================] - 1s 4ms/step - loss: 0.5263 - binary_accuracy: 0.7293 - val_loss: 0.5465 - val_binary_accuracy: 0.7116\n",
            "Epoch 8/1000\n",
            "258/258 [==============================] - 1s 4ms/step - loss: 0.5171 - binary_accuracy: 0.7376 - val_loss: 0.5394 - val_binary_accuracy: 0.7197\n",
            "Epoch 9/1000\n",
            "258/258 [==============================] - 1s 3ms/step - loss: 0.5102 - binary_accuracy: 0.7418 - val_loss: 0.5293 - val_binary_accuracy: 0.7241\n",
            "Epoch 10/1000\n",
            "258/258 [==============================] - 1s 3ms/step - loss: 0.5031 - binary_accuracy: 0.7431 - val_loss: 0.5298 - val_binary_accuracy: 0.7209\n",
            "Epoch 11/1000\n",
            "258/258 [==============================] - 1s 3ms/step - loss: 0.4908 - binary_accuracy: 0.7533 - val_loss: 0.5486 - val_binary_accuracy: 0.7116\n",
            "Epoch 12/1000\n",
            "258/258 [==============================] - 1s 3ms/step - loss: 0.4850 - binary_accuracy: 0.7524 - val_loss: 0.5234 - val_binary_accuracy: 0.7321\n",
            "Epoch 13/1000\n",
            "258/258 [==============================] - 1s 4ms/step - loss: 0.4769 - binary_accuracy: 0.7654 - val_loss: 0.5265 - val_binary_accuracy: 0.7296\n",
            "Epoch 14/1000\n",
            "258/258 [==============================] - 1s 3ms/step - loss: 0.4666 - binary_accuracy: 0.7641 - val_loss: 0.5185 - val_binary_accuracy: 0.7359\n",
            "Epoch 15/1000\n",
            "258/258 [==============================] - 1s 4ms/step - loss: 0.4623 - binary_accuracy: 0.7732 - val_loss: 0.5159 - val_binary_accuracy: 0.7343\n",
            "Epoch 16/1000\n",
            "258/258 [==============================] - 1s 4ms/step - loss: 0.4524 - binary_accuracy: 0.7803 - val_loss: 0.5120 - val_binary_accuracy: 0.7368\n",
            "Epoch 17/1000\n",
            "258/258 [==============================] - 1s 3ms/step - loss: 0.4452 - binary_accuracy: 0.7805 - val_loss: 0.5097 - val_binary_accuracy: 0.7467\n",
            "Epoch 18/1000\n",
            "258/258 [==============================] - 1s 3ms/step - loss: 0.4418 - binary_accuracy: 0.7839 - val_loss: 0.5105 - val_binary_accuracy: 0.7380\n",
            "Epoch 19/1000\n",
            "258/258 [==============================] - 1s 4ms/step - loss: 0.4284 - binary_accuracy: 0.7925 - val_loss: 0.5180 - val_binary_accuracy: 0.7492\n",
            "Epoch 20/1000\n",
            "258/258 [==============================] - 1s 4ms/step - loss: 0.4198 - binary_accuracy: 0.8000 - val_loss: 0.5016 - val_binary_accuracy: 0.7498\n",
            "Epoch 21/1000\n",
            "258/258 [==============================] - 1s 3ms/step - loss: 0.4185 - binary_accuracy: 0.8024 - val_loss: 0.5153 - val_binary_accuracy: 0.7439\n",
            "Epoch 22/1000\n",
            "258/258 [==============================] - 1s 3ms/step - loss: 0.4090 - binary_accuracy: 0.8034 - val_loss: 0.5092 - val_binary_accuracy: 0.7502\n",
            "Epoch 23/1000\n",
            "258/258 [==============================] - 1s 3ms/step - loss: 0.3970 - binary_accuracy: 0.8135 - val_loss: 0.5112 - val_binary_accuracy: 0.7502\n",
            "Epoch 24/1000\n",
            "258/258 [==============================] - 1s 4ms/step - loss: 0.3951 - binary_accuracy: 0.8155 - val_loss: 0.5108 - val_binary_accuracy: 0.7533\n",
            "Epoch 25/1000\n",
            "258/258 [==============================] - 1s 4ms/step - loss: 0.3863 - binary_accuracy: 0.8169 - val_loss: 0.5246 - val_binary_accuracy: 0.7508\n",
            "Epoch 26/1000\n",
            "258/258 [==============================] - 1s 3ms/step - loss: 0.3746 - binary_accuracy: 0.8229 - val_loss: 0.5007 - val_binary_accuracy: 0.7617\n",
            "Epoch 27/1000\n",
            "258/258 [==============================] - 1s 4ms/step - loss: 0.3737 - binary_accuracy: 0.8224 - val_loss: 0.5106 - val_binary_accuracy: 0.7635\n",
            "Epoch 28/1000\n",
            "258/258 [==============================] - 1s 4ms/step - loss: 0.3622 - binary_accuracy: 0.8318 - val_loss: 0.5130 - val_binary_accuracy: 0.7632\n",
            "Epoch 29/1000\n",
            "258/258 [==============================] - 1s 4ms/step - loss: 0.3603 - binary_accuracy: 0.8313 - val_loss: 0.5221 - val_binary_accuracy: 0.7564\n",
            "Epoch 30/1000\n",
            "258/258 [==============================] - 1s 4ms/step - loss: 0.3552 - binary_accuracy: 0.8337 - val_loss: 0.5085 - val_binary_accuracy: 0.7679\n",
            "Epoch 31/1000\n",
            "258/258 [==============================] - 1s 4ms/step - loss: 0.3442 - binary_accuracy: 0.8412 - val_loss: 0.5186 - val_binary_accuracy: 0.7620\n",
            "Epoch 32/1000\n",
            "258/258 [==============================] - 1s 3ms/step - loss: 0.3448 - binary_accuracy: 0.8395 - val_loss: 0.5103 - val_binary_accuracy: 0.7551\n",
            "Epoch 33/1000\n",
            "258/258 [==============================] - 1s 3ms/step - loss: 0.3358 - binary_accuracy: 0.8449 - val_loss: 0.5256 - val_binary_accuracy: 0.7617\n",
            "Epoch 34/1000\n",
            "258/258 [==============================] - 1s 4ms/step - loss: 0.3308 - binary_accuracy: 0.8499 - val_loss: 0.5103 - val_binary_accuracy: 0.7710\n",
            "Epoch 35/1000\n",
            "258/258 [==============================] - 1s 3ms/step - loss: 0.3234 - binary_accuracy: 0.8521 - val_loss: 0.5101 - val_binary_accuracy: 0.7679\n",
            "Epoch 36/1000\n",
            "258/258 [==============================] - 1s 4ms/step - loss: 0.3167 - binary_accuracy: 0.8560 - val_loss: 0.5218 - val_binary_accuracy: 0.7735\n",
            "Epoch 37/1000\n",
            "258/258 [==============================] - 1s 4ms/step - loss: 0.3204 - binary_accuracy: 0.8534 - val_loss: 0.5444 - val_binary_accuracy: 0.7669\n",
            "Epoch 38/1000\n",
            "258/258 [==============================] - 1s 3ms/step - loss: 0.3102 - binary_accuracy: 0.8572 - val_loss: 0.5173 - val_binary_accuracy: 0.7682\n",
            "Epoch 39/1000\n",
            "258/258 [==============================] - 1s 3ms/step - loss: 0.3063 - binary_accuracy: 0.8618 - val_loss: 0.5314 - val_binary_accuracy: 0.7778\n",
            "Epoch 40/1000\n",
            "258/258 [==============================] - 1s 4ms/step - loss: 0.2978 - binary_accuracy: 0.8649 - val_loss: 0.5330 - val_binary_accuracy: 0.7732\n",
            "Epoch 41/1000\n",
            "258/258 [==============================] - 1s 3ms/step - loss: 0.2926 - binary_accuracy: 0.8702 - val_loss: 0.5389 - val_binary_accuracy: 0.7747\n",
            "Epoch 42/1000\n",
            "258/258 [==============================] - 1s 3ms/step - loss: 0.2887 - binary_accuracy: 0.8692 - val_loss: 0.5431 - val_binary_accuracy: 0.7766\n",
            "Epoch 43/1000\n",
            "258/258 [==============================] - 1s 4ms/step - loss: 0.2860 - binary_accuracy: 0.8719 - val_loss: 0.5449 - val_binary_accuracy: 0.7784\n",
            "Epoch 44/1000\n",
            "258/258 [==============================] - 1s 3ms/step - loss: 0.2794 - binary_accuracy: 0.8729 - val_loss: 0.5262 - val_binary_accuracy: 0.7843\n",
            "Epoch 45/1000\n",
            "258/258 [==============================] - 1s 4ms/step - loss: 0.2798 - binary_accuracy: 0.8738 - val_loss: 0.5380 - val_binary_accuracy: 0.7747\n"
          ]
        }
      ]
    },
    {
      "cell_type": "code",
      "source": [
        "mdl_history.history.keys()"
      ],
      "metadata": {
        "id": "qrEwkWlgUx1-",
        "colab": {
          "base_uri": "https://localhost:8080/"
        },
        "outputId": "0cea25a9-ce32-49fd-8b69-22d286594e43"
      },
      "execution_count": 23,
      "outputs": [
        {
          "output_type": "execute_result",
          "data": {
            "text/plain": [
              "dict_keys(['loss', 'binary_accuracy', 'val_loss', 'val_binary_accuracy'])"
            ]
          },
          "metadata": {},
          "execution_count": 23
        }
      ]
    },
    {
      "cell_type": "code",
      "source": [
        "hist = pd.DataFrame(mdl_history.history)\n",
        "hist['epoch'] = mdl_history.epoch\n",
        "hist.tail()"
      ],
      "metadata": {
        "id": "T6h_eMNZb8_j",
        "colab": {
          "base_uri": "https://localhost:8080/",
          "height": 206
        },
        "outputId": "a7399535-e4eb-4556-c6b7-063e57b36c9a"
      },
      "execution_count": 24,
      "outputs": [
        {
          "output_type": "execute_result",
          "data": {
            "text/html": [
              "\n",
              "  <div id=\"df-7c9ffa37-49df-41cf-b5f4-c9165b02051c\">\n",
              "    <div class=\"colab-df-container\">\n",
              "      <div>\n",
              "<style scoped>\n",
              "    .dataframe tbody tr th:only-of-type {\n",
              "        vertical-align: middle;\n",
              "    }\n",
              "\n",
              "    .dataframe tbody tr th {\n",
              "        vertical-align: top;\n",
              "    }\n",
              "\n",
              "    .dataframe thead th {\n",
              "        text-align: right;\n",
              "    }\n",
              "</style>\n",
              "<table border=\"1\" class=\"dataframe\">\n",
              "  <thead>\n",
              "    <tr style=\"text-align: right;\">\n",
              "      <th></th>\n",
              "      <th>loss</th>\n",
              "      <th>binary_accuracy</th>\n",
              "      <th>val_loss</th>\n",
              "      <th>val_binary_accuracy</th>\n",
              "      <th>epoch</th>\n",
              "    </tr>\n",
              "  </thead>\n",
              "  <tbody>\n",
              "    <tr>\n",
              "      <th>40</th>\n",
              "      <td>0.292595</td>\n",
              "      <td>0.870183</td>\n",
              "      <td>0.538894</td>\n",
              "      <td>0.774705</td>\n",
              "      <td>40</td>\n",
              "    </tr>\n",
              "    <tr>\n",
              "      <th>41</th>\n",
              "      <td>0.288693</td>\n",
              "      <td>0.869173</td>\n",
              "      <td>0.543065</td>\n",
              "      <td>0.776569</td>\n",
              "      <td>41</td>\n",
              "    </tr>\n",
              "    <tr>\n",
              "      <th>42</th>\n",
              "      <td>0.285993</td>\n",
              "      <td>0.871892</td>\n",
              "      <td>0.544926</td>\n",
              "      <td>0.778434</td>\n",
              "      <td>42</td>\n",
              "    </tr>\n",
              "    <tr>\n",
              "      <th>43</th>\n",
              "      <td>0.279366</td>\n",
              "      <td>0.872902</td>\n",
              "      <td>0.526185</td>\n",
              "      <td>0.784338</td>\n",
              "      <td>43</td>\n",
              "    </tr>\n",
              "    <tr>\n",
              "      <th>44</th>\n",
              "      <td>0.279770</td>\n",
              "      <td>0.873757</td>\n",
              "      <td>0.537972</td>\n",
              "      <td>0.774705</td>\n",
              "      <td>44</td>\n",
              "    </tr>\n",
              "  </tbody>\n",
              "</table>\n",
              "</div>\n",
              "      <button class=\"colab-df-convert\" onclick=\"convertToInteractive('df-7c9ffa37-49df-41cf-b5f4-c9165b02051c')\"\n",
              "              title=\"Convert this dataframe to an interactive table.\"\n",
              "              style=\"display:none;\">\n",
              "        \n",
              "  <svg xmlns=\"http://www.w3.org/2000/svg\" height=\"24px\"viewBox=\"0 0 24 24\"\n",
              "       width=\"24px\">\n",
              "    <path d=\"M0 0h24v24H0V0z\" fill=\"none\"/>\n",
              "    <path d=\"M18.56 5.44l.94 2.06.94-2.06 2.06-.94-2.06-.94-.94-2.06-.94 2.06-2.06.94zm-11 1L8.5 8.5l.94-2.06 2.06-.94-2.06-.94L8.5 2.5l-.94 2.06-2.06.94zm10 10l.94 2.06.94-2.06 2.06-.94-2.06-.94-.94-2.06-.94 2.06-2.06.94z\"/><path d=\"M17.41 7.96l-1.37-1.37c-.4-.4-.92-.59-1.43-.59-.52 0-1.04.2-1.43.59L10.3 9.45l-7.72 7.72c-.78.78-.78 2.05 0 2.83L4 21.41c.39.39.9.59 1.41.59.51 0 1.02-.2 1.41-.59l7.78-7.78 2.81-2.81c.8-.78.8-2.07 0-2.86zM5.41 20L4 18.59l7.72-7.72 1.47 1.35L5.41 20z\"/>\n",
              "  </svg>\n",
              "      </button>\n",
              "      \n",
              "  <style>\n",
              "    .colab-df-container {\n",
              "      display:flex;\n",
              "      flex-wrap:wrap;\n",
              "      gap: 12px;\n",
              "    }\n",
              "\n",
              "    .colab-df-convert {\n",
              "      background-color: #E8F0FE;\n",
              "      border: none;\n",
              "      border-radius: 50%;\n",
              "      cursor: pointer;\n",
              "      display: none;\n",
              "      fill: #1967D2;\n",
              "      height: 32px;\n",
              "      padding: 0 0 0 0;\n",
              "      width: 32px;\n",
              "    }\n",
              "\n",
              "    .colab-df-convert:hover {\n",
              "      background-color: #E2EBFA;\n",
              "      box-shadow: 0px 1px 2px rgba(60, 64, 67, 0.3), 0px 1px 3px 1px rgba(60, 64, 67, 0.15);\n",
              "      fill: #174EA6;\n",
              "    }\n",
              "\n",
              "    [theme=dark] .colab-df-convert {\n",
              "      background-color: #3B4455;\n",
              "      fill: #D2E3FC;\n",
              "    }\n",
              "\n",
              "    [theme=dark] .colab-df-convert:hover {\n",
              "      background-color: #434B5C;\n",
              "      box-shadow: 0px 1px 3px 1px rgba(0, 0, 0, 0.15);\n",
              "      filter: drop-shadow(0px 1px 2px rgba(0, 0, 0, 0.3));\n",
              "      fill: #FFFFFF;\n",
              "    }\n",
              "  </style>\n",
              "\n",
              "      <script>\n",
              "        const buttonEl =\n",
              "          document.querySelector('#df-7c9ffa37-49df-41cf-b5f4-c9165b02051c button.colab-df-convert');\n",
              "        buttonEl.style.display =\n",
              "          google.colab.kernel.accessAllowed ? 'block' : 'none';\n",
              "\n",
              "        async function convertToInteractive(key) {\n",
              "          const element = document.querySelector('#df-7c9ffa37-49df-41cf-b5f4-c9165b02051c');\n",
              "          const dataTable =\n",
              "            await google.colab.kernel.invokeFunction('convertToInteractive',\n",
              "                                                     [key], {});\n",
              "          if (!dataTable) return;\n",
              "\n",
              "          const docLinkHtml = 'Like what you see? Visit the ' +\n",
              "            '<a target=\"_blank\" href=https://colab.research.google.com/notebooks/data_table.ipynb>data table notebook</a>'\n",
              "            + ' to learn more about interactive tables.';\n",
              "          element.innerHTML = '';\n",
              "          dataTable['output_type'] = 'display_data';\n",
              "          await google.colab.output.renderOutput(dataTable, element);\n",
              "          const docLink = document.createElement('div');\n",
              "          docLink.innerHTML = docLinkHtml;\n",
              "          element.appendChild(docLink);\n",
              "        }\n",
              "      </script>\n",
              "    </div>\n",
              "  </div>\n",
              "  "
            ],
            "text/plain": [
              "        loss  binary_accuracy  val_loss  val_binary_accuracy  epoch\n",
              "40  0.292595         0.870183  0.538894             0.774705     40\n",
              "41  0.288693         0.869173  0.543065             0.776569     41\n",
              "42  0.285993         0.871892  0.544926             0.778434     42\n",
              "43  0.279366         0.872902  0.526185             0.784338     43\n",
              "44  0.279770         0.873757  0.537972             0.774705     44"
            ]
          },
          "metadata": {},
          "execution_count": 24
        }
      ]
    },
    {
      "cell_type": "code",
      "source": [
        "plt.plot(mdl_history.history['binary_accuracy'])\n",
        "plt.plot(mdl_history.history['val_binary_accuracy'])\n",
        "plt.xlabel('Epoch')\n",
        "plt.ylabel('Accuracy')\n",
        "plt.legend(['Train','Validate'])"
      ],
      "metadata": {
        "id": "WcHY_6hKcBm9",
        "colab": {
          "base_uri": "https://localhost:8080/",
          "height": 296
        },
        "outputId": "56e68137-66fd-4518-8243-56ba36ad41ee"
      },
      "execution_count": 25,
      "outputs": [
        {
          "output_type": "execute_result",
          "data": {
            "text/plain": [
              "<matplotlib.legend.Legend at 0x7fdb900be450>"
            ]
          },
          "metadata": {},
          "execution_count": 25
        },
        {
          "output_type": "display_data",
          "data": {
            "image/png": "[encoded data removed]",
            "text/plain": [
              "<Figure size 432x288 with 1 Axes>"
            ]
          },
          "metadata": {
            "needs_background": "light"
          }
        }
      ]
    },
    {
      "cell_type": "code",
      "source": [
        "plt.plot(mdl_history.history['val_loss'], label='val_loss')\n",
        "plt.xlabel('Epoch')\n",
        "plt.ylabel('Error')\n",
        "plt.legend()\n",
        "plt.grid(True)"
      ],
      "metadata": {
        "id": "uifMd9pJJf5O",
        "colab": {
          "base_uri": "https://localhost:8080/",
          "height": 279
        },
        "outputId": "89bb1e6f-07f1-4bac-e449-d6b5d68dbec7"
      },
      "execution_count": 26,
      "outputs": [
        {
          "output_type": "display_data",
          "data": {
            "image/png": "[encoded data removed]",
            "text/plain": [
              "<Figure size 432x288 with 1 Axes>"
            ]
          },
          "metadata": {
            "needs_background": "light"
          }
        }
      ]
    },
    {
      "cell_type": "code",
      "source": [
        "plt.plot(mdl_history.history['loss'], label='training_loss')\n",
        "plt.xlabel('Epoch')\n",
        "plt.ylabel('Error')\n",
        "plt.legend()\n",
        "plt.grid(True)"
      ],
      "metadata": {
        "id": "rlsARiYzJgx9",
        "colab": {
          "base_uri": "https://localhost:8080/",
          "height": 279
        },
        "outputId": "c8cd44e6-072d-4ddc-affc-9bccd4672bc6"
      },
      "execution_count": 27,
      "outputs": [
        {
          "output_type": "display_data",
          "data": {
            "image/png": "[encoded data removed]",
            "text/plain": [
              "<Figure size 432x288 with 1 Axes>"
            ]
          },
          "metadata": {
            "needs_background": "light"
          }
        }
      ]
    },
    {
      "cell_type": "code",
      "source": [
        "predictions =model.predict(X_test).astype(\"int32\")             "
      ],
      "metadata": {
        "id": "tfoP8URVcK0H"
      },
      "execution_count": 28,
      "outputs": []
    },
    {
      "cell_type": "code",
      "source": [
        "# Show the confusion matrix\n",
        "y_pred = []\n",
        "for val in predictions:\n",
        "    y_pred.append(np.argmax(val))   \n",
        "#convert 0 1 to 1 and 1 0 as 0\n",
        "cm = metrics.confusion_matrix(y_test,y_pred)\n",
        "print(cm)"
      ],
      "metadata": {
        "id": "NpvCN8JKgVEe",
        "colab": {
          "base_uri": "https://localhost:8080/"
        },
        "outputId": "f558e220-b16c-4986-a317-ba0d27fcd28f"
      },
      "execution_count": 29,
      "outputs": [
        {
          "output_type": "stream",
          "name": "stdout",
          "text": [
            "[[1589    0]\n",
            " [1629    0]]\n"
          ]
        }
      ]
    },
    {
      "cell_type": "code",
      "source": [
        "# Plot the classification\n",
        "creport=metrics.classification_report(y_test,predictions)\n",
        "print(creport)"
      ],
      "metadata": {
        "id": "iQ_dxpVNiY9W",
        "colab": {
          "base_uri": "https://localhost:8080/"
        },
        "outputId": "896580f1-8b39-4660-b593-bd1d4afb02f8"
      },
      "execution_count": 30,
      "outputs": [
        {
          "output_type": "stream",
          "name": "stdout",
          "text": [
            "              precision    recall  f1-score   support\n",
            "\n",
            "           0       0.49      1.00      0.66      1589\n",
            "           1       1.00      0.00      0.00      1629\n",
            "\n",
            "    accuracy                           0.49      3218\n",
            "   macro avg       0.75      0.50      0.33      3218\n",
            "weighted avg       0.75      0.49      0.33      3218\n",
            "\n"
          ]
        }
      ]
    },
    {
      "cell_type": "code",
      "source": [
        "# Further check the accuracy score\n",
        "#metrics.accuracy_score(y_test, predictions)"
      ],
      "metadata": {
        "id": "yJoR9X04pcMK"
      },
      "execution_count": 31,
      "outputs": []
    },
    {
      "cell_type": "code",
      "source": [
        "# Print the training accuracy one more time\n",
        "loss, acc = model.evaluate(X_train, y_train, verbose=0)\n",
        "print('Training accuracy: %.5f'  % acc)\n",
        "print('Loss: %.5f' % loss)"
      ],
      "metadata": {
        "id": "LzP9ftCpqDDo",
        "colab": {
          "base_uri": "https://localhost:8080/"
        },
        "outputId": "d28c2124-3b33-4186-f489-9733fb522d16"
      },
      "execution_count": 32,
      "outputs": [
        {
          "output_type": "stream",
          "name": "stdout",
          "text": [
            "Training accuracy: 0.83662\n",
            "Loss: 0.37424\n"
          ]
        }
      ]
    },
    {
      "cell_type": "code",
      "source": [
        "# Print the training accuracy one more time\n",
        "loss, acc = model.evaluate(X_test, y_test, verbose=0)\n",
        "print('Test accuracy: %.5f'  % acc)\n",
        "print('Loss: %.5f' % loss)"
      ],
      "metadata": {
        "id": "ZyECXB7eNqll",
        "colab": {
          "base_uri": "https://localhost:8080/"
        },
        "outputId": "ceb17b3b-efbb-4f60-9e98-806cd0033f32"
      },
      "execution_count": 33,
      "outputs": [
        {
          "output_type": "stream",
          "name": "stdout",
          "text": [
            "Test accuracy: 0.74984\n",
            "Loss: 0.50161\n"
          ]
        }
      ]
    },
    {
      "cell_type": "code",
      "source": [
        "# Use pip to visualize the feature importance. This is very expensive. Only use with enough GPU resources.\n",
        "#!pip install shap"
      ],
      "metadata": {
        "id": "LwDsfxX6kV_j"
      },
      "execution_count": 34,
      "outputs": []
    },
    {
      "cell_type": "code",
      "source": [
        "#import shap\n",
        "# Look at feature importance with shap. This is very expensive!\n",
        "#explainer = shap.KernelExplainer(model = model, data = X_train,link = 'identity' )\n",
        "#shap_values = explainer.shap_values(X_train)\n",
        "#display(shap_values)"
      ],
      "metadata": {
        "id": "mCJDqpRvjq7h"
      },
      "execution_count": 35,
      "outputs": []
    },
    {
      "cell_type": "code",
      "source": [
        "## Check on test data - Expensive for my system\n",
        "#shap_values_test = explainer.shap_values(X_test)\n",
        "#shap.summary_plot(shap_values_test, class_names = class_names, feature_names = X_test.columns)\n",
        "#shap.summary_plot(shap_values_test[0], X_test)"
      ],
      "metadata": {
        "id": "ORBfpJL7i2_y"
      },
      "execution_count": 36,
      "outputs": []
    },
    {
      "cell_type": "code",
      "source": [
        "# Plot the original data and predictions side-by-side\n",
        "compare_data = pd.DataFrame({'Original_Data':y_test, 'Predicted_data':y_pred } )\n",
        "compare_data"
      ],
      "metadata": {
        "id": "5m94hDYpMy-j",
        "colab": {
          "base_uri": "https://localhost:8080/",
          "height": 423
        },
        "outputId": "83a83839-89ba-415f-a2d1-ad1db870b856"
      },
      "execution_count": 37,
      "outputs": [
        {
          "output_type": "execute_result",
          "data": {
            "text/html": [
              "\n",
              "  <div id=\"df-bfef15dc-b116-4002-854a-35b998386012\">\n",
              "    <div class=\"colab-df-container\">\n",
              "      <div>\n",
              "<style scoped>\n",
              "    .dataframe tbody tr th:only-of-type {\n",
              "        vertical-align: middle;\n",
              "    }\n",
              "\n",
              "    .dataframe tbody tr th {\n",
              "        vertical-align: top;\n",
              "    }\n",
              "\n",
              "    .dataframe thead th {\n",
              "        text-align: right;\n",
              "    }\n",
              "</style>\n",
              "<table border=\"1\" class=\"dataframe\">\n",
              "  <thead>\n",
              "    <tr style=\"text-align: right;\">\n",
              "      <th></th>\n",
              "      <th>Original_Data</th>\n",
              "      <th>Predicted_data</th>\n",
              "    </tr>\n",
              "  </thead>\n",
              "  <tbody>\n",
              "    <tr>\n",
              "      <th>14183</th>\n",
              "      <td>1</td>\n",
              "      <td>0</td>\n",
              "    </tr>\n",
              "    <tr>\n",
              "      <th>22</th>\n",
              "      <td>0</td>\n",
              "      <td>0</td>\n",
              "    </tr>\n",
              "    <tr>\n",
              "      <th>10757</th>\n",
              "      <td>1</td>\n",
              "      <td>0</td>\n",
              "    </tr>\n",
              "    <tr>\n",
              "      <th>11500</th>\n",
              "      <td>1</td>\n",
              "      <td>0</td>\n",
              "    </tr>\n",
              "    <tr>\n",
              "      <th>7976</th>\n",
              "      <td>0</td>\n",
              "      <td>0</td>\n",
              "    </tr>\n",
              "    <tr>\n",
              "      <th>...</th>\n",
              "      <td>...</td>\n",
              "      <td>...</td>\n",
              "    </tr>\n",
              "    <tr>\n",
              "      <th>9367</th>\n",
              "      <td>0</td>\n",
              "      <td>0</td>\n",
              "    </tr>\n",
              "    <tr>\n",
              "      <th>10804</th>\n",
              "      <td>1</td>\n",
              "      <td>0</td>\n",
              "    </tr>\n",
              "    <tr>\n",
              "      <th>14747</th>\n",
              "      <td>1</td>\n",
              "      <td>0</td>\n",
              "    </tr>\n",
              "    <tr>\n",
              "      <th>7969</th>\n",
              "      <td>0</td>\n",
              "      <td>0</td>\n",
              "    </tr>\n",
              "    <tr>\n",
              "      <th>12934</th>\n",
              "      <td>1</td>\n",
              "      <td>0</td>\n",
              "    </tr>\n",
              "  </tbody>\n",
              "</table>\n",
              "<p>3218 rows × 2 columns</p>\n",
              "</div>\n",
              "      <button class=\"colab-df-convert\" onclick=\"convertToInteractive('df-bfef15dc-b116-4002-854a-35b998386012')\"\n",
              "              title=\"Convert this dataframe to an interactive table.\"\n",
              "              style=\"display:none;\">\n",
              "        \n",
              "  <svg xmlns=\"http://www.w3.org/2000/svg\" height=\"24px\"viewBox=\"0 0 24 24\"\n",
              "       width=\"24px\">\n",
              "    <path d=\"M0 0h24v24H0V0z\" fill=\"none\"/>\n",
              "    <path d=\"M18.56 5.44l.94 2.06.94-2.06 2.06-.94-2.06-.94-.94-2.06-.94 2.06-2.06.94zm-11 1L8.5 8.5l.94-2.06 2.06-.94-2.06-.94L8.5 2.5l-.94 2.06-2.06.94zm10 10l.94 2.06.94-2.06 2.06-.94-2.06-.94-.94-2.06-.94 2.06-2.06.94z\"/><path d=\"M17.41 7.96l-1.37-1.37c-.4-.4-.92-.59-1.43-.59-.52 0-1.04.2-1.43.59L10.3 9.45l-7.72 7.72c-.78.78-.78 2.05 0 2.83L4 21.41c.39.39.9.59 1.41.59.51 0 1.02-.2 1.41-.59l7.78-7.78 2.81-2.81c.8-.78.8-2.07 0-2.86zM5.41 20L4 18.59l7.72-7.72 1.47 1.35L5.41 20z\"/>\n",
              "  </svg>\n",
              "      </button>\n",
              "      \n",
              "  <style>\n",
              "    .colab-df-container {\n",
              "      display:flex;\n",
              "      flex-wrap:wrap;\n",
              "      gap: 12px;\n",
              "    }\n",
              "\n",
              "    .colab-df-convert {\n",
              "      background-color: #E8F0FE;\n",
              "      border: none;\n",
              "      border-radius: 50%;\n",
              "      cursor: pointer;\n",
              "      display: none;\n",
              "      fill: #1967D2;\n",
              "      height: 32px;\n",
              "      padding: 0 0 0 0;\n",
              "      width: 32px;\n",
              "    }\n",
              "\n",
              "    .colab-df-convert:hover {\n",
              "      background-color: #E2EBFA;\n",
              "      box-shadow: 0px 1px 2px rgba(60, 64, 67, 0.3), 0px 1px 3px 1px rgba(60, 64, 67, 0.15);\n",
              "      fill: #174EA6;\n",
              "    }\n",
              "\n",
              "    [theme=dark] .colab-df-convert {\n",
              "      background-color: #3B4455;\n",
              "      fill: #D2E3FC;\n",
              "    }\n",
              "\n",
              "    [theme=dark] .colab-df-convert:hover {\n",
              "      background-color: #434B5C;\n",
              "      box-shadow: 0px 1px 3px 1px rgba(0, 0, 0, 0.15);\n",
              "      filter: drop-shadow(0px 1px 2px rgba(0, 0, 0, 0.3));\n",
              "      fill: #FFFFFF;\n",
              "    }\n",
              "  </style>\n",
              "\n",
              "      <script>\n",
              "        const buttonEl =\n",
              "          document.querySelector('#df-bfef15dc-b116-4002-854a-35b998386012 button.colab-df-convert');\n",
              "        buttonEl.style.display =\n",
              "          google.colab.kernel.accessAllowed ? 'block' : 'none';\n",
              "\n",
              "        async function convertToInteractive(key) {\n",
              "          const element = document.querySelector('#df-bfef15dc-b116-4002-854a-35b998386012');\n",
              "          const dataTable =\n",
              "            await google.colab.kernel.invokeFunction('convertToInteractive',\n",
              "                                                     [key], {});\n",
              "          if (!dataTable) return;\n",
              "\n",
              "          const docLinkHtml = 'Like what you see? Visit the ' +\n",
              "            '<a target=\"_blank\" href=https://colab.research.google.com/notebooks/data_table.ipynb>data table notebook</a>'\n",
              "            + ' to learn more about interactive tables.';\n",
              "          element.innerHTML = '';\n",
              "          dataTable['output_type'] = 'display_data';\n",
              "          await google.colab.output.renderOutput(dataTable, element);\n",
              "          const docLink = document.createElement('div');\n",
              "          docLink.innerHTML = docLinkHtml;\n",
              "          element.appendChild(docLink);\n",
              "        }\n",
              "      </script>\n",
              "    </div>\n",
              "  </div>\n",
              "  "
            ],
            "text/plain": [
              "       Original_Data  Predicted_data\n",
              "14183              1               0\n",
              "22                 0               0\n",
              "10757              1               0\n",
              "11500              1               0\n",
              "7976               0               0\n",
              "...              ...             ...\n",
              "9367               0               0\n",
              "10804              1               0\n",
              "14747              1               0\n",
              "7969               0               0\n",
              "12934              1               0\n",
              "\n",
              "[3218 rows x 2 columns]"
            ]
          },
          "metadata": {},
          "execution_count": 37
        }
      ]
    },
    {
      "cell_type": "markdown",
      "source": [
        "## End of Case Study"
      ],
      "metadata": {
        "id": "G8UTCf2Omncr"
      }
    }
  ]
}