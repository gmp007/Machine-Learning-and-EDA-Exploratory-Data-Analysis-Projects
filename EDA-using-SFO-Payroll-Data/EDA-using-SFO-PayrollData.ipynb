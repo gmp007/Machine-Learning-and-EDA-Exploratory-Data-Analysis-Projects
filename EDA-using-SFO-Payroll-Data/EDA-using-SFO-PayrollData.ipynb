{
 "cells": [
  {
   "cell_type": "markdown",
   "id": "9aa9b03e",
   "metadata": {},
   "source": [
    "<img src=\"https://cekumagroup.cas.lehigh.edu/sites/cekumagroup.cas2.lehigh.edu/files/image10.jpg \"/>\n",
    "\n",
    "# About the dataset \n",
    "\n",
    "*SFO Public Department, referred to as SFO, has captured the salary data of all its employees for the years 2011-2014. \n",
    "*Now in 2018, the organization is facing some financial crisis. \n",
    "*As a first step, HR wants to rationalize employee cost to save payroll budget. \n",
    "*You have to perform data manipulation and answer the questions below:\n",
    "    \n",
    "# Data Manipulation Tasks:\n",
    "* How much total salary cost has increased from year 2011 to 2014?\n",
    "* Who was the top-earning employee across all the years? Objective: Perform data manipulation and visualization techniques.\n",
    "**Happy reading!**\n",
    "\n",
    "* * *"
   ]
  },
  {
   "cell_type": "markdown",
   "id": "42f9b81d",
   "metadata": {},
   "source": [
    "## Import the necessary libraries"
   ]
  },
  {
   "cell_type": "code",
   "execution_count": 1,
   "id": "559166ee",
   "metadata": {},
   "outputs": [],
   "source": [
    "# Import libraries\n",
    "import numpy as np\n",
    "import pandas as pd\n",
    "from plotly.offline import iplot\n",
    "import matplotlib.pyplot as plt\n",
    "%matplotlib inline"
   ]
  },
  {
   "cell_type": "code",
   "execution_count": 2,
   "id": "d5eb7e57",
   "metadata": {},
   "outputs": [
    {
     "name": "stdout",
     "output_type": "stream",
     "text": [
      "(148648, 12)\n"
     ]
    }
   ],
   "source": [
    "# Load the dataset\n",
    "df = pd.read_csv('Salaries.csv', delimiter= ',', index_col = 0,low_memory=False)\n",
    "\n",
    "# Shape of Dataset\n",
    "print(df.shape)"
   ]
  },
  {
   "cell_type": "code",
   "execution_count": 3,
   "id": "744d2a3b",
   "metadata": {},
   "outputs": [
    {
     "name": "stdout",
     "output_type": "stream",
     "text": [
      "         EmployeeName                                        JobTitle  \\\n",
      "Id                                                                      \n",
      "1      NATHANIEL FORD  GENERAL MANAGER-METROPOLITAN TRANSIT AUTHORITY   \n",
      "2        GARY JIMENEZ                 CAPTAIN III (POLICE DEPARTMENT)   \n",
      "3      ALBERT PARDINI                 CAPTAIN III (POLICE DEPARTMENT)   \n",
      "4   CHRISTOPHER CHONG            WIRE ROPE CABLE MAINTENANCE MECHANIC   \n",
      "5     PATRICK GARDNER    DEPUTY CHIEF OF DEPARTMENT,(FIRE DEPARTMENT)   \n",
      "\n",
      "      BasePay  OvertimePay   OtherPay  Benefits   TotalPay  TotalPayBenefits  \\\n",
      "Id                                                                             \n",
      "1   167411.18         0.00  400184.25       NaN  567595.43         567595.43   \n",
      "2   155966.02    245131.88  137811.38       NaN  538909.28         538909.28   \n",
      "3   212739.13    106088.18   16452.60       NaN  335279.91         335279.91   \n",
      "4    77916.00     56120.71  198306.90       NaN  332343.61         332343.61   \n",
      "5   134401.60      9737.00  182234.59       NaN  326373.19         326373.19   \n",
      "\n",
      "    Year  Notes         Agency Status  \n",
      "Id                                     \n",
      "1   2011    NaN  San Francisco    NaN  \n",
      "2   2011    NaN  San Francisco    NaN  \n",
      "3   2011    NaN  San Francisco    NaN  \n",
      "4   2011    NaN  San Francisco    NaN  \n",
      "5   2011    NaN  San Francisco    NaN  \n"
     ]
    }
   ],
   "source": [
    "# View the first 5 header lines\n",
    "print(df.head())"
   ]
  },
  {
   "cell_type": "code",
   "execution_count": 4,
   "id": "12ce6163",
   "metadata": {},
   "outputs": [
    {
     "name": "stdout",
     "output_type": "stream",
     "text": [
      "<bound method DataFrame.info of              EmployeeName                                        JobTitle  \\\n",
      "Id                                                                          \n",
      "1          NATHANIEL FORD  GENERAL MANAGER-METROPOLITAN TRANSIT AUTHORITY   \n",
      "2            GARY JIMENEZ                 CAPTAIN III (POLICE DEPARTMENT)   \n",
      "3          ALBERT PARDINI                 CAPTAIN III (POLICE DEPARTMENT)   \n",
      "4       CHRISTOPHER CHONG            WIRE ROPE CABLE MAINTENANCE MECHANIC   \n",
      "5         PATRICK GARDNER    DEPUTY CHIEF OF DEPARTMENT,(FIRE DEPARTMENT)   \n",
      "...                   ...                                             ...   \n",
      "148646   Carolyn A Wilson                       Human Services Technician   \n",
      "148648     Joann Anderson                     Communications Dispatcher 2   \n",
      "148649        Leon Walker                                       Custodian   \n",
      "148650      Roy I Tillery                                       Custodian   \n",
      "148654          Joe Lopez                      Counselor, Log Cabin Ranch   \n",
      "\n",
      "          BasePay  OvertimePay   OtherPay  Benefits   TotalPay  \\\n",
      "Id                                                               \n",
      "1       167411.18         0.00  400184.25       NaN  567595.43   \n",
      "2       155966.02    245131.88  137811.38       NaN  538909.28   \n",
      "3       212739.13    106088.18   16452.60       NaN  335279.91   \n",
      "4        77916.00     56120.71  198306.90       NaN  332343.61   \n",
      "5       134401.60      9737.00  182234.59       NaN  326373.19   \n",
      "...           ...          ...        ...       ...        ...   \n",
      "148646       0.00         0.00       0.00       0.0       0.00   \n",
      "148648       0.00         0.00       0.00       0.0       0.00   \n",
      "148649       0.00         0.00       0.00       0.0       0.00   \n",
      "148650       0.00         0.00       0.00       0.0       0.00   \n",
      "148654       0.00         0.00    -618.13       0.0    -618.13   \n",
      "\n",
      "        TotalPayBenefits  Year  Notes         Agency Status  \n",
      "Id                                                           \n",
      "1              567595.43  2011    NaN  San Francisco    NaN  \n",
      "2              538909.28  2011    NaN  San Francisco    NaN  \n",
      "3              335279.91  2011    NaN  San Francisco    NaN  \n",
      "4              332343.61  2011    NaN  San Francisco    NaN  \n",
      "5              326373.19  2011    NaN  San Francisco    NaN  \n",
      "...                  ...   ...    ...            ...    ...  \n",
      "148646              0.00  2014    NaN  San Francisco     PT  \n",
      "148648              0.00  2014    NaN  San Francisco     PT  \n",
      "148649              0.00  2014    NaN  San Francisco     PT  \n",
      "148650              0.00  2014    NaN  San Francisco     PT  \n",
      "148654           -618.13  2014    NaN  San Francisco     PT  \n",
      "\n",
      "[148648 rows x 12 columns]>\n"
     ]
    }
   ],
   "source": [
    "# Get more information about the data\n",
    "print(df.info)"
   ]
  },
  {
   "cell_type": "code",
   "execution_count": 5,
   "id": "44fc14f8",
   "metadata": {},
   "outputs": [
    {
     "name": "stdout",
     "output_type": "stream",
     "text": [
      "             BasePay    OvertimePay       OtherPay       Benefits  \\\n",
      "count  148043.000000  148648.000000  148648.000000  112490.000000   \n",
      "mean    66325.398119    5065.821161    3648.761721   25007.777439   \n",
      "std     42764.898947   11454.266982    8056.655841   15402.235424   \n",
      "min      -166.010000      -0.010000   -7058.590000     -33.890000   \n",
      "25%     33587.350000       0.000000       0.000000   11535.192500   \n",
      "50%     65007.450000       0.000000     811.205000   28628.365000   \n",
      "75%     94691.050000    4657.597500    4236.035000   35566.790000   \n",
      "max    319275.010000  245131.880000  400184.250000   96570.660000   \n",
      "\n",
      "            TotalPay  TotalPayBenefits           Year  Notes  \n",
      "count  148648.000000     148648.000000  148648.000000    0.0  \n",
      "mean    74770.035453      93694.776345    2012.522617    NaN  \n",
      "std     50516.440633      62792.743250       1.117526    NaN  \n",
      "min      -618.130000       -618.130000    2011.000000    NaN  \n",
      "25%     36169.370000      44072.062500    2012.000000    NaN  \n",
      "50%     71427.130000      92406.020000    2013.000000    NaN  \n",
      "75%    105840.920000     132876.997500    2014.000000    NaN  \n",
      "max    567595.430000     567595.430000    2014.000000    NaN  \n"
     ]
    }
   ],
   "source": [
    "# Get statistical summary of dataset\n",
    "print(df.describe())"
   ]
  },
  {
   "cell_type": "markdown",
   "id": "5977f1de",
   "metadata": {},
   "source": [
    "## Perform the data analysis"
   ]
  },
  {
   "cell_type": "code",
   "execution_count": 6,
   "id": "9bfbb774",
   "metadata": {},
   "outputs": [
    {
     "name": "stdout",
     "output_type": "stream",
     "text": [
      "Year\n",
      "2011    2.594113e+09\n",
      "2012    3.696790e+09\n",
      "2013    3.814772e+09\n",
      "2014    3.821866e+09\n",
      "Name: TotalPayBenefits, dtype: float64\n"
     ]
    }
   ],
   "source": [
    "# Compute total pay benefits in each of the years \n",
    "\n",
    "year = df.groupby('Year').sum()['TotalPayBenefits']\n",
    "print(year)"
   ]
  },
  {
   "cell_type": "code",
   "execution_count": 7,
   "id": "54d47ca2",
   "metadata": {},
   "outputs": [
    {
     "name": "stdout",
     "output_type": "stream",
     "text": [
      "Total cost of paying for all the benefits has increased by 1227752749.88 between 2011 and 2014\n"
     ]
    }
   ],
   "source": [
    "# Compute how much total benefits has increased from 2011 to 2014\n",
    "grouped_df_cost = df.groupby([\"Year\"]).agg(\"sum\").filter([\"Year\", \"TotalPayBenefits\"])\n",
    "#print(grouped_df_cost.head())\n",
    "\n",
    "total_salary_2011 = grouped_df_cost.query(\"Year == 2011\")[\"TotalPayBenefits\"]\n",
    "total_salary_2014 = grouped_df_cost.query(\"Year == 2014\")[\"TotalPayBenefits\"]\n",
    "\n",
    "salary_change_2011_2014 = float(total_salary_2014) - float(total_salary_2011)\n",
    "\n",
    "print('Total cost of paying for all the benefits has increased by '+ str(salary_change_2011_2014)+' between 2011 and 2014')"
   ]
  },
  {
   "cell_type": "code",
   "execution_count": 8,
   "id": "b6519086",
   "metadata": {},
   "outputs": [
    {
     "name": "stdout",
     "output_type": "stream",
     "text": [
      "Total cost of paying for salary has increased by 282797920.54000044 between 2011 and 2014\n"
     ]
    }
   ],
   "source": [
    "# Compute how much total salary has increased from 2011 to 2014\n",
    "grouped_df_cost = df.groupby([\"Year\"]).agg(\"sum\").filter([\"Year\", \"TotalPay\"])\n",
    "total_salary_2011 = grouped_df_cost.query(\"Year == 2011\")[\"TotalPay\"]\n",
    "total_salary_2014 = grouped_df_cost.query(\"Year == 2014\")[\"TotalPay\"]\n",
    "\n",
    "salary_change_2011_2014 = float(total_salary_2014) - float(total_salary_2011)\n",
    "\n",
    "print('Total cost of paying for salary has increased by '+ str(salary_change_2011_2014)+' between 2011 and 2014')"
   ]
  },
  {
   "cell_type": "code",
   "execution_count": 9,
   "id": "f9f07b4a",
   "metadata": {},
   "outputs": [],
   "source": [
    "# Define a function to determine the job profile with highest salary in any given year\n",
    "def highpayingjob(year = None,nvalue = None):\n",
    "    highpay=df[df['Year'] == year]\n",
    "    jobtitle_with_highpay = highpay.groupby('JobTitle').mean()['TotalPayBenefits']\n",
    "    print('===============================================')\n",
    "    print('The job with highest average salary in '+ str(year) +' is\\n',\n",
    "          jobtitle_with_highpay.sort_values(ascending=False).head(nvalue) )"
   ]
  },
  {
   "cell_type": "code",
   "execution_count": 10,
   "id": "2d0041be",
   "metadata": {},
   "outputs": [
    {
     "name": "stdout",
     "output_type": "stream",
     "text": [
      "===============================================\n",
      "The job with highest average salary in 2011 is\n",
      " JobTitle\n",
      "GENERAL MANAGER-METROPOLITAN TRANSIT AUTHORITY    399211.275\n",
      "DEPUTY DIRECTOR OF INVESTMENTS                    307899.460\n",
      "CHIEF OF DEPARTMENT, (FIRE DEPARTMENT)            302377.730\n",
      "DEPUTY CHIEF OF DEPARTMENT,(FIRE DEPARTMENT)      279359.560\n",
      "EXECUTIVE CONTRACT EMPLOYEE                       277438.840\n",
      "Name: TotalPayBenefits, dtype: float64\n"
     ]
    }
   ],
   "source": [
    "highpayingjob(2011,5) #If you set ascending = True, you'll get the jobs with the lowest pay"
   ]
  },
  {
   "cell_type": "code",
   "execution_count": 11,
   "id": "e75a8ba9",
   "metadata": {},
   "outputs": [],
   "source": [
    "# Define a function to calculate the cost of overtime in any given year\n",
    "def overtimecost(year = None):\n",
    "    overtime = df[df['Year'] == year]\n",
    "    overtime_cost = overtime['OvertimePay'].sum()\n",
    "#    print(overtime_cost)\n",
    "    print('=============================================================='+ '\\n'+\n",
    "          \" Total amount spent in overtime in \"+ str(year) +' is',overtime_cost)\n",
    "    print('==============================================================')"
   ]
  },
  {
   "cell_type": "code",
   "execution_count": 12,
   "id": "f5af1dee",
   "metadata": {},
   "outputs": [
    {
     "name": "stdout",
     "output_type": "stream",
     "text": [
      "==============================================================\n",
      " Total amount spent in overtime in 2014 is 205918599.26999998\n",
      "==============================================================\n"
     ]
    }
   ],
   "source": [
    "overtimecost(2014)"
   ]
  },
  {
   "cell_type": "code",
   "execution_count": 13,
   "id": "1d6c04a1",
   "metadata": {},
   "outputs": [
    {
     "name": "stdout",
     "output_type": "stream",
     "text": [
      " Top 10 highest earning employees across all years: \n",
      " EmployeeName\n",
      "Kevin Lee        1778487.17\n",
      "Steven Lee       1706550.76\n",
      "William Wong     1459954.17\n",
      "Stanley Lee      1457279.68\n",
      "Richard Lee      1268668.84\n",
      "John L Martin    1054756.22\n",
      "Wayne Wong       1021109.55\n",
      "Alan Wong        1011610.58\n",
      "John Chan         946239.26\n",
      "Michael Brown     907786.48\n",
      "Name: TotalPayBenefits, dtype: float64\n"
     ]
    }
   ],
   "source": [
    "# Top earning employees across all years\n",
    "top_earning = df.groupby('EmployeeName').sum()['TotalPayBenefits']\n",
    "print(\" Top 10 highest earning employees across all years: \\n\", top_earning.sort_values(ascending= False).head(10))"
   ]
  },
  {
   "cell_type": "code",
   "execution_count": 14,
   "id": "1a939895",
   "metadata": {},
   "outputs": [],
   "source": [
    "#Define a function to calculate the common jobs in any of the years\n",
    "def commonjobs(year = None,nvalue = None):\n",
    "    df_year = df[df['Year'] == year]\n",
    "    common_jobs = df_year['JobTitle'].value_counts()\n",
    "#    print(common_jobs.head(nvalue))\n",
    "    print('============================'+ '\\n'+\n",
    "          \" Common jobs in \"+ str(year) +'\\n'+\n",
    "          '============================'+ '\\n',\n",
    "          common_jobs.sort_values(ascending= False).head(nvalue))"
   ]
  },
  {
   "cell_type": "code",
   "execution_count": 15,
   "id": "1b21fcad",
   "metadata": {},
   "outputs": [
    {
     "name": "stdout",
     "output_type": "stream",
     "text": [
      "============================\n",
      " Common jobs in 2014\n",
      "============================\n",
      " Transit Operator                2479\n",
      "Special Nurse                   1478\n",
      "Registered Nurse                1234\n",
      "Public Svc Aide-Public Works     916\n",
      "Firefighter                      815\n",
      "Name: JobTitle, dtype: int64\n"
     ]
    }
   ],
   "source": [
    "commonjobs(2014,5)"
   ]
  }
 ],
 "metadata": {
  "kernelspec": {
   "display_name": "Python 3 (ipykernel)",
   "language": "python",
   "name": "python3"
  },
  "language_info": {
   "codemirror_mode": {
    "name": "ipython",
    "version": 3
   },
   "file_extension": ".py",
   "mimetype": "text/x-python",
   "name": "python",
   "nbconvert_exporter": "python",
   "pygments_lexer": "ipython3",
   "version": "3.8.8"
  }
 },
 "nbformat": 4,
 "nbformat_minor": 5
}
