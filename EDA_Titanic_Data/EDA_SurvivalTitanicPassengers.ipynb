{
 "cells": [
  {
   "cell_type": "markdown",
   "id": "09f80640",
   "metadata": {},
   "source": [
    "<img src=\"https://cekumagroup.cas.lehigh.edu/sites/cekumagroup.cas2.lehigh.edu/files/image10.jpg \"/>\n",
    "\n",
    "## Survival of Titanic Passengers\n",
    "\n",
    "### Data Information\n",
    "#### The Titanic dataset provides information on the fate of passengers on the Titanic, summarized according to economic status, sex, age, and survival\n",
    "### Problem Statement\n",
    "* Our task is to predict the survival of the Titanic passengers"
   ]
  },
  {
   "cell_type": "code",
   "execution_count": 1,
   "id": "18766276",
   "metadata": {},
   "outputs": [],
   "source": [
    "# Import the required libraries\n",
    "import pandas as pd\n",
    "import numpy as np\n",
    "import matplotlib\n",
    "import matplotlib.pyplot as plt\n",
    "from pandas.plotting import scatter_matrix\n",
    "import seaborn as sns\n",
    "sns.set(style = 'white',color_codes=True)\n",
    "sns.set(font_scale=1.5)\n",
    "from sklearn.preprocessing import LabelEncoder\n",
    "from sklearn.linear_model import LogisticRegression\n",
    "from sklearn.model_selection import train_test_split\n",
    "from sklearn.metrics import confusion_matrix\n",
    "from sklearn.metrics import classification_report\n",
    "from sklearn.metrics import accuracy_score,precision_score,recall_score, f1_score\n",
    "from sklearn import metrics"
   ]
  },
  {
   "cell_type": "code",
   "execution_count": 2,
   "id": "bd189fbf",
   "metadata": {},
   "outputs": [
    {
     "data": {
      "text/plain": [
       "(891, 12)"
      ]
     },
     "execution_count": 2,
     "metadata": {},
     "output_type": "execute_result"
    }
   ],
   "source": [
    "df_train = pd.read_csv('train.csv')\n",
    "df_train.shape"
   ]
  },
  {
   "cell_type": "code",
   "execution_count": 3,
   "id": "c0c6eae9",
   "metadata": {},
   "outputs": [
    {
     "data": {
      "text/plain": [
       "Index(['PassengerId', 'Survived', 'Pclass', 'Name', 'Sex', 'Age', 'SibSp',\n",
       "       'Parch', 'Ticket', 'Fare', 'Cabin', 'Embarked'],\n",
       "      dtype='object')"
      ]
     },
     "execution_count": 3,
     "metadata": {},
     "output_type": "execute_result"
    }
   ],
   "source": [
    "df_train.columns"
   ]
  },
  {
   "cell_type": "markdown",
   "id": "41911232",
   "metadata": {},
   "source": [
    "### Check for distinct information of the features"
   ]
  },
  {
   "cell_type": "code",
   "execution_count": 4,
   "id": "be79f119",
   "metadata": {},
   "outputs": [
    {
     "data": {
      "text/plain": [
       "0    549\n",
       "1    342\n",
       "Name: Survived, dtype: int64"
      ]
     },
     "execution_count": 4,
     "metadata": {},
     "output_type": "execute_result"
    }
   ],
   "source": [
    "df_train.Survived.value_counts()"
   ]
  },
  {
   "cell_type": "code",
   "execution_count": 5,
   "id": "5c49d4df",
   "metadata": {},
   "outputs": [
    {
     "data": {
      "text/plain": [
       "male      577\n",
       "female    314\n",
       "Name: Sex, dtype: int64"
      ]
     },
     "execution_count": 5,
     "metadata": {},
     "output_type": "execute_result"
    }
   ],
   "source": [
    "df_train.Sex.value_counts()"
   ]
  },
  {
   "cell_type": "code",
   "execution_count": 6,
   "id": "23e9f0ff",
   "metadata": {},
   "outputs": [
    {
     "data": {
      "text/plain": [
       "S    644\n",
       "C    168\n",
       "Q     77\n",
       "Name: Embarked, dtype: int64"
      ]
     },
     "execution_count": 6,
     "metadata": {},
     "output_type": "execute_result"
    }
   ],
   "source": [
    "df_train.Embarked.value_counts()"
   ]
  },
  {
   "cell_type": "code",
   "execution_count": 7,
   "id": "ea7e622e",
   "metadata": {},
   "outputs": [
    {
     "data": {
      "text/plain": [
       "PassengerId      0\n",
       "Survived         0\n",
       "Pclass           0\n",
       "Name             0\n",
       "Sex              0\n",
       "Age            177\n",
       "SibSp            0\n",
       "Parch            0\n",
       "Ticket           0\n",
       "Fare             0\n",
       "Cabin          687\n",
       "Embarked         2\n",
       "dtype: int64"
      ]
     },
     "execution_count": 7,
     "metadata": {},
     "output_type": "execute_result"
    }
   ],
   "source": [
    "df_train.isnull().sum()"
   ]
  },
  {
   "cell_type": "code",
   "execution_count": 8,
   "id": "24932ed2",
   "metadata": {},
   "outputs": [
    {
     "data": {
      "text/plain": [
       "PassengerId      int64\n",
       "Survived         int64\n",
       "Pclass           int64\n",
       "Name            object\n",
       "Sex             object\n",
       "Age            float64\n",
       "SibSp            int64\n",
       "Parch            int64\n",
       "Ticket          object\n",
       "Fare           float64\n",
       "Cabin           object\n",
       "Embarked        object\n",
       "dtype: object"
      ]
     },
     "execution_count": 8,
     "metadata": {},
     "output_type": "execute_result"
    }
   ],
   "source": [
    "df_train.dtypes"
   ]
  },
  {
   "cell_type": "code",
   "execution_count": 9,
   "id": "f7463ff0",
   "metadata": {},
   "outputs": [
    {
     "data": {
      "text/html": [
       "<div>\n",
       "<style scoped>\n",
       "    .dataframe tbody tr th:only-of-type {\n",
       "        vertical-align: middle;\n",
       "    }\n",
       "\n",
       "    .dataframe tbody tr th {\n",
       "        vertical-align: top;\n",
       "    }\n",
       "\n",
       "    .dataframe thead th {\n",
       "        text-align: right;\n",
       "    }\n",
       "</style>\n",
       "<table border=\"1\" class=\"dataframe\">\n",
       "  <thead>\n",
       "    <tr style=\"text-align: right;\">\n",
       "      <th></th>\n",
       "      <th>PassengerId</th>\n",
       "      <th>Survived</th>\n",
       "      <th>Pclass</th>\n",
       "      <th>Name</th>\n",
       "      <th>Sex</th>\n",
       "      <th>Age</th>\n",
       "      <th>SibSp</th>\n",
       "      <th>Parch</th>\n",
       "      <th>Ticket</th>\n",
       "      <th>Fare</th>\n",
       "      <th>Cabin</th>\n",
       "      <th>Embarked</th>\n",
       "    </tr>\n",
       "  </thead>\n",
       "  <tbody>\n",
       "    <tr>\n",
       "      <th>0</th>\n",
       "      <td>1</td>\n",
       "      <td>0</td>\n",
       "      <td>3</td>\n",
       "      <td>Braund, Mr. Owen Harris</td>\n",
       "      <td>male</td>\n",
       "      <td>22.0</td>\n",
       "      <td>1</td>\n",
       "      <td>0</td>\n",
       "      <td>A/5 21171</td>\n",
       "      <td>7.2500</td>\n",
       "      <td>NaN</td>\n",
       "      <td>S</td>\n",
       "    </tr>\n",
       "    <tr>\n",
       "      <th>1</th>\n",
       "      <td>2</td>\n",
       "      <td>1</td>\n",
       "      <td>1</td>\n",
       "      <td>Cumings, Mrs. John Bradley (Florence Briggs Th...</td>\n",
       "      <td>female</td>\n",
       "      <td>38.0</td>\n",
       "      <td>1</td>\n",
       "      <td>0</td>\n",
       "      <td>PC 17599</td>\n",
       "      <td>71.2833</td>\n",
       "      <td>C85</td>\n",
       "      <td>C</td>\n",
       "    </tr>\n",
       "    <tr>\n",
       "      <th>2</th>\n",
       "      <td>3</td>\n",
       "      <td>1</td>\n",
       "      <td>3</td>\n",
       "      <td>Heikkinen, Miss. Laina</td>\n",
       "      <td>female</td>\n",
       "      <td>26.0</td>\n",
       "      <td>0</td>\n",
       "      <td>0</td>\n",
       "      <td>STON/O2. 3101282</td>\n",
       "      <td>7.9250</td>\n",
       "      <td>NaN</td>\n",
       "      <td>S</td>\n",
       "    </tr>\n",
       "    <tr>\n",
       "      <th>3</th>\n",
       "      <td>4</td>\n",
       "      <td>1</td>\n",
       "      <td>1</td>\n",
       "      <td>Futrelle, Mrs. Jacques Heath (Lily May Peel)</td>\n",
       "      <td>female</td>\n",
       "      <td>35.0</td>\n",
       "      <td>1</td>\n",
       "      <td>0</td>\n",
       "      <td>113803</td>\n",
       "      <td>53.1000</td>\n",
       "      <td>C123</td>\n",
       "      <td>S</td>\n",
       "    </tr>\n",
       "    <tr>\n",
       "      <th>4</th>\n",
       "      <td>5</td>\n",
       "      <td>0</td>\n",
       "      <td>3</td>\n",
       "      <td>Allen, Mr. William Henry</td>\n",
       "      <td>male</td>\n",
       "      <td>35.0</td>\n",
       "      <td>0</td>\n",
       "      <td>0</td>\n",
       "      <td>373450</td>\n",
       "      <td>8.0500</td>\n",
       "      <td>NaN</td>\n",
       "      <td>S</td>\n",
       "    </tr>\n",
       "  </tbody>\n",
       "</table>\n",
       "</div>"
      ],
      "text/plain": [
       "   PassengerId  Survived  Pclass  \\\n",
       "0            1         0       3   \n",
       "1            2         1       1   \n",
       "2            3         1       3   \n",
       "3            4         1       1   \n",
       "4            5         0       3   \n",
       "\n",
       "                                                Name     Sex   Age  SibSp  \\\n",
       "0                            Braund, Mr. Owen Harris    male  22.0      1   \n",
       "1  Cumings, Mrs. John Bradley (Florence Briggs Th...  female  38.0      1   \n",
       "2                             Heikkinen, Miss. Laina  female  26.0      0   \n",
       "3       Futrelle, Mrs. Jacques Heath (Lily May Peel)  female  35.0      1   \n",
       "4                           Allen, Mr. William Henry    male  35.0      0   \n",
       "\n",
       "   Parch            Ticket     Fare Cabin Embarked  \n",
       "0      0         A/5 21171   7.2500   NaN        S  \n",
       "1      0          PC 17599  71.2833   C85        C  \n",
       "2      0  STON/O2. 3101282   7.9250   NaN        S  \n",
       "3      0            113803  53.1000  C123        S  \n",
       "4      0            373450   8.0500   NaN        S  "
      ]
     },
     "execution_count": 9,
     "metadata": {},
     "output_type": "execute_result"
    }
   ],
   "source": [
    "df_train.head()"
   ]
  },
  {
   "cell_type": "code",
   "execution_count": 10,
   "id": "6142c663",
   "metadata": {},
   "outputs": [
    {
     "data": {
      "text/html": [
       "<div>\n",
       "<style scoped>\n",
       "    .dataframe tbody tr th:only-of-type {\n",
       "        vertical-align: middle;\n",
       "    }\n",
       "\n",
       "    .dataframe tbody tr th {\n",
       "        vertical-align: top;\n",
       "    }\n",
       "\n",
       "    .dataframe thead th {\n",
       "        text-align: right;\n",
       "    }\n",
       "</style>\n",
       "<table border=\"1\" class=\"dataframe\">\n",
       "  <thead>\n",
       "    <tr style=\"text-align: right;\">\n",
       "      <th></th>\n",
       "      <th>Survived</th>\n",
       "      <th>Pclass</th>\n",
       "      <th>Sex</th>\n",
       "      <th>Age</th>\n",
       "      <th>SibSp</th>\n",
       "      <th>Parch</th>\n",
       "      <th>Fare</th>\n",
       "      <th>Embarked</th>\n",
       "    </tr>\n",
       "  </thead>\n",
       "  <tbody>\n",
       "    <tr>\n",
       "      <th>0</th>\n",
       "      <td>0</td>\n",
       "      <td>3</td>\n",
       "      <td>male</td>\n",
       "      <td>22.0</td>\n",
       "      <td>1</td>\n",
       "      <td>0</td>\n",
       "      <td>7.2500</td>\n",
       "      <td>S</td>\n",
       "    </tr>\n",
       "    <tr>\n",
       "      <th>1</th>\n",
       "      <td>1</td>\n",
       "      <td>1</td>\n",
       "      <td>female</td>\n",
       "      <td>38.0</td>\n",
       "      <td>1</td>\n",
       "      <td>0</td>\n",
       "      <td>71.2833</td>\n",
       "      <td>C</td>\n",
       "    </tr>\n",
       "    <tr>\n",
       "      <th>2</th>\n",
       "      <td>1</td>\n",
       "      <td>3</td>\n",
       "      <td>female</td>\n",
       "      <td>26.0</td>\n",
       "      <td>0</td>\n",
       "      <td>0</td>\n",
       "      <td>7.9250</td>\n",
       "      <td>S</td>\n",
       "    </tr>\n",
       "    <tr>\n",
       "      <th>3</th>\n",
       "      <td>1</td>\n",
       "      <td>1</td>\n",
       "      <td>female</td>\n",
       "      <td>35.0</td>\n",
       "      <td>1</td>\n",
       "      <td>0</td>\n",
       "      <td>53.1000</td>\n",
       "      <td>S</td>\n",
       "    </tr>\n",
       "    <tr>\n",
       "      <th>4</th>\n",
       "      <td>0</td>\n",
       "      <td>3</td>\n",
       "      <td>male</td>\n",
       "      <td>35.0</td>\n",
       "      <td>0</td>\n",
       "      <td>0</td>\n",
       "      <td>8.0500</td>\n",
       "      <td>S</td>\n",
       "    </tr>\n",
       "  </tbody>\n",
       "</table>\n",
       "</div>"
      ],
      "text/plain": [
       "   Survived  Pclass     Sex   Age  SibSp  Parch     Fare Embarked\n",
       "0         0       3    male  22.0      1      0   7.2500        S\n",
       "1         1       1  female  38.0      1      0  71.2833        C\n",
       "2         1       3  female  26.0      0      0   7.9250        S\n",
       "3         1       1  female  35.0      1      0  53.1000        S\n",
       "4         0       3    male  35.0      0      0   8.0500        S"
      ]
     },
     "execution_count": 10,
     "metadata": {},
     "output_type": "execute_result"
    }
   ],
   "source": [
    "### We drop the cabin, Name, Ticket as they are not relevant parameters\n",
    "df_train = df_train.drop(['PassengerId','Name', 'Ticket','Cabin'],axis=1)\n",
    "df_train.head()"
   ]
  },
  {
   "cell_type": "code",
   "execution_count": 11,
   "id": "8df95604",
   "metadata": {},
   "outputs": [],
   "source": [
    "# Deal with the missing values in the age variable\n",
    "# The younger the passenger is, the more likely he/she will be in the third class\n",
    "# The older the passenger is, the more likely he/she will be in the first class, etc\n",
    "# Assign the age for the missing numbers based on this information\n",
    "# Define a function to handle this\n",
    "def age_approx(cols):\n",
    "    Age = cols[0]\n",
    "    Pclass = cols[1]\n",
    "    \n",
    "    if pd.isnull(Age):\n",
    "        if Pclass ==1:\n",
    "            return 37\n",
    "        elif Pclass ==2:\n",
    "            return 29\n",
    "        else:\n",
    "            return 24\n",
    "    else:\n",
    "        return Age"
   ]
  },
  {
   "cell_type": "code",
   "execution_count": 12,
   "id": "d3db02d4",
   "metadata": {},
   "outputs": [
    {
     "data": {
      "text/html": [
       "<div>\n",
       "<style scoped>\n",
       "    .dataframe tbody tr th:only-of-type {\n",
       "        vertical-align: middle;\n",
       "    }\n",
       "\n",
       "    .dataframe tbody tr th {\n",
       "        vertical-align: top;\n",
       "    }\n",
       "\n",
       "    .dataframe thead th {\n",
       "        text-align: right;\n",
       "    }\n",
       "</style>\n",
       "<table border=\"1\" class=\"dataframe\">\n",
       "  <thead>\n",
       "    <tr style=\"text-align: right;\">\n",
       "      <th></th>\n",
       "      <th>Survived</th>\n",
       "      <th>Age</th>\n",
       "      <th>SibSp</th>\n",
       "      <th>Parch</th>\n",
       "      <th>Fare</th>\n",
       "    </tr>\n",
       "    <tr>\n",
       "      <th>Pclass</th>\n",
       "      <th></th>\n",
       "      <th></th>\n",
       "      <th></th>\n",
       "      <th></th>\n",
       "      <th></th>\n",
       "    </tr>\n",
       "  </thead>\n",
       "  <tbody>\n",
       "    <tr>\n",
       "      <th>1</th>\n",
       "      <td>0.629630</td>\n",
       "      <td>38.233441</td>\n",
       "      <td>0.416667</td>\n",
       "      <td>0.356481</td>\n",
       "      <td>84.154687</td>\n",
       "    </tr>\n",
       "    <tr>\n",
       "      <th>2</th>\n",
       "      <td>0.472826</td>\n",
       "      <td>29.877630</td>\n",
       "      <td>0.402174</td>\n",
       "      <td>0.380435</td>\n",
       "      <td>20.662183</td>\n",
       "    </tr>\n",
       "    <tr>\n",
       "      <th>3</th>\n",
       "      <td>0.242363</td>\n",
       "      <td>25.140620</td>\n",
       "      <td>0.615071</td>\n",
       "      <td>0.393075</td>\n",
       "      <td>13.675550</td>\n",
       "    </tr>\n",
       "  </tbody>\n",
       "</table>\n",
       "</div>"
      ],
      "text/plain": [
       "        Survived        Age     SibSp     Parch       Fare\n",
       "Pclass                                                    \n",
       "1       0.629630  38.233441  0.416667  0.356481  84.154687\n",
       "2       0.472826  29.877630  0.402174  0.380435  20.662183\n",
       "3       0.242363  25.140620  0.615071  0.393075  13.675550"
      ]
     },
     "execution_count": 12,
     "metadata": {},
     "output_type": "execute_result"
    }
   ],
   "source": [
    "df_train.groupby(['Pclass']).mean()"
   ]
  },
  {
   "cell_type": "code",
   "execution_count": 13,
   "id": "4f4e586d",
   "metadata": {},
   "outputs": [],
   "source": [
    "df_train['Age'] = df_train[['Age','Pclass']].apply(age_approx,axis=1)"
   ]
  },
  {
   "cell_type": "code",
   "execution_count": 14,
   "id": "eba316e1",
   "metadata": {},
   "outputs": [
    {
     "data": {
      "text/plain": [
       "Survived    0\n",
       "Pclass      0\n",
       "Sex         0\n",
       "Age         0\n",
       "SibSp       0\n",
       "Parch       0\n",
       "Fare        0\n",
       "Embarked    2\n",
       "dtype: int64"
      ]
     },
     "execution_count": 14,
     "metadata": {},
     "output_type": "execute_result"
    }
   ],
   "source": [
    "df_train.isnull().sum()"
   ]
  },
  {
   "cell_type": "code",
   "execution_count": 15,
   "id": "31e3ba08",
   "metadata": {},
   "outputs": [
    {
     "data": {
      "text/plain": [
       "Survived    0\n",
       "Pclass      0\n",
       "Sex         0\n",
       "Age         0\n",
       "SibSp       0\n",
       "Parch       0\n",
       "Fare        0\n",
       "Embarked    0\n",
       "dtype: int64"
      ]
     },
     "execution_count": 15,
     "metadata": {},
     "output_type": "execute_result"
    }
   ],
   "source": [
    "# We can just drop the two null values in the Embarked variable\n",
    "df_train.dropna(inplace=True)\n",
    "df_train.isnull().sum()"
   ]
  },
  {
   "cell_type": "code",
   "execution_count": 16,
   "id": "ead75247",
   "metadata": {},
   "outputs": [
    {
     "data": {
      "text/plain": [
       "Survived      int64\n",
       "Pclass        int64\n",
       "Sex          object\n",
       "Age         float64\n",
       "SibSp         int64\n",
       "Parch         int64\n",
       "Fare        float64\n",
       "Embarked     object\n",
       "dtype: object"
      ]
     },
     "execution_count": 16,
     "metadata": {},
     "output_type": "execute_result"
    }
   ],
   "source": [
    "df_train.dtypes"
   ]
  },
  {
   "cell_type": "code",
   "execution_count": 17,
   "id": "e4e60e20",
   "metadata": {},
   "outputs": [
    {
     "name": "stdout",
     "output_type": "stream",
     "text": [
      "Label Encoding: Sex - 2\n",
      "Label Encoding: Embarked - 3\n"
     ]
    }
   ],
   "source": [
    "# Observe that Sex and Embarked are of categorical type. \n",
    "# We can use pd.get_dummies(df_train,colums=['sex']), etc or the encoder as below\n",
    "for c in ['Sex', 'Embarked']:\n",
    "    print(f\"Label Encoding: {c} - {df_train[c].nunique()}\")\n",
    "    le = LabelEncoder()\n",
    "    df_train[c] = le.fit_transform(df_train[c]) "
   ]
  },
  {
   "cell_type": "code",
   "execution_count": 18,
   "id": "0ac66b15",
   "metadata": {},
   "outputs": [
    {
     "data": {
      "text/html": [
       "<div>\n",
       "<style scoped>\n",
       "    .dataframe tbody tr th:only-of-type {\n",
       "        vertical-align: middle;\n",
       "    }\n",
       "\n",
       "    .dataframe tbody tr th {\n",
       "        vertical-align: top;\n",
       "    }\n",
       "\n",
       "    .dataframe thead th {\n",
       "        text-align: right;\n",
       "    }\n",
       "</style>\n",
       "<table border=\"1\" class=\"dataframe\">\n",
       "  <thead>\n",
       "    <tr style=\"text-align: right;\">\n",
       "      <th></th>\n",
       "      <th>Survived</th>\n",
       "      <th>Pclass</th>\n",
       "      <th>Sex</th>\n",
       "      <th>Age</th>\n",
       "      <th>SibSp</th>\n",
       "      <th>Parch</th>\n",
       "      <th>Fare</th>\n",
       "      <th>Embarked</th>\n",
       "    </tr>\n",
       "  </thead>\n",
       "  <tbody>\n",
       "    <tr>\n",
       "      <th>0</th>\n",
       "      <td>0</td>\n",
       "      <td>3</td>\n",
       "      <td>1</td>\n",
       "      <td>22.0</td>\n",
       "      <td>1</td>\n",
       "      <td>0</td>\n",
       "      <td>7.2500</td>\n",
       "      <td>2</td>\n",
       "    </tr>\n",
       "    <tr>\n",
       "      <th>1</th>\n",
       "      <td>1</td>\n",
       "      <td>1</td>\n",
       "      <td>0</td>\n",
       "      <td>38.0</td>\n",
       "      <td>1</td>\n",
       "      <td>0</td>\n",
       "      <td>71.2833</td>\n",
       "      <td>0</td>\n",
       "    </tr>\n",
       "    <tr>\n",
       "      <th>2</th>\n",
       "      <td>1</td>\n",
       "      <td>3</td>\n",
       "      <td>0</td>\n",
       "      <td>26.0</td>\n",
       "      <td>0</td>\n",
       "      <td>0</td>\n",
       "      <td>7.9250</td>\n",
       "      <td>2</td>\n",
       "    </tr>\n",
       "    <tr>\n",
       "      <th>3</th>\n",
       "      <td>1</td>\n",
       "      <td>1</td>\n",
       "      <td>0</td>\n",
       "      <td>35.0</td>\n",
       "      <td>1</td>\n",
       "      <td>0</td>\n",
       "      <td>53.1000</td>\n",
       "      <td>2</td>\n",
       "    </tr>\n",
       "    <tr>\n",
       "      <th>4</th>\n",
       "      <td>0</td>\n",
       "      <td>3</td>\n",
       "      <td>1</td>\n",
       "      <td>35.0</td>\n",
       "      <td>0</td>\n",
       "      <td>0</td>\n",
       "      <td>8.0500</td>\n",
       "      <td>2</td>\n",
       "    </tr>\n",
       "  </tbody>\n",
       "</table>\n",
       "</div>"
      ],
      "text/plain": [
       "   Survived  Pclass  Sex   Age  SibSp  Parch     Fare  Embarked\n",
       "0         0       3    1  22.0      1      0   7.2500         2\n",
       "1         1       1    0  38.0      1      0  71.2833         0\n",
       "2         1       3    0  26.0      0      0   7.9250         2\n",
       "3         1       1    0  35.0      1      0  53.1000         2\n",
       "4         0       3    1  35.0      0      0   8.0500         2"
      ]
     },
     "execution_count": 18,
     "metadata": {},
     "output_type": "execute_result"
    }
   ],
   "source": [
    "df_train.head()"
   ]
  },
  {
   "cell_type": "code",
   "execution_count": 19,
   "id": "6b8fbbe0",
   "metadata": {},
   "outputs": [
    {
     "data": {
      "image/png": "[encoded data removed]",
      "text/plain": [
       "<Figure size 864x864 with 2 Axes>"
      ]
     },
     "metadata": {},
     "output_type": "display_data"
    }
   ],
   "source": [
    "# We next check if the variables are correlated. Let's use heatmap\n",
    "#plt.figure(figsize=(6,4))\n",
    "#sns.heatmap(df_train.corr())\n",
    "f, ax = plt.subplots(figsize=(12, 12))\n",
    "sns.heatmap(df_train.corr(), cmap=\"Oranges\", annot = True, vmin=0, vmax=1, ax=ax);"
   ]
  },
  {
   "cell_type": "code",
   "execution_count": 20,
   "id": "2d9971c3",
   "metadata": {},
   "outputs": [
    {
     "data": {
      "text/html": [
       "<style type=\"text/css\">\n",
       "#T_1610f_row0_col0, #T_1610f_row1_col1, #T_1610f_row2_col2, #T_1610f_row3_col3, #T_1610f_row4_col4, #T_1610f_row5_col5, #T_1610f_row6_col6, #T_1610f_row7_col7 {\n",
       "  background-color: #023858;\n",
       "  color: #f1f1f1;\n",
       "}\n",
       "#T_1610f_row0_col1 {\n",
       "  background-color: #e9e5f1;\n",
       "  color: #000000;\n",
       "}\n",
       "#T_1610f_row0_col2, #T_1610f_row1_col3, #T_1610f_row1_col6, #T_1610f_row2_col0, #T_1610f_row2_col5, #T_1610f_row3_col4, #T_1610f_row6_col1, #T_1610f_row6_col7 {\n",
       "  background-color: #fff7fb;\n",
       "  color: #000000;\n",
       "}\n",
       "#T_1610f_row0_col3, #T_1610f_row7_col4 {\n",
       "  background-color: #d0d1e6;\n",
       "  color: #000000;\n",
       "}\n",
       "#T_1610f_row0_col4 {\n",
       "  background-color: #e2dfee;\n",
       "  color: #000000;\n",
       "}\n",
       "#T_1610f_row0_col5 {\n",
       "  background-color: #cccfe5;\n",
       "  color: #000000;\n",
       "}\n",
       "#T_1610f_row0_col6, #T_1610f_row6_col0 {\n",
       "  background-color: #6ba5cd;\n",
       "  color: #f1f1f1;\n",
       "}\n",
       "#T_1610f_row0_col7 {\n",
       "  background-color: #f8f1f8;\n",
       "  color: #000000;\n",
       "}\n",
       "#T_1610f_row1_col0 {\n",
       "  background-color: #eae6f1;\n",
       "  color: #000000;\n",
       "}\n",
       "#T_1610f_row1_col2, #T_1610f_row2_col1 {\n",
       "  background-color: #8eb3d5;\n",
       "  color: #000000;\n",
       "}\n",
       "#T_1610f_row1_col4 {\n",
       "  background-color: #cdd0e5;\n",
       "  color: #000000;\n",
       "}\n",
       "#T_1610f_row1_col5, #T_1610f_row7_col6 {\n",
       "  background-color: #d9d8ea;\n",
       "  color: #000000;\n",
       "}\n",
       "#T_1610f_row1_col7, #T_1610f_row3_col0 {\n",
       "  background-color: #b9c6e0;\n",
       "  color: #000000;\n",
       "}\n",
       "#T_1610f_row2_col3 {\n",
       "  background-color: #afc1dd;\n",
       "  color: #000000;\n",
       "}\n",
       "#T_1610f_row2_col4 {\n",
       "  background-color: #f0eaf4;\n",
       "  color: #000000;\n",
       "}\n",
       "#T_1610f_row2_col6, #T_1610f_row6_col2 {\n",
       "  background-color: #d3d4e7;\n",
       "  color: #000000;\n",
       "}\n",
       "#T_1610f_row2_col7, #T_1610f_row4_col2 {\n",
       "  background-color: #c8cde4;\n",
       "  color: #000000;\n",
       "}\n",
       "#T_1610f_row3_col1 {\n",
       "  background-color: #f1ebf5;\n",
       "  color: #000000;\n",
       "}\n",
       "#T_1610f_row3_col2, #T_1610f_row5_col0 {\n",
       "  background-color: #9ab8d8;\n",
       "  color: #000000;\n",
       "}\n",
       "#T_1610f_row3_col5 {\n",
       "  background-color: #f6eff7;\n",
       "  color: #000000;\n",
       "}\n",
       "#T_1610f_row3_col6 {\n",
       "  background-color: #8fb4d6;\n",
       "  color: #000000;\n",
       "}\n",
       "#T_1610f_row3_col7 {\n",
       "  background-color: #e1dfed;\n",
       "  color: #000000;\n",
       "}\n",
       "#T_1610f_row4_col0 {\n",
       "  background-color: #b5c4df;\n",
       "  color: #000000;\n",
       "}\n",
       "#T_1610f_row4_col1 {\n",
       "  background-color: #99b8d8;\n",
       "  color: #000000;\n",
       "}\n",
       "#T_1610f_row4_col3 {\n",
       "  background-color: #eee8f3;\n",
       "  color: #000000;\n",
       "}\n",
       "#T_1610f_row4_col5, #T_1610f_row5_col4 {\n",
       "  background-color: #65a3cb;\n",
       "  color: #f1f1f1;\n",
       "}\n",
       "#T_1610f_row4_col6, #T_1610f_row7_col1 {\n",
       "  background-color: #84b0d3;\n",
       "  color: #f1f1f1;\n",
       "}\n",
       "#T_1610f_row4_col7, #T_1610f_row7_col0 {\n",
       "  background-color: #d2d3e7;\n",
       "  color: #000000;\n",
       "}\n",
       "#T_1610f_row5_col1 {\n",
       "  background-color: #a9bfdc;\n",
       "  color: #000000;\n",
       "}\n",
       "#T_1610f_row5_col2 {\n",
       "  background-color: #dedcec;\n",
       "  color: #000000;\n",
       "}\n",
       "#T_1610f_row5_col3 {\n",
       "  background-color: #e3e0ee;\n",
       "  color: #000000;\n",
       "}\n",
       "#T_1610f_row5_col6 {\n",
       "  background-color: #76aad0;\n",
       "  color: #f1f1f1;\n",
       "}\n",
       "#T_1610f_row5_col7 {\n",
       "  background-color: #d8d7e9;\n",
       "  color: #000000;\n",
       "}\n",
       "#T_1610f_row6_col3, #T_1610f_row6_col5 {\n",
       "  background-color: #a7bddb;\n",
       "  color: #000000;\n",
       "}\n",
       "#T_1610f_row6_col4 {\n",
       "  background-color: #b7c5df;\n",
       "  color: #000000;\n",
       "}\n",
       "#T_1610f_row7_col2 {\n",
       "  background-color: #93b5d6;\n",
       "  color: #000000;\n",
       "}\n",
       "#T_1610f_row7_col3 {\n",
       "  background-color: #c6cce3;\n",
       "  color: #000000;\n",
       "}\n",
       "#T_1610f_row7_col5 {\n",
       "  background-color: #d4d4e8;\n",
       "  color: #000000;\n",
       "}\n",
       "</style>\n",
       "<table id=\"T_1610f_\">\n",
       "  <thead>\n",
       "    <tr>\n",
       "      <th class=\"blank level0\" >&nbsp;</th>\n",
       "      <th class=\"col_heading level0 col0\" >Survived</th>\n",
       "      <th class=\"col_heading level0 col1\" >Pclass</th>\n",
       "      <th class=\"col_heading level0 col2\" >Sex</th>\n",
       "      <th class=\"col_heading level0 col3\" >Age</th>\n",
       "      <th class=\"col_heading level0 col4\" >SibSp</th>\n",
       "      <th class=\"col_heading level0 col5\" >Parch</th>\n",
       "      <th class=\"col_heading level0 col6\" >Fare</th>\n",
       "      <th class=\"col_heading level0 col7\" >Embarked</th>\n",
       "    </tr>\n",
       "  </thead>\n",
       "  <tbody>\n",
       "    <tr>\n",
       "      <th id=\"T_1610f_level0_row0\" class=\"row_heading level0 row0\" >Survived</th>\n",
       "      <td id=\"T_1610f_row0_col0\" class=\"data row0 col0\" >1.000000</td>\n",
       "      <td id=\"T_1610f_row0_col1\" class=\"data row0 col1\" >-0.335549</td>\n",
       "      <td id=\"T_1610f_row0_col2\" class=\"data row0 col2\" >-0.541585</td>\n",
       "      <td id=\"T_1610f_row0_col3\" class=\"data row0 col3\" >-0.052051</td>\n",
       "      <td id=\"T_1610f_row0_col4\" class=\"data row0 col4\" >-0.034040</td>\n",
       "      <td id=\"T_1610f_row0_col5\" class=\"data row0 col5\" >0.083151</td>\n",
       "      <td id=\"T_1610f_row0_col6\" class=\"data row0 col6\" >0.255290</td>\n",
       "      <td id=\"T_1610f_row0_col7\" class=\"data row0 col7\" >-0.169718</td>\n",
       "    </tr>\n",
       "    <tr>\n",
       "      <th id=\"T_1610f_level0_row1\" class=\"row_heading level0 row1\" >Pclass</th>\n",
       "      <td id=\"T_1610f_row1_col0\" class=\"data row1 col0\" >-0.335549</td>\n",
       "      <td id=\"T_1610f_row1_col1\" class=\"data row1 col1\" >1.000000</td>\n",
       "      <td id=\"T_1610f_row1_col2\" class=\"data row1 col2\" >0.127741</td>\n",
       "      <td id=\"T_1610f_row1_col3\" class=\"data row1 col3\" >-0.405549</td>\n",
       "      <td id=\"T_1610f_row1_col4\" class=\"data row1 col4\" >0.081656</td>\n",
       "      <td id=\"T_1610f_row1_col5\" class=\"data row1 col5\" >0.016824</td>\n",
       "      <td id=\"T_1610f_row1_col6\" class=\"data row1 col6\" >-0.548193</td>\n",
       "      <td id=\"T_1610f_row1_col7\" class=\"data row1 col7\" >0.164681</td>\n",
       "    </tr>\n",
       "    <tr>\n",
       "      <th id=\"T_1610f_level0_row2\" class=\"row_heading level0 row2\" >Sex</th>\n",
       "      <td id=\"T_1610f_row2_col0\" class=\"data row2 col0\" >-0.541585</td>\n",
       "      <td id=\"T_1610f_row2_col1\" class=\"data row2 col1\" >0.127741</td>\n",
       "      <td id=\"T_1610f_row2_col2\" class=\"data row2 col2\" >1.000000</td>\n",
       "      <td id=\"T_1610f_row2_col3\" class=\"data row2 col3\" >0.083730</td>\n",
       "      <td id=\"T_1610f_row2_col4\" class=\"data row2 col4\" >-0.116348</td>\n",
       "      <td id=\"T_1610f_row2_col5\" class=\"data row2 col5\" >-0.247508</td>\n",
       "      <td id=\"T_1610f_row2_col6\" class=\"data row2 col6\" >-0.179958</td>\n",
       "      <td id=\"T_1610f_row2_col7\" class=\"data row2 col7\" >0.110320</td>\n",
       "    </tr>\n",
       "    <tr>\n",
       "      <th id=\"T_1610f_level0_row3\" class=\"row_heading level0 row3\" >Age</th>\n",
       "      <td id=\"T_1610f_row3_col0\" class=\"data row3 col0\" >-0.052051</td>\n",
       "      <td id=\"T_1610f_row3_col1\" class=\"data row3 col1\" >-0.405549</td>\n",
       "      <td id=\"T_1610f_row3_col2\" class=\"data row3 col2\" >0.083730</td>\n",
       "      <td id=\"T_1610f_row3_col3\" class=\"data row3 col3\" >1.000000</td>\n",
       "      <td id=\"T_1610f_row3_col4\" class=\"data row3 col4\" >-0.242807</td>\n",
       "      <td id=\"T_1610f_row3_col5\" class=\"data row3 col5\" >-0.170089</td>\n",
       "      <td id=\"T_1610f_row3_col6\" class=\"data row3 col6\" >0.120938</td>\n",
       "      <td id=\"T_1610f_row3_col7\" class=\"data row3 col7\" >-0.013385</td>\n",
       "    </tr>\n",
       "    <tr>\n",
       "      <th id=\"T_1610f_level0_row4\" class=\"row_heading level0 row4\" >SibSp</th>\n",
       "      <td id=\"T_1610f_row4_col0\" class=\"data row4 col0\" >-0.034040</td>\n",
       "      <td id=\"T_1610f_row4_col1\" class=\"data row4 col1\" >0.081656</td>\n",
       "      <td id=\"T_1610f_row4_col2\" class=\"data row4 col2\" >-0.116348</td>\n",
       "      <td id=\"T_1610f_row4_col3\" class=\"data row4 col3\" >-0.242807</td>\n",
       "      <td id=\"T_1610f_row4_col4\" class=\"data row4 col4\" >1.000000</td>\n",
       "      <td id=\"T_1610f_row4_col5\" class=\"data row4 col5\" >0.414542</td>\n",
       "      <td id=\"T_1610f_row4_col6\" class=\"data row4 col6\" >0.160887</td>\n",
       "      <td id=\"T_1610f_row4_col7\" class=\"data row4 col7\" >0.068900</td>\n",
       "    </tr>\n",
       "    <tr>\n",
       "      <th id=\"T_1610f_level0_row5\" class=\"row_heading level0 row5\" >Parch</th>\n",
       "      <td id=\"T_1610f_row5_col0\" class=\"data row5 col0\" >0.083151</td>\n",
       "      <td id=\"T_1610f_row5_col1\" class=\"data row5 col1\" >0.016824</td>\n",
       "      <td id=\"T_1610f_row5_col2\" class=\"data row5 col2\" >-0.247508</td>\n",
       "      <td id=\"T_1610f_row5_col3\" class=\"data row5 col3\" >-0.170089</td>\n",
       "      <td id=\"T_1610f_row5_col4\" class=\"data row5 col4\" >0.414542</td>\n",
       "      <td id=\"T_1610f_row5_col5\" class=\"data row5 col5\" >1.000000</td>\n",
       "      <td id=\"T_1610f_row5_col6\" class=\"data row5 col6\" >0.217532</td>\n",
       "      <td id=\"T_1610f_row5_col7\" class=\"data row5 col7\" >0.040449</td>\n",
       "    </tr>\n",
       "    <tr>\n",
       "      <th id=\"T_1610f_level0_row6\" class=\"row_heading level0 row6\" >Fare</th>\n",
       "      <td id=\"T_1610f_row6_col0\" class=\"data row6 col0\" >0.255290</td>\n",
       "      <td id=\"T_1610f_row6_col1\" class=\"data row6 col1\" >-0.548193</td>\n",
       "      <td id=\"T_1610f_row6_col2\" class=\"data row6 col2\" >-0.179958</td>\n",
       "      <td id=\"T_1610f_row6_col3\" class=\"data row6 col3\" >0.120938</td>\n",
       "      <td id=\"T_1610f_row6_col4\" class=\"data row6 col4\" >0.160887</td>\n",
       "      <td id=\"T_1610f_row6_col5\" class=\"data row6 col5\" >0.217532</td>\n",
       "      <td id=\"T_1610f_row6_col6\" class=\"data row6 col6\" >1.000000</td>\n",
       "      <td id=\"T_1610f_row6_col7\" class=\"data row6 col7\" >-0.226311</td>\n",
       "    </tr>\n",
       "    <tr>\n",
       "      <th id=\"T_1610f_level0_row7\" class=\"row_heading level0 row7\" >Embarked</th>\n",
       "      <td id=\"T_1610f_row7_col0\" class=\"data row7 col0\" >-0.169718</td>\n",
       "      <td id=\"T_1610f_row7_col1\" class=\"data row7 col1\" >0.164681</td>\n",
       "      <td id=\"T_1610f_row7_col2\" class=\"data row7 col2\" >0.110320</td>\n",
       "      <td id=\"T_1610f_row7_col3\" class=\"data row7 col3\" >-0.013385</td>\n",
       "      <td id=\"T_1610f_row7_col4\" class=\"data row7 col4\" >0.068900</td>\n",
       "      <td id=\"T_1610f_row7_col5\" class=\"data row7 col5\" >0.040449</td>\n",
       "      <td id=\"T_1610f_row7_col6\" class=\"data row7 col6\" >-0.226311</td>\n",
       "      <td id=\"T_1610f_row7_col7\" class=\"data row7 col7\" >1.000000</td>\n",
       "    </tr>\n",
       "  </tbody>\n",
       "</table>\n"
      ],
      "text/plain": [
       "<pandas.io.formats.style.Styler at 0x14697ea61ee0>"
      ]
     },
     "execution_count": 20,
     "metadata": {},
     "output_type": "execute_result"
    }
   ],
   "source": [
    "correlation = df_train.corr()\n",
    "correlation.style.background_gradient() #This compliments the heatmap and also gives numerical values"
   ]
  },
  {
   "cell_type": "code",
   "execution_count": 21,
   "id": "cca402e9",
   "metadata": {},
   "outputs": [],
   "source": [
    "# Use the ones with strong correlation to build the features\n",
    "used_features = ['Pclass','Age','SibSp','Sex','Embarked']\n",
    "X = df_train[used_features].values # Independent variables\n",
    "y = df_train['Survived'] # Dependent variable"
   ]
  },
  {
   "cell_type": "code",
   "execution_count": 22,
   "id": "6b6dd048",
   "metadata": {},
   "outputs": [],
   "source": [
    "# Split into train and test\n",
    "X_train, X_test, y_train, y_test = train_test_split(X,y,test_size=0.30,train_size=0.70,random_state=42)"
   ]
  },
  {
   "cell_type": "code",
   "execution_count": 23,
   "id": "06529b64",
   "metadata": {},
   "outputs": [
    {
     "name": "stdout",
     "output_type": "stream",
     "text": [
      "(622, 5)\n",
      "(267, 5)\n",
      "(622,)\n",
      "(267,)\n"
     ]
    }
   ],
   "source": [
    "# Check the shape\n",
    "print(X_train.shape)\n",
    "print(X_test.shape)\n",
    "print(y_train.shape)\n",
    "print(y_test.shape)"
   ]
  },
  {
   "cell_type": "code",
   "execution_count": 24,
   "id": "e3a16319",
   "metadata": {},
   "outputs": [
    {
     "data": {
      "text/plain": [
       "LogisticRegression()"
      ]
     },
     "execution_count": 24,
     "metadata": {},
     "output_type": "execute_result"
    }
   ],
   "source": [
    "# Use logistic regression to the training data\n",
    "LogReg = LogisticRegression()\n",
    "LogReg.fit(X_train,y_train)"
   ]
  },
  {
   "cell_type": "code",
   "execution_count": 25,
   "id": "c259d81f",
   "metadata": {},
   "outputs": [],
   "source": [
    "# Store the prediction given by the classifier \n",
    "y_pred = LogReg.predict(X_test)"
   ]
  },
  {
   "cell_type": "code",
   "execution_count": 26,
   "id": "2c1c23ac",
   "metadata": {},
   "outputs": [
    {
     "data": {
      "text/plain": [
       "array([[139,  28],\n",
       "       [ 25,  75]])"
      ]
     },
     "execution_count": 26,
     "metadata": {},
     "output_type": "execute_result"
    }
   ],
   "source": [
    "#Compute the confusion matrics to evaluate the accuracy of the classification\n",
    "metrics.confusion_matrix(y_test,y_pred)"
   ]
  },
  {
   "cell_type": "markdown",
   "id": "056d3704",
   "metadata": {},
   "source": [
    "### Inferences from the confusion metrics\n",
    "* Out of 167 actual instances of not survived, the model (classifier) predicted correctly 139 of them\n",
    "* Out of the 100 actual instances of survived, the model (classifier) predicted correctly 75 of them"
   ]
  },
  {
   "cell_type": "code",
   "execution_count": 27,
   "id": "2a19e752",
   "metadata": {},
   "outputs": [
    {
     "data": {
      "text/plain": [
       "0.8014981273408239"
      ]
     },
     "execution_count": 27,
     "metadata": {},
     "output_type": "execute_result"
    }
   ],
   "source": [
    "metrics.accuracy_score(y_test,y_pred)"
   ]
  },
  {
   "cell_type": "markdown",
   "id": "80f98fe4",
   "metadata": {},
   "source": [
    "### Inference from the accuracy score\n",
    "* Our model has an accuracy of 80%, i.e., out of every 100 passenger it classified, 80% is correctly classified as survived or not survived"
   ]
  },
  {
   "cell_type": "code",
   "execution_count": 28,
   "id": "57ed6b01",
   "metadata": {},
   "outputs": [
    {
     "data": {
      "text/plain": [
       "267"
      ]
     },
     "execution_count": 28,
     "metadata": {},
     "output_type": "execute_result"
    }
   ],
   "source": [
    "len(X_test)"
   ]
  },
  {
   "cell_type": "code",
   "execution_count": 29,
   "id": "dfd92a70",
   "metadata": {},
   "outputs": [
    {
     "name": "stdout",
     "output_type": "stream",
     "text": [
      "              precision    recall  f1-score   support\n",
      "\n",
      "           0       0.85      0.83      0.84       167\n",
      "           1       0.73      0.75      0.74       100\n",
      "\n",
      "    accuracy                           0.80       267\n",
      "   macro avg       0.79      0.79      0.79       267\n",
      "weighted avg       0.80      0.80      0.80       267\n",
      "\n"
     ]
    }
   ],
   "source": [
    "# Let us print other performance measures from the confusion metrics\n",
    "print(classification_report(y_test,y_pred))"
   ]
  },
  {
   "cell_type": "markdown",
   "id": "ff3a3cc5",
   "metadata": {},
   "source": [
    "## Inference\n",
    "* The algorithm has good precision and recall scores"
   ]
  },
  {
   "cell_type": "code",
   "execution_count": 30,
   "id": "4aa2ec9e",
   "metadata": {},
   "outputs": [
    {
     "data": {
      "text/plain": [
       "array([[-1.19532306, -0.04915607, -0.39846052, -2.59337007, -0.28660967]])"
      ]
     },
     "execution_count": 30,
     "metadata": {},
     "output_type": "execute_result"
    }
   ],
   "source": [
    "# Print out the intercept and the coefficient\n",
    "LogReg.coef_"
   ]
  },
  {
   "cell_type": "code",
   "execution_count": 31,
   "id": "ca914caf",
   "metadata": {},
   "outputs": [
    {
     "data": {
      "text/plain": [
       "array([5.9307292])"
      ]
     },
     "execution_count": 31,
     "metadata": {},
     "output_type": "execute_result"
    }
   ],
   "source": [
    "LogReg.intercept_"
   ]
  },
  {
   "cell_type": "code",
   "execution_count": 32,
   "id": "efbd2f11",
   "metadata": {},
   "outputs": [
    {
     "data": {
      "text/plain": [
       "Index(['Pclass', 'Age', 'SibSp', 'Sex', 'Embarked'], dtype='object')"
      ]
     },
     "execution_count": 32,
     "metadata": {},
     "output_type": "execute_result"
    }
   ],
   "source": [
    "# Finally, use the X_test score values to check the algorithm predicted probabilites\n",
    "df_train[used_features].columns"
   ]
  },
  {
   "cell_type": "code",
   "execution_count": 33,
   "id": "cb71ceea",
   "metadata": {},
   "outputs": [
    {
     "data": {
      "text/plain": [
       "array([[0.90008769, 0.09991231],\n",
       "       [0.0441275 , 0.9558725 ],\n",
       "       [0.22129863, 0.77870137],\n",
       "       [0.7504827 , 0.2495173 ],\n",
       "       [0.03635548, 0.96364452],\n",
       "       [0.89557934, 0.10442066],\n",
       "       [0.70170037, 0.29829963],\n",
       "       [0.86460857, 0.13539143],\n",
       "       [0.08167083, 0.91832917],\n",
       "       [0.03694344, 0.96305656],\n",
       "       [0.60180782, 0.39819218],\n",
       "       [0.45181636, 0.54818364],\n",
       "       [0.96540334, 0.03459666],\n",
       "       [0.87270922, 0.12729078],\n",
       "       [0.90442217, 0.09557783],\n",
       "       [0.90008769, 0.09991231],\n",
       "       [0.67133468, 0.32866532],\n",
       "       [0.80664498, 0.19335502],\n",
       "       [0.72623143, 0.27376857],\n",
       "       [0.88096235, 0.11903765],\n",
       "       [0.7324834 , 0.2675166 ],\n",
       "       [0.08759082, 0.91240918],\n",
       "       [0.94716924, 0.05283076],\n",
       "       [0.41988108, 0.58011892],\n",
       "       [0.88096235, 0.11903765],\n",
       "       [0.45616449, 0.54383551],\n",
       "       [0.69485273, 0.30514727],\n",
       "       [0.13848297, 0.86151703],\n",
       "       [0.56216611, 0.43783389],\n",
       "       [0.71188652, 0.28811348],\n",
       "       [0.45203623, 0.54796377],\n",
       "       [0.29350847, 0.70649153],\n",
       "       [0.88096235, 0.11903765],\n",
       "       [0.40795696, 0.59204304],\n",
       "       [0.96032432, 0.03967568],\n",
       "       [0.65665394, 0.34334606],\n",
       "       [0.21381876, 0.78618124],\n",
       "       [0.39614024, 0.60385976],\n",
       "       [0.80664498, 0.19335502],\n",
       "       [0.88096235, 0.11903765],\n",
       "       [0.8684914 , 0.1315086 ],\n",
       "       [0.4640177 , 0.5359823 ],\n",
       "       [0.68072289, 0.31927711],\n",
       "       [0.89089221, 0.10910779],\n",
       "       [0.52559999, 0.47440001],\n",
       "       [0.45616449, 0.54383551],\n",
       "       [0.21579435, 0.78420565],\n",
       "       [0.88096235, 0.11903765],\n",
       "       [0.78546662, 0.21453338],\n",
       "       [0.09299495, 0.90700505],\n",
       "       [0.0676872 , 0.9323128 ],\n",
       "       [0.24523582, 0.75476418],\n",
       "       [0.87026038, 0.12973962],\n",
       "       [0.89915165, 0.10084835],\n",
       "       [0.08884378, 0.91115622],\n",
       "       [0.11579184, 0.88420816],\n",
       "       [0.46686439, 0.53313561],\n",
       "       [0.93928431, 0.06071569],\n",
       "       [0.83317891, 0.16682109],\n",
       "       [0.7504827 , 0.2495173 ],\n",
       "       [0.65880076, 0.34119924],\n",
       "       [0.50082244, 0.49917756],\n",
       "       [0.19979413, 0.80020587],\n",
       "       [0.83317891, 0.16682109],\n",
       "       [0.16251271, 0.83748729],\n",
       "       [0.62511482, 0.37488518],\n",
       "       [0.96372345, 0.03627655],\n",
       "       [0.90008769, 0.09991231],\n",
       "       [0.08167083, 0.91832917],\n",
       "       [0.02776934, 0.97223066],\n",
       "       [0.72186272, 0.27813728],\n",
       "       [0.02495489, 0.97504511],\n",
       "       [0.23775734, 0.76224266],\n",
       "       [0.89557934, 0.10442066],\n",
       "       [0.59785566, 0.40214434],\n",
       "       [0.2233237 , 0.7766763 ],\n",
       "       [0.85268219, 0.14731781],\n",
       "       [0.92705396, 0.07294604],\n",
       "       [0.15799421, 0.84200579],\n",
       "       [0.46423848, 0.53576152],\n",
       "       [0.60837396, 0.39162604],\n",
       "       [0.03694344, 0.96305656],\n",
       "       [0.1108533 , 0.8891467 ],\n",
       "       [0.29350847, 0.70649153],\n",
       "       [0.84504736, 0.15495264],\n",
       "       [0.8474792 , 0.1525208 ],\n",
       "       [0.94716924, 0.05283076],\n",
       "       [0.68072289, 0.31927711],\n",
       "       [0.88602147, 0.11397853],\n",
       "       [0.88096235, 0.11903765],\n",
       "       [0.91258924, 0.08741076],\n",
       "       [0.33400923, 0.66599077],\n",
       "       [0.87026038, 0.12973962],\n",
       "       [0.92012008, 0.07987992],\n",
       "       [0.88096235, 0.11903765],\n",
       "       [0.22556305, 0.77443695],\n",
       "       [0.88096235, 0.11903765],\n",
       "       [0.79363361, 0.20636639],\n",
       "       [0.80485421, 0.19514579],\n",
       "       [0.8474792 , 0.1525208 ],\n",
       "       [0.88602147, 0.11397853],\n",
       "       [0.03152793, 0.96847207],\n",
       "       [0.46661114, 0.53338886],\n",
       "       [0.91643172, 0.08356828],\n",
       "       [0.93548592, 0.06451408],\n",
       "       [0.94957562, 0.05042438],\n",
       "       [0.39071045, 0.60928955],\n",
       "       [0.03306392, 0.96693608],\n",
       "       [0.79084784, 0.20915216],\n",
       "       [0.86460857, 0.13539143],\n",
       "       [0.85875052, 0.14124948],\n",
       "       [0.26669686, 0.73330314],\n",
       "       [0.9609158 , 0.0390842 ],\n",
       "       [0.1147348 , 0.8852652 ],\n",
       "       [0.89220127, 0.10779873],\n",
       "       [0.8913978 , 0.1086022 ],\n",
       "       [0.90728564, 0.09271436],\n",
       "       [0.74116497, 0.25883503],\n",
       "       [0.42632559, 0.57367441],\n",
       "       [0.91722658, 0.08277342],\n",
       "       [0.54300227, 0.45699773],\n",
       "       [0.06371471, 0.93628529],\n",
       "       [0.96012526, 0.03987474],\n",
       "       [0.88096235, 0.11903765],\n",
       "       [0.03220245, 0.96779755],\n",
       "       [0.07459409, 0.92540591],\n",
       "       [0.41988108, 0.58011892],\n",
       "       [0.13626792, 0.86373208],\n",
       "       [0.26388501, 0.73611499],\n",
       "       [0.79907889, 0.20092111],\n",
       "       [0.17634089, 0.82365911],\n",
       "       [0.60180782, 0.39819218],\n",
       "       [0.88042085, 0.11957915],\n",
       "       [0.80664498, 0.19335502],\n",
       "       [0.37907343, 0.62092657],\n",
       "       [0.26027011, 0.73972989],\n",
       "       [0.91258924, 0.08741076],\n",
       "       [0.14342642, 0.85657358],\n",
       "       [0.38030098, 0.61969902],\n",
       "       [0.1108533 , 0.8891467 ],\n",
       "       [0.28511399, 0.71488601],\n",
       "       [0.88096235, 0.11903765],\n",
       "       [0.16931443, 0.83068557],\n",
       "       [0.46479244, 0.53520756],\n",
       "       [0.0513375 , 0.9486625 ],\n",
       "       [0.65665394, 0.34334606],\n",
       "       [0.9463843 , 0.0536157 ],\n",
       "       [0.07459409, 0.92540591],\n",
       "       [0.88096235, 0.11903765],\n",
       "       [0.07345262, 0.92654738],\n",
       "       [0.88096235, 0.11903765],\n",
       "       [0.23289548, 0.76710452],\n",
       "       [0.67732781, 0.32267219],\n",
       "       [0.41758525, 0.58241475],\n",
       "       [0.81498363, 0.18501637],\n",
       "       [0.1220329 , 0.8779671 ],\n",
       "       [0.45203623, 0.54796377],\n",
       "       [0.90641003, 0.09358997],\n",
       "       [0.89489932, 0.10510068],\n",
       "       [0.08104849, 0.91895151],\n",
       "       [0.92050232, 0.07949768],\n",
       "       [0.02927548, 0.97072452],\n",
       "       [0.91643172, 0.08356828],\n",
       "       [0.8474792 , 0.1525208 ],\n",
       "       [0.74137133, 0.25862867],\n",
       "       [0.51310845, 0.48689155],\n",
       "       [0.12510486, 0.87489514],\n",
       "       [0.87026038, 0.12973962],\n",
       "       [0.92705396, 0.07294604],\n",
       "       [0.21491364, 0.78508636],\n",
       "       [0.14342642, 0.85657358],\n",
       "       [0.31864753, 0.68135247],\n",
       "       [0.18184534, 0.81815466],\n",
       "       [0.83989978, 0.16010022],\n",
       "       [0.2917848 , 0.7082152 ],\n",
       "       [0.6212484 , 0.3787516 ],\n",
       "       [0.74000434, 0.25999566],\n",
       "       [0.23569004, 0.76430996],\n",
       "       [0.04390818, 0.95609182],\n",
       "       [0.31722505, 0.68277495],\n",
       "       [0.91643172, 0.08356828],\n",
       "       [0.93059654, 0.06940346],\n",
       "       [0.97075362, 0.02924638],\n",
       "       [0.48016381, 0.51983619],\n",
       "       [0.87026038, 0.12973962],\n",
       "       [0.90008769, 0.09991231],\n",
       "       [0.88096235, 0.11903765],\n",
       "       [0.56216611, 0.43783389],\n",
       "       [0.74116497, 0.25883503],\n",
       "       [0.86339059, 0.13660941],\n",
       "       [0.92497091, 0.07502909],\n",
       "       [0.89220127, 0.10779873],\n",
       "       [0.29350847, 0.70649153],\n",
       "       [0.89867806, 0.10132194],\n",
       "       [0.8913978 , 0.1086022 ],\n",
       "       [0.81440025, 0.18559975],\n",
       "       [0.87026038, 0.12973962],\n",
       "       [0.15371823, 0.84628177],\n",
       "       [0.5391342 , 0.4608658 ],\n",
       "       [0.64647642, 0.35352358],\n",
       "       [0.92845131, 0.07154869],\n",
       "       [0.42632559, 0.57367441],\n",
       "       [0.67732781, 0.32267219],\n",
       "       [0.94465472, 0.05534528],\n",
       "       [0.83989978, 0.16010022],\n",
       "       [0.76658633, 0.23341367],\n",
       "       [0.89089221, 0.10910779],\n",
       "       [0.80664498, 0.19335502],\n",
       "       [0.02776934, 0.97223066],\n",
       "       [0.39614024, 0.60385976],\n",
       "       [0.9085877 , 0.0914123 ],\n",
       "       [0.75107645, 0.24892355],\n",
       "       [0.8474792 , 0.1525208 ],\n",
       "       [0.41988108, 0.58011892],\n",
       "       [0.89240281, 0.10759719],\n",
       "       [0.9259935 , 0.0740065 ],\n",
       "       [0.21897437, 0.78102563],\n",
       "       [0.82398643, 0.17601357],\n",
       "       [0.88096235, 0.11903765],\n",
       "       [0.36899299, 0.63100701],\n",
       "       [0.90008769, 0.09991231],\n",
       "       [0.16931443, 0.83068557],\n",
       "       [0.12510486, 0.87489514],\n",
       "       [0.33400923, 0.66599077],\n",
       "       [0.37541383, 0.62458617],\n",
       "       [0.74116497, 0.25883503],\n",
       "       [0.56216611, 0.43783389],\n",
       "       [0.22988539, 0.77011461],\n",
       "       [0.37907343, 0.62092657],\n",
       "       [0.04390818, 0.95609182],\n",
       "       [0.29350847, 0.70649153],\n",
       "       [0.8474792 , 0.1525208 ],\n",
       "       [0.86460857, 0.13539143],\n",
       "       [0.99445478, 0.00554522],\n",
       "       [0.8474792 , 0.1525208 ],\n",
       "       [0.8474792 , 0.1525208 ],\n",
       "       [0.52927594, 0.47072406],\n",
       "       [0.01891119, 0.98108881],\n",
       "       [0.87400474, 0.12599526],\n",
       "       [0.95705154, 0.04294846],\n",
       "       [0.37663671, 0.62336329],\n",
       "       [0.80664498, 0.19335502],\n",
       "       [0.05378498, 0.94621502],\n",
       "       [0.92050232, 0.07949768],\n",
       "       [0.79006074, 0.20993926],\n",
       "       [0.67018366, 0.32981634],\n",
       "       [0.29350847, 0.70649153],\n",
       "       [0.7504827 , 0.2495173 ],\n",
       "       [0.72855405, 0.27144595],\n",
       "       [0.87026038, 0.12973962],\n",
       "       [0.84436366, 0.15563634],\n",
       "       [0.88096235, 0.11903765],\n",
       "       [0.79084784, 0.20915216],\n",
       "       [0.08374115, 0.91625885],\n",
       "       [0.85268219, 0.14731781],\n",
       "       [0.52537864, 0.47462136],\n",
       "       [0.77412147, 0.22587853],\n",
       "       [0.23196562, 0.76803438],\n",
       "       [0.70170037, 0.29829963],\n",
       "       [0.87931906, 0.12068094],\n",
       "       [0.83173322, 0.16826678],\n",
       "       [0.93641969, 0.06358031],\n",
       "       [0.88096235, 0.11903765],\n",
       "       [0.36145793, 0.63854207],\n",
       "       [0.81419645, 0.18580355],\n",
       "       [0.6454875 , 0.3545125 ],\n",
       "       [0.45203623, 0.54796377]])"
      ]
     },
     "execution_count": 33,
     "metadata": {},
     "output_type": "execute_result"
    }
   ],
   "source": [
    "LogReg.predict_proba(X_test)"
   ]
  },
  {
   "cell_type": "markdown",
   "id": "af63528c",
   "metadata": {},
   "source": [
    "### Interpretation and meaning of the output above\n",
    "* First column is the probability that the entry has not survived label\n",
    "* Second columnis the probability that the entry has the survived label\n",
    "* Note the sum of any two rows must be equal to one as per the normalized probability value of 1"
   ]
  }
 ],
 "metadata": {
  "kernelspec": {
   "display_name": "Python 3 (ipykernel)",
   "language": "python",
   "name": "python3"
  },
  "language_info": {
   "codemirror_mode": {
    "name": "ipython",
    "version": 3
   },
   "file_extension": ".py",
   "mimetype": "text/x-python",
   "name": "python",
   "nbconvert_exporter": "python",
   "pygments_lexer": "ipython3",
   "version": "3.8.8"
  }
 },
 "nbformat": 4,
 "nbformat_minor": 5
}
