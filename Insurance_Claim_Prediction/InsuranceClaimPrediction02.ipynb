{
 "cells": [
  {
   "cell_type": "markdown",
   "metadata": {},
   "source": [
    "<img src=\"https://cekumagroup.cas.lehigh.edu/sites/cekumagroup.cas2.lehigh.edu/files/image10.jpg \"/>\n",
    "\n",
    "\n",
    "## DESCRIPTION\n",
    "- Health insurance has become an indispensable part of our lives in recent years, and people are paying for it so that they are covered in the event of an accident or other unpredicted factors.\n",
    "- You are provided with medical costs dataset that has features such as Age, Cost, BMI.\n",
    "\n",
    "### Objective:\n",
    "    • Determine the factors that contribute the most in the calculation of insurance costs.\n",
    "    • Predict the health Insurance Cost.\n",
    "\n",
    "### Actions to Perform:\n",
    "    1. Find the correlation of every pair of features (and the outcome variable).\n",
    "    2. Visualize the correlations using a heatmap.\n",
    "    3. Normalize your inputs.\n",
    "    4. Use the test data to find out the accuracy of the model.\n",
    "    5. Visualize how your model uses the different features and which features have a greater effect.\n",
    "\n",
    "\n",
    "### Domain: Health Insurance Cost\n",
    "\n",
    "\n",
    "#### Let us classify the variables as:\n",
    "**Independent variables**\n",
    "\n",
    "1. age : age of policyholder\n",
    "2. sex: gender of policy holder (female=0, male=1)\n",
    "3. bmi: Body mass index, ideally 18.5 to 25\n",
    "4. children: number of children / dependents of policyholder\n",
    "5. smoker: smoking state of policyholder (non-smoke=0;smoker=1) \n",
    "6. region: the residential area of policyholder in the US (northeast=0, northwest=1, southeast=2, southwest=3)\n",
    "7. charges: individual medical costs billed by health insurance\n",
    "\n",
    "**Target variable**\n",
    "\n",
    "1. insuranceclaim - categorical variable (0,1)"
   ]
  },
  {
   "cell_type": "code",
   "execution_count": 1,
   "metadata": {},
   "outputs": [],
   "source": [
    "# Import the required libraries\n",
    "import pandas as pd\n",
    "import numpy as np\n",
    "import seaborn as sns\n",
    "import matplotlib.pyplot as plt\n",
    "%matplotlib inline\n",
    " \n",
    "from sklearn.linear_model import LogisticRegression,LinearRegression\n",
    "from sklearn.preprocessing import LabelEncoder,StandardScaler\n",
    "from sklearn.model_selection import train_test_split\n",
    "import warnings\n",
    "warnings.filterwarnings('ignore')\n"
   ]
  },
  {
   "cell_type": "code",
   "execution_count": 2,
   "metadata": {},
   "outputs": [
    {
     "name": "stdout",
     "output_type": "stream",
     "text": [
      "    age     sex     bmi  children smoker     region      charges\n",
      "0    19  female  27.900         0    yes  southwest  16884.92400\n",
      "1    18    male  33.770         1     no  southeast   1725.55230\n",
      "2    28    male  33.000         3     no  southeast   4449.46200\n",
      "3    33    male  22.705         0     no  northwest  21984.47061\n",
      "4    32    male  28.880         0     no  northwest   3866.85520\n",
      "5    31  female  25.740         0     no  southeast   3756.62160\n",
      "6    46  female  33.440         1     no  southeast   8240.58960\n",
      "7    37  female  27.740         3     no  northwest   7281.50560\n",
      "8    37    male  29.830         2     no  northeast   6406.41070\n",
      "9    60  female  25.840         0     no  northwest  28923.13692\n",
      "10   25    male  26.220         0     no  northeast   2721.32080\n",
      "11   62  female  26.290         0    yes  southeast  27808.72510\n",
      "12   23    male  34.400         0     no  southwest   1826.84300\n",
      "13   56  female  39.820         0     no  southeast  11090.71780\n",
      "14   27    male  42.130         0    yes  southeast  39611.75770\n",
      "15   19    male  24.600         1     no  southwest   1837.23700\n",
      "16   52  female  30.780         1     no  northeast  10797.33620\n",
      "17   23    male  23.845         0     no  northeast   2395.17155\n",
      "18   56    male  40.300         0     no  southwest  10602.38500\n",
      "19   30    male  35.300         0    yes  southwest  36837.46700\n"
     ]
    }
   ],
   "source": [
    "insuranceDF = pd.read_csv('insurance.csv')\n",
    "print(insuranceDF.head(20))"
   ]
  },
  {
   "cell_type": "code",
   "execution_count": 3,
   "metadata": {},
   "outputs": [],
   "source": [
    "# Replace string values with numbers\n",
    "insuranceDF['sex'] = insuranceDF['sex'].apply({'male':1, 'female':0}.get)\n",
    "insuranceDF['smoker'] = insuranceDF['smoker'].apply({'yes':1, 'no':0}.get)\n",
    "insuranceDF['region'] = insuranceDF['region'].apply({'southwest':1, 'northwest':2,\n",
    "                                                    'southeast':3, 'northeast':4}.get)"
   ]
  },
  {
   "cell_type": "code",
   "execution_count": 4,
   "metadata": {},
   "outputs": [
    {
     "data": {
      "text/html": [
       "<div>\n",
       "<style scoped>\n",
       "    .dataframe tbody tr th:only-of-type {\n",
       "        vertical-align: middle;\n",
       "    }\n",
       "\n",
       "    .dataframe tbody tr th {\n",
       "        vertical-align: top;\n",
       "    }\n",
       "\n",
       "    .dataframe thead th {\n",
       "        text-align: right;\n",
       "    }\n",
       "</style>\n",
       "<table border=\"1\" class=\"dataframe\">\n",
       "  <thead>\n",
       "    <tr style=\"text-align: right;\">\n",
       "      <th></th>\n",
       "      <th>age</th>\n",
       "      <th>sex</th>\n",
       "      <th>bmi</th>\n",
       "      <th>children</th>\n",
       "      <th>smoker</th>\n",
       "      <th>region</th>\n",
       "      <th>charges</th>\n",
       "    </tr>\n",
       "  </thead>\n",
       "  <tbody>\n",
       "    <tr>\n",
       "      <th>0</th>\n",
       "      <td>19</td>\n",
       "      <td>0</td>\n",
       "      <td>27.900</td>\n",
       "      <td>0</td>\n",
       "      <td>1</td>\n",
       "      <td>1</td>\n",
       "      <td>16884.92400</td>\n",
       "    </tr>\n",
       "    <tr>\n",
       "      <th>1</th>\n",
       "      <td>18</td>\n",
       "      <td>1</td>\n",
       "      <td>33.770</td>\n",
       "      <td>1</td>\n",
       "      <td>0</td>\n",
       "      <td>3</td>\n",
       "      <td>1725.55230</td>\n",
       "    </tr>\n",
       "    <tr>\n",
       "      <th>2</th>\n",
       "      <td>28</td>\n",
       "      <td>1</td>\n",
       "      <td>33.000</td>\n",
       "      <td>3</td>\n",
       "      <td>0</td>\n",
       "      <td>3</td>\n",
       "      <td>4449.46200</td>\n",
       "    </tr>\n",
       "    <tr>\n",
       "      <th>3</th>\n",
       "      <td>33</td>\n",
       "      <td>1</td>\n",
       "      <td>22.705</td>\n",
       "      <td>0</td>\n",
       "      <td>0</td>\n",
       "      <td>2</td>\n",
       "      <td>21984.47061</td>\n",
       "    </tr>\n",
       "    <tr>\n",
       "      <th>4</th>\n",
       "      <td>32</td>\n",
       "      <td>1</td>\n",
       "      <td>28.880</td>\n",
       "      <td>0</td>\n",
       "      <td>0</td>\n",
       "      <td>2</td>\n",
       "      <td>3866.85520</td>\n",
       "    </tr>\n",
       "  </tbody>\n",
       "</table>\n",
       "</div>"
      ],
      "text/plain": [
       "   age  sex     bmi  children  smoker  region      charges\n",
       "0   19    0  27.900         0       1       1  16884.92400\n",
       "1   18    1  33.770         1       0       3   1725.55230\n",
       "2   28    1  33.000         3       0       3   4449.46200\n",
       "3   33    1  22.705         0       0       2  21984.47061\n",
       "4   32    1  28.880         0       0       2   3866.85520"
      ]
     },
     "execution_count": 4,
     "metadata": {},
     "output_type": "execute_result"
    }
   ],
   "source": [
    "# Check to make sure it is converted properly\n",
    "insuranceDF.head()"
   ]
  },
  {
   "cell_type": "markdown",
   "metadata": {},
   "source": [
    "### Carryout Data Exploration Analysis"
   ]
  },
  {
   "cell_type": "code",
   "execution_count": 5,
   "metadata": {},
   "outputs": [
    {
     "data": {
      "text/html": [
       "<style type=\"text/css\">\n",
       "#T_e147b_row0_col0, #T_e147b_row1_col1, #T_e147b_row2_col2, #T_e147b_row3_col3, #T_e147b_row4_col4, #T_e147b_row5_col5, #T_e147b_row6_col6 {\n",
       "  background-color: #023858;\n",
       "  color: #f1f1f1;\n",
       "}\n",
       "#T_e147b_row0_col1, #T_e147b_row0_col4, #T_e147b_row3_col5, #T_e147b_row4_col0, #T_e147b_row4_col2, #T_e147b_row5_col2, #T_e147b_row5_col3, #T_e147b_row5_col6 {\n",
       "  background-color: #fff7fb;\n",
       "  color: #000000;\n",
       "}\n",
       "#T_e147b_row0_col2 {\n",
       "  background-color: #efe9f3;\n",
       "  color: #000000;\n",
       "}\n",
       "#T_e147b_row0_col3, #T_e147b_row4_col5, #T_e147b_row6_col1 {\n",
       "  background-color: #f4edf6;\n",
       "  color: #000000;\n",
       "}\n",
       "#T_e147b_row0_col5, #T_e147b_row2_col4 {\n",
       "  background-color: #fbf3f9;\n",
       "  color: #000000;\n",
       "}\n",
       "#T_e147b_row0_col6 {\n",
       "  background-color: #cdd0e5;\n",
       "  color: #000000;\n",
       "}\n",
       "#T_e147b_row1_col0, #T_e147b_row1_col6 {\n",
       "  background-color: #fef6fb;\n",
       "  color: #000000;\n",
       "}\n",
       "#T_e147b_row1_col2, #T_e147b_row1_col5, #T_e147b_row4_col3 {\n",
       "  background-color: #f9f2f8;\n",
       "  color: #000000;\n",
       "}\n",
       "#T_e147b_row1_col3 {\n",
       "  background-color: #f7f0f7;\n",
       "  color: #000000;\n",
       "}\n",
       "#T_e147b_row1_col4, #T_e147b_row6_col3 {\n",
       "  background-color: #f0eaf4;\n",
       "  color: #000000;\n",
       "}\n",
       "#T_e147b_row2_col0 {\n",
       "  background-color: #ebe6f2;\n",
       "  color: #000000;\n",
       "}\n",
       "#T_e147b_row2_col1, #T_e147b_row3_col0 {\n",
       "  background-color: #f5eff6;\n",
       "  color: #000000;\n",
       "}\n",
       "#T_e147b_row2_col3 {\n",
       "  background-color: #f8f1f8;\n",
       "  color: #000000;\n",
       "}\n",
       "#T_e147b_row2_col5, #T_e147b_row3_col1 {\n",
       "  background-color: #faf2f8;\n",
       "  color: #000000;\n",
       "}\n",
       "#T_e147b_row2_col6 {\n",
       "  background-color: #e6e2ef;\n",
       "  color: #000000;\n",
       "}\n",
       "#T_e147b_row3_col2 {\n",
       "  background-color: #fef6fa;\n",
       "  color: #000000;\n",
       "}\n",
       "#T_e147b_row3_col4 {\n",
       "  background-color: #faf3f9;\n",
       "  color: #000000;\n",
       "}\n",
       "#T_e147b_row3_col6, #T_e147b_row5_col0 {\n",
       "  background-color: #fdf5fa;\n",
       "  color: #000000;\n",
       "}\n",
       "#T_e147b_row4_col1 {\n",
       "  background-color: #f1ebf4;\n",
       "  color: #000000;\n",
       "}\n",
       "#T_e147b_row4_col6 {\n",
       "  background-color: #056ba9;\n",
       "  color: #f1f1f1;\n",
       "}\n",
       "#T_e147b_row5_col1 {\n",
       "  background-color: #fbf4f9;\n",
       "  color: #000000;\n",
       "}\n",
       "#T_e147b_row5_col4 {\n",
       "  background-color: #f5eef6;\n",
       "  color: #000000;\n",
       "}\n",
       "#T_e147b_row6_col0 {\n",
       "  background-color: #bbc7e0;\n",
       "  color: #000000;\n",
       "}\n",
       "#T_e147b_row6_col2 {\n",
       "  background-color: #dcdaeb;\n",
       "  color: #000000;\n",
       "}\n",
       "#T_e147b_row6_col4 {\n",
       "  background-color: #0569a4;\n",
       "  color: #f1f1f1;\n",
       "}\n",
       "#T_e147b_row6_col5 {\n",
       "  background-color: #f2ecf5;\n",
       "  color: #000000;\n",
       "}\n",
       "</style>\n",
       "<table id=\"T_e147b_\">\n",
       "  <thead>\n",
       "    <tr>\n",
       "      <th class=\"blank level0\" >&nbsp;</th>\n",
       "      <th class=\"col_heading level0 col0\" >age</th>\n",
       "      <th class=\"col_heading level0 col1\" >sex</th>\n",
       "      <th class=\"col_heading level0 col2\" >bmi</th>\n",
       "      <th class=\"col_heading level0 col3\" >children</th>\n",
       "      <th class=\"col_heading level0 col4\" >smoker</th>\n",
       "      <th class=\"col_heading level0 col5\" >region</th>\n",
       "      <th class=\"col_heading level0 col6\" >charges</th>\n",
       "    </tr>\n",
       "  </thead>\n",
       "  <tbody>\n",
       "    <tr>\n",
       "      <th id=\"T_e147b_level0_row0\" class=\"row_heading level0 row0\" >age</th>\n",
       "      <td id=\"T_e147b_row0_col0\" class=\"data row0 col0\" >1.000000</td>\n",
       "      <td id=\"T_e147b_row0_col1\" class=\"data row0 col1\" >-0.020856</td>\n",
       "      <td id=\"T_e147b_row0_col2\" class=\"data row0 col2\" >0.109272</td>\n",
       "      <td id=\"T_e147b_row0_col3\" class=\"data row0 col3\" >0.042469</td>\n",
       "      <td id=\"T_e147b_row0_col4\" class=\"data row0 col4\" >-0.025019</td>\n",
       "      <td id=\"T_e147b_row0_col5\" class=\"data row0 col5\" >-0.006660</td>\n",
       "      <td id=\"T_e147b_row0_col6\" class=\"data row0 col6\" >0.299008</td>\n",
       "    </tr>\n",
       "    <tr>\n",
       "      <th id=\"T_e147b_level0_row1\" class=\"row_heading level0 row1\" >sex</th>\n",
       "      <td id=\"T_e147b_row1_col0\" class=\"data row1 col0\" >-0.020856</td>\n",
       "      <td id=\"T_e147b_row1_col1\" class=\"data row1 col1\" >1.000000</td>\n",
       "      <td id=\"T_e147b_row1_col2\" class=\"data row1 col2\" >0.046371</td>\n",
       "      <td id=\"T_e147b_row1_col3\" class=\"data row1 col3\" >0.017163</td>\n",
       "      <td id=\"T_e147b_row1_col4\" class=\"data row1 col4\" >0.076185</td>\n",
       "      <td id=\"T_e147b_row1_col5\" class=\"data row1 col5\" >0.006640</td>\n",
       "      <td id=\"T_e147b_row1_col6\" class=\"data row1 col6\" >0.057292</td>\n",
       "    </tr>\n",
       "    <tr>\n",
       "      <th id=\"T_e147b_level0_row2\" class=\"row_heading level0 row2\" >bmi</th>\n",
       "      <td id=\"T_e147b_row2_col0\" class=\"data row2 col0\" >0.109272</td>\n",
       "      <td id=\"T_e147b_row2_col1\" class=\"data row2 col1\" >0.046371</td>\n",
       "      <td id=\"T_e147b_row2_col2\" class=\"data row2 col2\" >1.000000</td>\n",
       "      <td id=\"T_e147b_row2_col3\" class=\"data row2 col3\" >0.012759</td>\n",
       "      <td id=\"T_e147b_row2_col4\" class=\"data row2 col4\" >0.003750</td>\n",
       "      <td id=\"T_e147b_row2_col5\" class=\"data row2 col5\" >0.004036</td>\n",
       "      <td id=\"T_e147b_row2_col6\" class=\"data row2 col6\" >0.198341</td>\n",
       "    </tr>\n",
       "    <tr>\n",
       "      <th id=\"T_e147b_level0_row3\" class=\"row_heading level0 row3\" >children</th>\n",
       "      <td id=\"T_e147b_row3_col0\" class=\"data row3 col0\" >0.042469</td>\n",
       "      <td id=\"T_e147b_row3_col1\" class=\"data row3 col1\" >0.017163</td>\n",
       "      <td id=\"T_e147b_row3_col2\" class=\"data row3 col2\" >0.012759</td>\n",
       "      <td id=\"T_e147b_row3_col3\" class=\"data row3 col3\" >1.000000</td>\n",
       "      <td id=\"T_e147b_row3_col4\" class=\"data row3 col4\" >0.007673</td>\n",
       "      <td id=\"T_e147b_row3_col5\" class=\"data row3 col5\" >-0.035494</td>\n",
       "      <td id=\"T_e147b_row3_col6\" class=\"data row3 col6\" >0.067998</td>\n",
       "    </tr>\n",
       "    <tr>\n",
       "      <th id=\"T_e147b_level0_row4\" class=\"row_heading level0 row4\" >smoker</th>\n",
       "      <td id=\"T_e147b_row4_col0\" class=\"data row4 col0\" >-0.025019</td>\n",
       "      <td id=\"T_e147b_row4_col1\" class=\"data row4 col1\" >0.076185</td>\n",
       "      <td id=\"T_e147b_row4_col2\" class=\"data row4 col2\" >0.003750</td>\n",
       "      <td id=\"T_e147b_row4_col3\" class=\"data row4 col3\" >0.007673</td>\n",
       "      <td id=\"T_e147b_row4_col4\" class=\"data row4 col4\" >1.000000</td>\n",
       "      <td id=\"T_e147b_row4_col5\" class=\"data row4 col5\" >0.044124</td>\n",
       "      <td id=\"T_e147b_row4_col6\" class=\"data row4 col6\" >0.787251</td>\n",
       "    </tr>\n",
       "    <tr>\n",
       "      <th id=\"T_e147b_level0_row5\" class=\"row_heading level0 row5\" >region</th>\n",
       "      <td id=\"T_e147b_row5_col0\" class=\"data row5 col0\" >-0.006660</td>\n",
       "      <td id=\"T_e147b_row5_col1\" class=\"data row5 col1\" >0.006640</td>\n",
       "      <td id=\"T_e147b_row5_col2\" class=\"data row5 col2\" >0.004036</td>\n",
       "      <td id=\"T_e147b_row5_col3\" class=\"data row5 col3\" >-0.035494</td>\n",
       "      <td id=\"T_e147b_row5_col4\" class=\"data row5 col4\" >0.044124</td>\n",
       "      <td id=\"T_e147b_row5_col5\" class=\"data row5 col5\" >1.000000</td>\n",
       "      <td id=\"T_e147b_row5_col6\" class=\"data row5 col6\" >0.051509</td>\n",
       "    </tr>\n",
       "    <tr>\n",
       "      <th id=\"T_e147b_level0_row6\" class=\"row_heading level0 row6\" >charges</th>\n",
       "      <td id=\"T_e147b_row6_col0\" class=\"data row6 col0\" >0.299008</td>\n",
       "      <td id=\"T_e147b_row6_col1\" class=\"data row6 col1\" >0.057292</td>\n",
       "      <td id=\"T_e147b_row6_col2\" class=\"data row6 col2\" >0.198341</td>\n",
       "      <td id=\"T_e147b_row6_col3\" class=\"data row6 col3\" >0.067998</td>\n",
       "      <td id=\"T_e147b_row6_col4\" class=\"data row6 col4\" >0.787251</td>\n",
       "      <td id=\"T_e147b_row6_col5\" class=\"data row6 col5\" >0.051509</td>\n",
       "      <td id=\"T_e147b_row6_col6\" class=\"data row6 col6\" >1.000000</td>\n",
       "    </tr>\n",
       "  </tbody>\n",
       "</table>\n"
      ],
      "text/plain": [
       "<pandas.io.formats.style.Styler at 0x14db5837ca30>"
      ]
     },
     "execution_count": 5,
     "metadata": {},
     "output_type": "execute_result"
    }
   ],
   "source": [
    "correlation = insuranceDF.corr()\n",
    "correlation.style.background_gradient()"
   ]
  },
  {
   "cell_type": "code",
   "execution_count": 6,
   "metadata": {},
   "outputs": [
    {
     "data": {
      "image/png": "[encoded data removed]",
      "text/plain": [
       "<Figure size 432x288 with 2 Axes>"
      ]
     },
     "metadata": {
      "needs_background": "light"
     },
     "output_type": "display_data"
    }
   ],
   "source": [
    "# Plot the heatmap\n",
    "f, ax = plt.subplots(figsize=(6, 4))\n",
    "sns.heatmap(correlation, cmap=\"Oranges\", annot = True, vmin=0, vmax=1, ax=ax);"
   ]
  },
  {
   "cell_type": "code",
   "execution_count": 7,
   "metadata": {
    "scrolled": true
   },
   "outputs": [
    {
     "name": "stdout",
     "output_type": "stream",
     "text": [
      "<class 'pandas.core.frame.DataFrame'>\n",
      "RangeIndex: 1338 entries, 0 to 1337\n",
      "Data columns (total 7 columns):\n",
      " #   Column    Non-Null Count  Dtype  \n",
      "---  ------    --------------  -----  \n",
      " 0   age       1338 non-null   int64  \n",
      " 1   sex       1338 non-null   int64  \n",
      " 2   bmi       1338 non-null   float64\n",
      " 3   children  1338 non-null   int64  \n",
      " 4   smoker    1338 non-null   int64  \n",
      " 5   region    1338 non-null   int64  \n",
      " 6   charges   1338 non-null   float64\n",
      "dtypes: float64(2), int64(5)\n",
      "memory usage: 73.3 KB\n"
     ]
    }
   ],
   "source": [
    "insuranceDF.info()"
   ]
  },
  {
   "cell_type": "markdown",
   "metadata": {},
   "source": [
    "The dataset consists the records of 1338 patients in total. Using 1000 records for training and 300 records for testing, and the last 38 records to cross check your model."
   ]
  },
  {
   "cell_type": "markdown",
   "metadata": {},
   "source": [
    "Before using machine learning,normalize your inputs. Machine Learning models often benefit substantially from input normalization. It also makes it easier to understand the importance of each feature later, when looking at the model weights. Normalize the data such that each variable has 0 mean and standard deviation of 1."
   ]
  },
  {
   "cell_type": "code",
   "execution_count": 8,
   "metadata": {},
   "outputs": [
    {
     "data": {
      "text/html": [
       "<div>\n",
       "<style scoped>\n",
       "    .dataframe tbody tr th:only-of-type {\n",
       "        vertical-align: middle;\n",
       "    }\n",
       "\n",
       "    .dataframe tbody tr th {\n",
       "        vertical-align: top;\n",
       "    }\n",
       "\n",
       "    .dataframe thead th {\n",
       "        text-align: right;\n",
       "    }\n",
       "</style>\n",
       "<table border=\"1\" class=\"dataframe\">\n",
       "  <thead>\n",
       "    <tr style=\"text-align: right;\">\n",
       "      <th></th>\n",
       "      <th>age</th>\n",
       "      <th>sex</th>\n",
       "      <th>bmi</th>\n",
       "      <th>children</th>\n",
       "      <th>smoker</th>\n",
       "      <th>region</th>\n",
       "      <th>charges</th>\n",
       "    </tr>\n",
       "  </thead>\n",
       "  <tbody>\n",
       "    <tr>\n",
       "      <th>0</th>\n",
       "      <td>-1.438764</td>\n",
       "      <td>-1.010519</td>\n",
       "      <td>-0.453320</td>\n",
       "      <td>-0.908614</td>\n",
       "      <td>1.970587</td>\n",
       "      <td>-1.370259</td>\n",
       "      <td>0.298584</td>\n",
       "    </tr>\n",
       "    <tr>\n",
       "      <th>1</th>\n",
       "      <td>-1.509965</td>\n",
       "      <td>0.989591</td>\n",
       "      <td>0.509621</td>\n",
       "      <td>-0.078767</td>\n",
       "      <td>-0.507463</td>\n",
       "      <td>0.440513</td>\n",
       "      <td>-0.953689</td>\n",
       "    </tr>\n",
       "    <tr>\n",
       "      <th>2</th>\n",
       "      <td>-0.797954</td>\n",
       "      <td>0.989591</td>\n",
       "      <td>0.383307</td>\n",
       "      <td>1.580926</td>\n",
       "      <td>-0.507463</td>\n",
       "      <td>0.440513</td>\n",
       "      <td>-0.728675</td>\n",
       "    </tr>\n",
       "    <tr>\n",
       "      <th>3</th>\n",
       "      <td>-0.441948</td>\n",
       "      <td>0.989591</td>\n",
       "      <td>-1.305531</td>\n",
       "      <td>-0.908614</td>\n",
       "      <td>-0.507463</td>\n",
       "      <td>-0.464873</td>\n",
       "      <td>0.719843</td>\n",
       "    </tr>\n",
       "    <tr>\n",
       "      <th>4</th>\n",
       "      <td>-0.513149</td>\n",
       "      <td>0.989591</td>\n",
       "      <td>-0.292556</td>\n",
       "      <td>-0.908614</td>\n",
       "      <td>-0.507463</td>\n",
       "      <td>-0.464873</td>\n",
       "      <td>-0.776802</td>\n",
       "    </tr>\n",
       "  </tbody>\n",
       "</table>\n",
       "</div>"
      ],
      "text/plain": [
       "        age       sex       bmi  children    smoker    region   charges\n",
       "0 -1.438764 -1.010519 -0.453320 -0.908614  1.970587 -1.370259  0.298584\n",
       "1 -1.509965  0.989591  0.509621 -0.078767 -0.507463  0.440513 -0.953689\n",
       "2 -0.797954  0.989591  0.383307  1.580926 -0.507463  0.440513 -0.728675\n",
       "3 -0.441948  0.989591 -1.305531 -0.908614 -0.507463 -0.464873  0.719843\n",
       "4 -0.513149  0.989591 -0.292556 -0.908614 -0.507463 -0.464873 -0.776802"
      ]
     },
     "execution_count": 8,
     "metadata": {},
     "output_type": "execute_result"
    }
   ],
   "source": [
    "df_names = insuranceDF.columns\n",
    "scaler = StandardScaler() #Scaler object\n",
    "#Fit the data \n",
    "insuranceDF_scaled = scaler.fit_transform(insuranceDF)\n",
    "#Convert it to dataframe\n",
    "insuranceDF_scaled = pd.DataFrame(insuranceDF_scaled,columns=df_names)\n",
    "insuranceDF_scaled.head()\n",
    "\n",
    "# Below approach gives exactly the same\n",
    "#means = np.mean(insuranceDF, axis=0)\n",
    "#stds = np.std(insuranceDF, axis=0)\n",
    " \n",
    "#insuranceDF_scaled = (insuranceDF - means)/stds\n",
    "#insuranceDF_scaled.head()"
   ]
  },
  {
   "cell_type": "code",
   "execution_count": 9,
   "metadata": {},
   "outputs": [],
   "source": [
    "X = insuranceDF_scaled[['age','sex','bmi','children','smoker','region']] # Or drop.insuranceDF_scaled['charges']\n",
    "y = insuranceDF_scaled['charges']"
   ]
  },
  {
   "cell_type": "code",
   "execution_count": 10,
   "metadata": {},
   "outputs": [],
   "source": [
    "X_train,X_test,y_train,y_test = train_test_split(X,y,test_size=0.30)"
   ]
  },
  {
   "cell_type": "markdown",
   "metadata": {},
   "source": [
    "### Cross validation, fitting of dataset into some boosting and normal algorithms"
   ]
  },
  {
   "cell_type": "code",
   "execution_count": 11,
   "metadata": {},
   "outputs": [
    {
     "name": "stdout",
     "output_type": "stream",
     "text": [
      "Classifier - LinearReg                       ||   test_score_mean - 0.7414927331058483\n",
      "Classifier - SVM                             ||   test_score_mean - 0.8363301609811687\n",
      "Classifier - Linearmodel                     ||   test_score_mean - 0.7414927331058483\n",
      "Classifier - SGDRegressor                    ||   test_score_mean - 0.7414892473353383\n",
      "Classifier - BayesianRidge                   ||   test_score_mean - 0.7415017301926029\n",
      "Classifier - LassoLars                       ||   test_score_mean - -0.004238807941367639\n",
      "Classifier - ARDRegression                   ||   test_score_mean - 0.7420555989659017\n",
      "Classifier - PassiveAgg.Regressor            ||   test_score_mean - 0.34151879198537405\n",
      "Classifier - TheilSenRegressor               ||   test_score_mean - 0.6614286027961573\n"
     ]
    }
   ],
   "source": [
    "# Importing the models\n",
    "from sklearn import linear_model\n",
    "from sklearn.ensemble import AdaBoostClassifier, GradientBoostingClassifier\n",
    "from sklearn.linear_model import LogisticRegressionCV, RidgeClassifierCV, SGDClassifier\n",
    "from sklearn.discriminant_analysis import LinearDiscriminantAnalysis, QuadraticDiscriminantAnalysis\n",
    "from sklearn.model_selection import ShuffleSplit, cross_validate, train_test_split\n",
    "from xgboost import XGBClassifier\n",
    "from sklearn import svm\n",
    "\n",
    "# Splitting dataset into train, test set\n",
    "X_train,X_test,y_train,y_test = train_test_split(X,y,test_size=0.30)\n",
    "\n",
    "# Using Shuffle Split for cross validation of dataset\n",
    "cv_split = ShuffleSplit(n_splits = 10, test_size = .3, train_size = .7, random_state = 10 )\n",
    "\n",
    "# Initializing Algorithms\n",
    "algorithm_list = {'LinearReg': LinearRegression(), \"SVM\":svm.SVR(),'Linearmodel':linear_model.LinearRegression(),\n",
    "                  \"SGDRegressor\":linear_model.SGDRegressor(),'BayesianRidge':linear_model.BayesianRidge(),\n",
    "                  \"LassoLars\": linear_model.LassoLars(),\"ARDRegression\": linear_model.ARDRegression(),\n",
    "                  \"PassiveAgg.Regressor\": linear_model.PassiveAggressiveRegressor(),\n",
    "                  \"TheilSenRegressor\": linear_model.TheilSenRegressor(),}\n",
    "\n",
    "# Cross validation and fitting algorithms\n",
    "for key,alg in algorithm_list.items():\n",
    "    try:\n",
    "        cv_results = cross_validate(alg, X_train, y_train, cv  = cv_split)\n",
    "        alg.fit(X_train, y_train)\n",
    "        print(f\"Classifier - {key: <20}            ||   test_score_mean - {cv_results.get('test_score').mean()}\")\n",
    "    except Exception as e:\n",
    "        print(f\"Exception occurred in {str(e)}\")\n",
    "        pass"
   ]
  },
  {
   "cell_type": "markdown",
   "metadata": {},
   "source": [
    "### Make some predictions and calculate the accuracy score"
   ]
  },
  {
   "cell_type": "code",
   "execution_count": 12,
   "metadata": {},
   "outputs": [
    {
     "name": "stdout",
     "output_type": "stream",
     "text": [
      "Classifier - LinearReg            || Score/R^2 - 76.58910767470452 %\n",
      "Classifier - SVM                  || Score/R^2 - 85.61020174888257 %\n",
      "Classifier - Linearmodel          || Score/R^2 - 76.58910767470452 %\n",
      "Classifier - SGDRegressor         || Score/R^2 - 76.54647017253116 %\n",
      "Classifier - BayesianRidge        || Score/R^2 - 76.57898526444811 %\n",
      "Classifier - LassoLars            || Score/R^2 - -0.03013800401097111 %\n",
      "Classifier - ARDRegression        || Score/R^2 - 76.51036279160553 %\n",
      "Classifier - PassiveAgg.Regressor || Score/R^2 - 47.13332299438059 %\n",
      "Classifier - TheilSenRegressor    || Score/R^2 - 68.09833155565445 %\n"
     ]
    }
   ],
   "source": [
    "# Making the predictions and calculating the accuracy score (R^2) for the various models\n",
    "for key,alg in algorithm_list.items():\n",
    "    try:\n",
    "        predictions = alg.predict(X_test)\n",
    "        score = alg.score(X_test,y_test)\n",
    "        print(f\"Classifier - {key: <20} || Score/R^2 - {score *100}\",'%')\n",
    "    except Exception as e:\n",
    "        print(f\"Exception occurred in {str(e)}\")\n",
    "        pass"
   ]
  },
  {
   "cell_type": "markdown",
   "metadata": {},
   "source": [
    "## Ascertain the feature with the greatest impact"
   ]
  },
  {
   "cell_type": "code",
   "execution_count": 13,
   "metadata": {},
   "outputs": [],
   "source": [
    "#insuranceDF = pd.read_csv('insurance.csv')\n",
    "#print(insuranceDF.head())"
   ]
  },
  {
   "cell_type": "code",
   "execution_count": 14,
   "metadata": {},
   "outputs": [],
   "source": [
    "# Replace string values with numbers\n",
    "#insuranceDF['sex'] = insuranceDF['sex'].apply({'male':1, 'female':0}.get)\n",
    "#insuranceDF['smoker'] = insuranceDF['smoker'].apply({'yes':1, 'no':0}.get)\n",
    "#insuranceDF['region'] = insuranceDF['region'].apply({'southwest':1, 'northwest':2,\n",
    "#                                                    'southeast':3, 'northeast':4}.get)\n",
    "#print(insuranceDF.head())"
   ]
  },
  {
   "cell_type": "code",
   "execution_count": 15,
   "metadata": {},
   "outputs": [],
   "source": [
    "#insuranceDF.info()"
   ]
  },
  {
   "cell_type": "code",
   "execution_count": 16,
   "metadata": {},
   "outputs": [],
   "source": [
    "dfTrain = insuranceDF[:1000]\n",
    "dfTest = insuranceDF[1000:1300]\n",
    "dfCheck = insuranceDF[1300:] "
   ]
  },
  {
   "cell_type": "code",
   "execution_count": 17,
   "metadata": {},
   "outputs": [],
   "source": [
    "# We use insuranceclaim as the target"
   ]
  },
  {
   "cell_type": "code",
   "execution_count": 18,
   "metadata": {},
   "outputs": [],
   "source": [
    "trainLabel = np.asarray(dfTrain['sex'])\n",
    "trainData = np.asarray(dfTrain.drop('sex',1))\n",
    "testLabel = np.asarray(dfTest['sex'])\n",
    "testData = np.asarray(dfTest.drop('sex',1))"
   ]
  },
  {
   "cell_type": "code",
   "execution_count": 19,
   "metadata": {},
   "outputs": [],
   "source": [
    "means = np.mean(trainData, axis=0)\n",
    "stds = np.std(trainData, axis=0)\n",
    " \n",
    "trainData = (trainData - means)/stds\n",
    "testData = (testData - means)/stds"
   ]
  },
  {
   "cell_type": "code",
   "execution_count": 20,
   "metadata": {},
   "outputs": [
    {
     "data": {
      "text/plain": [
       "LogisticRegression()"
      ]
     },
     "execution_count": 20,
     "metadata": {},
     "output_type": "execute_result"
    }
   ],
   "source": [
    "insuranceCheck = LogisticRegression()\n",
    "insuranceCheck.fit(trainData, trainLabel)"
   ]
  },
  {
   "cell_type": "code",
   "execution_count": 21,
   "metadata": {},
   "outputs": [
    {
     "name": "stdout",
     "output_type": "stream",
     "text": [
      "accuracy =  50.0 %\n"
     ]
    }
   ],
   "source": [
    "accuracy = insuranceCheck.score(testData, testLabel)\n",
    "print(\"accuracy = \", accuracy * 100, \"%\")"
   ]
  },
  {
   "cell_type": "markdown",
   "metadata": {},
   "source": [
    "To get a better sense of what is going on inside the logistic regression model, visualize how your model uses the different features and which features have greater effect."
   ]
  },
  {
   "cell_type": "code",
   "execution_count": 22,
   "metadata": {},
   "outputs": [
    {
     "data": {
      "text/plain": [
       "Text(0.5, 0, 'Importance')"
      ]
     },
     "execution_count": 22,
     "metadata": {},
     "output_type": "execute_result"
    },
    {
     "data": {
      "image/png": "[encoded data removed]",
      "text/plain": [
       "<Figure size 792x432 with 1 Axes>"
      ]
     },
     "metadata": {
      "needs_background": "light"
     },
     "output_type": "display_data"
    }
   ],
   "source": [
    "coeff = list(insuranceCheck.coef_[0])\n",
    "labels = list(dfTrain.drop('sex',1).columns)\n",
    "features = pd.DataFrame()\n",
    "features['Features'] = labels\n",
    "features['importance'] = coeff\n",
    "features.sort_values(by=['importance'], ascending=True, inplace=True)\n",
    "features['positive'] = features['importance'] > 0\n",
    "features.set_index('Features', inplace=True)\n",
    "features.importance.plot(kind='barh', figsize=(11, 6),color = features.positive.map({True: 'blue', False: 'red'}))\n",
    "plt.xlabel('Importance')"
   ]
  },
  {
   "cell_type": "markdown",
   "metadata": {},
   "source": [
    "From the above figure, \n",
    "\n",
    "1. Smoker had the most significant influence on the model. \n",
    "\n",
    "2. Age and Charges have a negative influence on the prediction\n"
   ]
  },
  {
   "cell_type": "code",
   "execution_count": 23,
   "metadata": {},
   "outputs": [
    {
     "name": "stdout",
     "output_type": "stream",
     "text": [
      "   age  sex     bmi  children  smoker  region      charges  insuranceclaim\n",
      "0   19    0  27.900         0       1       3  16884.92400               1\n",
      "1   18    1  33.770         1       0       2   1725.55230               1\n",
      "2   28    1  33.000         3       0       2   4449.46200               0\n",
      "3   33    1  22.705         0       0       1  21984.47061               0\n",
      "4   32    1  28.880         0       0       1   3866.85520               1\n"
     ]
    }
   ],
   "source": [
    "# To better explore the features dependent, we add the insuranceclaim column. Let's grab it from the second file\n",
    "insuranceDF2 = pd.read_csv('insurance2.csv')\n",
    "print(insuranceDF2.head())"
   ]
  },
  {
   "cell_type": "code",
   "execution_count": 24,
   "metadata": {},
   "outputs": [
    {
     "data": {
      "text/html": [
       "<div>\n",
       "<style scoped>\n",
       "    .dataframe tbody tr th:only-of-type {\n",
       "        vertical-align: middle;\n",
       "    }\n",
       "\n",
       "    .dataframe tbody tr th {\n",
       "        vertical-align: top;\n",
       "    }\n",
       "\n",
       "    .dataframe thead th {\n",
       "        text-align: right;\n",
       "    }\n",
       "</style>\n",
       "<table border=\"1\" class=\"dataframe\">\n",
       "  <thead>\n",
       "    <tr style=\"text-align: right;\">\n",
       "      <th></th>\n",
       "      <th>age</th>\n",
       "      <th>sex</th>\n",
       "      <th>bmi</th>\n",
       "      <th>children</th>\n",
       "      <th>smoker</th>\n",
       "      <th>region</th>\n",
       "      <th>charges</th>\n",
       "      <th>insuranceclaim</th>\n",
       "    </tr>\n",
       "  </thead>\n",
       "  <tbody>\n",
       "    <tr>\n",
       "      <th>0</th>\n",
       "      <td>19</td>\n",
       "      <td>0</td>\n",
       "      <td>27.900</td>\n",
       "      <td>0</td>\n",
       "      <td>1</td>\n",
       "      <td>1</td>\n",
       "      <td>16884.92400</td>\n",
       "      <td>1</td>\n",
       "    </tr>\n",
       "    <tr>\n",
       "      <th>1</th>\n",
       "      <td>18</td>\n",
       "      <td>1</td>\n",
       "      <td>33.770</td>\n",
       "      <td>1</td>\n",
       "      <td>0</td>\n",
       "      <td>3</td>\n",
       "      <td>1725.55230</td>\n",
       "      <td>1</td>\n",
       "    </tr>\n",
       "    <tr>\n",
       "      <th>2</th>\n",
       "      <td>28</td>\n",
       "      <td>1</td>\n",
       "      <td>33.000</td>\n",
       "      <td>3</td>\n",
       "      <td>0</td>\n",
       "      <td>3</td>\n",
       "      <td>4449.46200</td>\n",
       "      <td>0</td>\n",
       "    </tr>\n",
       "    <tr>\n",
       "      <th>3</th>\n",
       "      <td>33</td>\n",
       "      <td>1</td>\n",
       "      <td>22.705</td>\n",
       "      <td>0</td>\n",
       "      <td>0</td>\n",
       "      <td>2</td>\n",
       "      <td>21984.47061</td>\n",
       "      <td>0</td>\n",
       "    </tr>\n",
       "    <tr>\n",
       "      <th>4</th>\n",
       "      <td>32</td>\n",
       "      <td>1</td>\n",
       "      <td>28.880</td>\n",
       "      <td>0</td>\n",
       "      <td>0</td>\n",
       "      <td>2</td>\n",
       "      <td>3866.85520</td>\n",
       "      <td>1</td>\n",
       "    </tr>\n",
       "    <tr>\n",
       "      <th>...</th>\n",
       "      <td>...</td>\n",
       "      <td>...</td>\n",
       "      <td>...</td>\n",
       "      <td>...</td>\n",
       "      <td>...</td>\n",
       "      <td>...</td>\n",
       "      <td>...</td>\n",
       "      <td>...</td>\n",
       "    </tr>\n",
       "    <tr>\n",
       "      <th>1333</th>\n",
       "      <td>50</td>\n",
       "      <td>1</td>\n",
       "      <td>30.970</td>\n",
       "      <td>3</td>\n",
       "      <td>0</td>\n",
       "      <td>2</td>\n",
       "      <td>10600.54830</td>\n",
       "      <td>0</td>\n",
       "    </tr>\n",
       "    <tr>\n",
       "      <th>1334</th>\n",
       "      <td>18</td>\n",
       "      <td>0</td>\n",
       "      <td>31.920</td>\n",
       "      <td>0</td>\n",
       "      <td>0</td>\n",
       "      <td>4</td>\n",
       "      <td>2205.98080</td>\n",
       "      <td>1</td>\n",
       "    </tr>\n",
       "    <tr>\n",
       "      <th>1335</th>\n",
       "      <td>18</td>\n",
       "      <td>0</td>\n",
       "      <td>36.850</td>\n",
       "      <td>0</td>\n",
       "      <td>0</td>\n",
       "      <td>3</td>\n",
       "      <td>1629.83350</td>\n",
       "      <td>1</td>\n",
       "    </tr>\n",
       "    <tr>\n",
       "      <th>1336</th>\n",
       "      <td>21</td>\n",
       "      <td>0</td>\n",
       "      <td>25.800</td>\n",
       "      <td>0</td>\n",
       "      <td>0</td>\n",
       "      <td>1</td>\n",
       "      <td>2007.94500</td>\n",
       "      <td>0</td>\n",
       "    </tr>\n",
       "    <tr>\n",
       "      <th>1337</th>\n",
       "      <td>61</td>\n",
       "      <td>0</td>\n",
       "      <td>29.070</td>\n",
       "      <td>0</td>\n",
       "      <td>1</td>\n",
       "      <td>2</td>\n",
       "      <td>29141.36030</td>\n",
       "      <td>1</td>\n",
       "    </tr>\n",
       "  </tbody>\n",
       "</table>\n",
       "<p>1338 rows × 8 columns</p>\n",
       "</div>"
      ],
      "text/plain": [
       "      age  sex     bmi  children  smoker  region      charges  insuranceclaim\n",
       "0      19    0  27.900         0       1       1  16884.92400               1\n",
       "1      18    1  33.770         1       0       3   1725.55230               1\n",
       "2      28    1  33.000         3       0       3   4449.46200               0\n",
       "3      33    1  22.705         0       0       2  21984.47061               0\n",
       "4      32    1  28.880         0       0       2   3866.85520               1\n",
       "...   ...  ...     ...       ...     ...     ...          ...             ...\n",
       "1333   50    1  30.970         3       0       2  10600.54830               0\n",
       "1334   18    0  31.920         0       0       4   2205.98080               1\n",
       "1335   18    0  36.850         0       0       3   1629.83350               1\n",
       "1336   21    0  25.800         0       0       1   2007.94500               0\n",
       "1337   61    0  29.070         0       1       2  29141.36030               1\n",
       "\n",
       "[1338 rows x 8 columns]"
      ]
     },
     "execution_count": 24,
     "metadata": {},
     "output_type": "execute_result"
    }
   ],
   "source": [
    "claimonly = insuranceDF2['insuranceclaim']\n",
    "data = pd.concat([insuranceDF,insuranceDF2['insuranceclaim']], axis = 1)\n",
    "data#data1.isnull().sum()"
   ]
  },
  {
   "cell_type": "code",
   "execution_count": 25,
   "metadata": {},
   "outputs": [],
   "source": [
    "#insuranceDF3 = insuranceDF.merge(claimonly)\n",
    "#insuranceDF3 = pd.concat([insuranceDF,claimonly])"
   ]
  },
  {
   "cell_type": "code",
   "execution_count": 26,
   "metadata": {},
   "outputs": [
    {
     "data": {
      "text/plain": [
       "age               0\n",
       "sex               0\n",
       "bmi               0\n",
       "children          0\n",
       "smoker            0\n",
       "region            0\n",
       "charges           0\n",
       "insuranceclaim    0\n",
       "dtype: int64"
      ]
     },
     "execution_count": 26,
     "metadata": {},
     "output_type": "execute_result"
    }
   ],
   "source": [
    "insuranceDF =data\n",
    "insuranceDF.isnull().sum()"
   ]
  },
  {
   "cell_type": "code",
   "execution_count": 27,
   "metadata": {},
   "outputs": [],
   "source": [
    "dfTrain = insuranceDF[:1000]\n",
    "dfTest = insuranceDF[1000:1300]\n",
    "dfCheck = insuranceDF[1300:] "
   ]
  },
  {
   "cell_type": "code",
   "execution_count": 28,
   "metadata": {},
   "outputs": [],
   "source": [
    "trainLabel = (dfTrain['insuranceclaim'])\n",
    "trainData = (dfTrain.drop('insuranceclaim',1))\n",
    "testLabel = (dfTest['insuranceclaim'])\n",
    "testData = (dfTest.drop('insuranceclaim',1))"
   ]
  },
  {
   "cell_type": "code",
   "execution_count": 29,
   "metadata": {},
   "outputs": [],
   "source": [
    "means = np.mean(trainData, axis=0)\n",
    "stds = np.std(trainData, axis=0)\n",
    "trainData = (trainData - means)/stds\n",
    "testData = (testData - means)/stds"
   ]
  },
  {
   "cell_type": "code",
   "execution_count": 30,
   "metadata": {},
   "outputs": [
    {
     "data": {
      "text/plain": [
       "LogisticRegression()"
      ]
     },
     "execution_count": 30,
     "metadata": {},
     "output_type": "execute_result"
    }
   ],
   "source": [
    "insuranceCheck = LogisticRegression()\n",
    "insuranceCheck.fit(trainData, trainLabel)"
   ]
  },
  {
   "cell_type": "code",
   "execution_count": 31,
   "metadata": {},
   "outputs": [
    {
     "name": "stdout",
     "output_type": "stream",
     "text": [
      "accuracy =  85.66666666666667 %\n"
     ]
    }
   ],
   "source": [
    "accuracy = insuranceCheck.score(testData, testLabel)\n",
    "print(\"accuracy = \", accuracy * 100, \"%\")"
   ]
  },
  {
   "cell_type": "code",
   "execution_count": 32,
   "metadata": {},
   "outputs": [
    {
     "data": {
      "text/plain": [
       "Text(0.5, 0, 'Importance')"
      ]
     },
     "execution_count": 32,
     "metadata": {},
     "output_type": "execute_result"
    },
    {
     "data": {
      "image/png": "[encoded data removed]",
      "text/plain": [
       "<Figure size 792x432 with 1 Axes>"
      ]
     },
     "metadata": {
      "needs_background": "light"
     },
     "output_type": "display_data"
    }
   ],
   "source": [
    "coeff = list(insuranceCheck.coef_[0])\n",
    "labels = list(dfTrain.drop('insuranceclaim',1).columns)\n",
    "features = pd.DataFrame()\n",
    "features['Features'] = labels\n",
    "features['importance'] = coeff\n",
    "features.sort_values(by=['importance'], ascending=True, inplace=True)\n",
    "features['positive'] = features['importance'] > 0\n",
    "features.set_index('Features', inplace=True)\n",
    "features.importance.plot(kind='barh', figsize=(11, 6),color = features.positive.map({True: 'blue', False: 'red'}))\n",
    "plt.xlabel('Importance')"
   ]
  },
  {
   "cell_type": "markdown",
   "metadata": {},
   "source": [
    "From the above figure, \n",
    "\n",
    "1. BMI, Smoker have significant influence on the model, specially BMI. \n",
    "\n",
    "2. Children have a negative influence on the prediction, i.e. higher number children / dependents are correlated with a policy holder who has not taken insurance claim.\n",
    "\n",
    "3. Although age was more correlated than BMI to the output variables, the model relies more on BMI. This can happen for several reasons, including the fact that the correlation captured by age is also captured by some other variable, whereas the information captured by BMI is not captured by other variables.\n",
    "\n",
    "Note that this above interpretations require that your input data is normalized. Without that, you can't claim that importance is proportional to weights."
   ]
  },
  {
   "cell_type": "code",
   "execution_count": 33,
   "metadata": {},
   "outputs": [
    {
     "data": {
      "text/html": [
       "<div>\n",
       "<style scoped>\n",
       "    .dataframe tbody tr th:only-of-type {\n",
       "        vertical-align: middle;\n",
       "    }\n",
       "\n",
       "    .dataframe tbody tr th {\n",
       "        vertical-align: top;\n",
       "    }\n",
       "\n",
       "    .dataframe thead th {\n",
       "        text-align: right;\n",
       "    }\n",
       "</style>\n",
       "<table border=\"1\" class=\"dataframe\">\n",
       "  <thead>\n",
       "    <tr style=\"text-align: right;\">\n",
       "      <th></th>\n",
       "      <th>age</th>\n",
       "      <th>sex</th>\n",
       "      <th>bmi</th>\n",
       "      <th>children</th>\n",
       "      <th>smoker</th>\n",
       "      <th>region</th>\n",
       "      <th>charges</th>\n",
       "      <th>insuranceclaim</th>\n",
       "    </tr>\n",
       "  </thead>\n",
       "  <tbody>\n",
       "    <tr>\n",
       "      <th>0</th>\n",
       "      <td>-1.438764</td>\n",
       "      <td>-1.010519</td>\n",
       "      <td>-0.453320</td>\n",
       "      <td>-0.908614</td>\n",
       "      <td>1.970587</td>\n",
       "      <td>-1.370259</td>\n",
       "      <td>0.298584</td>\n",
       "      <td>0.841910</td>\n",
       "    </tr>\n",
       "    <tr>\n",
       "      <th>1</th>\n",
       "      <td>-1.509965</td>\n",
       "      <td>0.989591</td>\n",
       "      <td>0.509621</td>\n",
       "      <td>-0.078767</td>\n",
       "      <td>-0.507463</td>\n",
       "      <td>0.440513</td>\n",
       "      <td>-0.953689</td>\n",
       "      <td>0.841910</td>\n",
       "    </tr>\n",
       "    <tr>\n",
       "      <th>2</th>\n",
       "      <td>-0.797954</td>\n",
       "      <td>0.989591</td>\n",
       "      <td>0.383307</td>\n",
       "      <td>1.580926</td>\n",
       "      <td>-0.507463</td>\n",
       "      <td>0.440513</td>\n",
       "      <td>-0.728675</td>\n",
       "      <td>-1.187776</td>\n",
       "    </tr>\n",
       "    <tr>\n",
       "      <th>3</th>\n",
       "      <td>-0.441948</td>\n",
       "      <td>0.989591</td>\n",
       "      <td>-1.305531</td>\n",
       "      <td>-0.908614</td>\n",
       "      <td>-0.507463</td>\n",
       "      <td>-0.464873</td>\n",
       "      <td>0.719843</td>\n",
       "      <td>-1.187776</td>\n",
       "    </tr>\n",
       "    <tr>\n",
       "      <th>4</th>\n",
       "      <td>-0.513149</td>\n",
       "      <td>0.989591</td>\n",
       "      <td>-0.292556</td>\n",
       "      <td>-0.908614</td>\n",
       "      <td>-0.507463</td>\n",
       "      <td>-0.464873</td>\n",
       "      <td>-0.776802</td>\n",
       "      <td>0.841910</td>\n",
       "    </tr>\n",
       "  </tbody>\n",
       "</table>\n",
       "</div>"
      ],
      "text/plain": [
       "        age       sex       bmi  children    smoker    region   charges  \\\n",
       "0 -1.438764 -1.010519 -0.453320 -0.908614  1.970587 -1.370259  0.298584   \n",
       "1 -1.509965  0.989591  0.509621 -0.078767 -0.507463  0.440513 -0.953689   \n",
       "2 -0.797954  0.989591  0.383307  1.580926 -0.507463  0.440513 -0.728675   \n",
       "3 -0.441948  0.989591 -1.305531 -0.908614 -0.507463 -0.464873  0.719843   \n",
       "4 -0.513149  0.989591 -0.292556 -0.908614 -0.507463 -0.464873 -0.776802   \n",
       "\n",
       "   insuranceclaim  \n",
       "0        0.841910  \n",
       "1        0.841910  \n",
       "2       -1.187776  \n",
       "3       -1.187776  \n",
       "4        0.841910  "
      ]
     },
     "execution_count": 33,
     "metadata": {},
     "output_type": "execute_result"
    }
   ],
   "source": [
    "#insuranceDF\n",
    "df_names = insuranceDF.columns\n",
    "scaler = StandardScaler() #Scaler object\n",
    "#Fit the data \n",
    "insuranceDF_scaled = scaler.fit_transform(insuranceDF)\n",
    "#Convert it to dataframe\n",
    "insuranceDF_scaled = pd.DataFrame(insuranceDF_scaled,columns=df_names)\n",
    "insuranceDF_scaled.head()"
   ]
  },
  {
   "cell_type": "code",
   "execution_count": 34,
   "metadata": {},
   "outputs": [],
   "source": [
    "feature_cols = ['age', 'sex', 'bmi', 'children', 'smoker', 'region', 'charges']\n",
    "X = insuranceDF[feature_cols] # Features\n",
    "y = insuranceDF.insuranceclaim # Target variable\n",
    "X_train,X_test,y_train,y_test=train_test_split(X,y,test_size=0.30,random_state=42)"
   ]
  },
  {
   "cell_type": "markdown",
   "metadata": {},
   "source": [
    "### Model Development and Prediction\n",
    "* First, import the Logistic Regression module and create a Logistic Regression classifier object using LogisticRegression() function.\n",
    "\n",
    "* Then, fit your model on the train set using fit() and perform prediction on the test set using predict()."
   ]
  },
  {
   "cell_type": "code",
   "execution_count": 35,
   "metadata": {},
   "outputs": [],
   "source": [
    "# instantiate the model (using the default parameters)\n",
    "logreg = LogisticRegression()\n",
    "\n",
    "# fit the model with data\n",
    "logreg.fit(X_train,y_train)\n",
    "\n",
    "#\n",
    "y_pred=logreg.predict(X_test)\n"
   ]
  },
  {
   "cell_type": "markdown",
   "metadata": {},
   "source": [
    "### Model Evaluation using Confusion Matrix\n",
    "* A confusion matrix is a table that is used to evaluate the performance of a classification model. You can also visualize the performance of an algorithm. The fundamental of a confusion matrix is the number of correct and incorrect predictions are summed up class-wise."
   ]
  },
  {
   "cell_type": "code",
   "execution_count": 36,
   "metadata": {},
   "outputs": [
    {
     "data": {
      "text/plain": [
       "array([[127,  34],\n",
       "       [ 32, 209]])"
      ]
     },
     "execution_count": 36,
     "metadata": {},
     "output_type": "execute_result"
    }
   ],
   "source": [
    "# import the metrics class\n",
    "from sklearn import metrics\n",
    "conf_matrix = metrics.confusion_matrix(y_test, y_pred)\n",
    "conf_matrix"
   ]
  },
  {
   "cell_type": "markdown",
   "metadata": {},
   "source": [
    "### Inference\n",
    "* You can see the confusion matrix in the form of the array object. The dimension of this matrix is 2*2 because this model is binary classification. You have two classes 0 and 1. Diagonal values represent accurate predictions, while non-diagonal elements are inaccurate predictions. In the output, 119 and 36 are actual predictions, and 26 and 11 are incorrect predictions.\n",
    "\n",
    "### Visualizing Confusion Matrix using Heatmap\n",
    "* Let's visualize the results of the model in the form of a confusion matrix using matplotlib and seaborn."
   ]
  },
  {
   "cell_type": "code",
   "execution_count": 37,
   "metadata": {},
   "outputs": [
    {
     "data": {
      "text/plain": [
       "Text(0.5, 257.44, 'Predicted label')"
      ]
     },
     "execution_count": 37,
     "metadata": {},
     "output_type": "execute_result"
    },
    {
     "data": {
      "image/png": "[encoded data removed]",
      "text/plain": [
       "<Figure size 432x288 with 2 Axes>"
      ]
     },
     "metadata": {
      "needs_background": "light"
     },
     "output_type": "display_data"
    }
   ],
   "source": [
    "class_names=[0,1] # name  of classes\n",
    "fig, ax = plt.subplots()\n",
    "tick_marks = np.arange(len(class_names))\n",
    "plt.xticks(tick_marks, class_names)\n",
    "plt.yticks(tick_marks, class_names)\n",
    "# create heatmap\n",
    "sns.heatmap(pd.DataFrame(conf_matrix), annot=True, cmap=\"YlGnBu\" ,fmt='g')\n",
    "ax.xaxis.set_label_position(\"top\")\n",
    "plt.tight_layout()\n",
    "plt.title('Confusion matrix', y=1.1)\n",
    "plt.ylabel('Actual label')\n",
    "plt.xlabel('Predicted label')"
   ]
  },
  {
   "cell_type": "markdown",
   "metadata": {},
   "source": [
    "### Confusion Matrix Evaluation Metrics\n",
    "* Let's evaluate the model using model evaluation metrics such as accuracy, precision, and recall."
   ]
  },
  {
   "cell_type": "code",
   "execution_count": 38,
   "metadata": {},
   "outputs": [
    {
     "name": "stdout",
     "output_type": "stream",
     "text": [
      "Accuracy: 0.835820895522388\n",
      "Precision: 0.8600823045267489\n",
      "Recall: 0.8672199170124482\n"
     ]
    }
   ],
   "source": [
    "print(\"Accuracy:\",metrics.accuracy_score(y_test, y_pred))\n",
    "print(\"Precision:\",metrics.precision_score(y_test, y_pred))\n",
    "print(\"Recall:\",metrics.recall_score(y_test, y_pred))"
   ]
  },
  {
   "cell_type": "markdown",
   "metadata": {},
   "source": [
    "### Inferences\n",
    "* Accuracy - We got a classification rate of 83%, which can be considered as good accuracy.\n",
    "* Precision: This is a measure of how accurate the model is. In other words, you can say, when a model makes a prediction, how often it is correct. In our current problem, it is 87% of the time.\n",
    "\n",
    "* Recall: If there are patients with insurance claim in the test set the designed Logistic Regression model can identify it 87% of the time.\n",
    "\n",
    "### ROC Curve\n",
    "* Receiver Operating Characteristic(ROC) curve is a plot of the true positive rate against the false positive rate. It shows the tradeoff between sensitivity and specificity."
   ]
  },
  {
   "cell_type": "code",
   "execution_count": 39,
   "metadata": {},
   "outputs": [
    {
     "data": {
      "image/png": "[encoded data removed]",
      "text/plain": [
       "<Figure size 432x288 with 1 Axes>"
      ]
     },
     "metadata": {
      "needs_background": "light"
     },
     "output_type": "display_data"
    }
   ],
   "source": [
    "y_pred_proba = logreg.predict_proba(X_test)[::,1]\n",
    "fpr, tpr, _ = metrics.roc_curve(y_test,  y_pred_proba)\n",
    "auc = metrics.roc_auc_score(y_test, y_pred_proba)\n",
    "plt.plot(fpr,tpr,label=\"data 1, auc=\"+str(auc))\n",
    "plt.legend(loc=4)\n",
    "plt.show()"
   ]
  },
  {
   "cell_type": "markdown",
   "metadata": {},
   "source": [
    "### Inferences\n",
    "* The AUC score for the case is 0.90. AUC score 1 represents perfect classifier, and 0.5 represents a worthless classifier.\n",
    "\n",
    "#### Advantages\n",
    "* Because of its efficient and straightforward nature, doesn't require high computation power, easy to implement, easily interpretable, used widely by data analyst and scientist. Also, it doesn't require scaling of features. Logistic regression provides a probability score for observations.\n",
    "\n",
    "#### Disadvantages\n",
    "* Logistic regression is not able to handle a large number of categorical features/variables. It is vulnerable to overfitting. Also, can't solve the non-linear problem with the logistic regression that is why it requires a transformation of non-linear features. Logistic regression will not perform well with independent variables that are not correlated to the target variable and are very similar or correlated to each other."
   ]
  },
  {
   "cell_type": "code",
   "execution_count": 40,
   "metadata": {},
   "outputs": [
    {
     "data": {
      "text/plain": [
       "Text(0.5, 0, 'Importance')"
      ]
     },
     "execution_count": 40,
     "metadata": {},
     "output_type": "execute_result"
    },
    {
     "data": {
      "image/png": "[encoded data removed]",
      "text/plain": [
       "<Figure size 792x432 with 1 Axes>"
      ]
     },
     "metadata": {
      "needs_background": "light"
     },
     "output_type": "display_data"
    }
   ],
   "source": [
    "coeff = list(logreg.fit(X_train,y_train).coef_[0])\n",
    "labels = list(X_test.columns)\n",
    "features = pd.DataFrame()\n",
    "features['Features'] = labels\n",
    "features['importance'] = coeff\n",
    "features.sort_values(by=['importance'], ascending=True, inplace=True)\n",
    "features['positive'] = features['importance'] > 0\n",
    "features.set_index('Features', inplace=True)\n",
    "features.importance.plot(kind='barh', figsize=(11, 6),color = features.positive.map({True: 'blue', False: 'red'}))\n",
    "plt.xlabel('Importance')"
   ]
  },
  {
   "cell_type": "markdown",
   "metadata": {},
   "source": [
    "From the above figure after the training \n",
    "\n",
    "1. BMI, Smoker have significant influence on the model, specially smoker. \n",
    "\n",
    "2. Children and sex have a negative influence on the prediction, i.e. higher number children / dependents or sex (male or female) are correlated with a policy holder who has not taken insurance claim.\n",
    "\n",
    "3. Although age was more correlated than BMI to the output variables, the model relies more on smoker. This can happen for several reasons, including the fact that the correlation captured by age is also captured by some other variable, whereas the information captured by BMI is not captured by other variables.\n",
    "\n",
    "Note that this above interpretations require that your input data is normalized. Without that, you can't claim that importance is proportional to weights."
   ]
  },
  {
   "cell_type": "code",
   "execution_count": null,
   "metadata": {},
   "outputs": [],
   "source": []
  }
 ],
 "metadata": {
  "kernelspec": {
   "display_name": "Python 3 (ipykernel)",
   "language": "python",
   "name": "python3"
  },
  "language_info": {
   "codemirror_mode": {
    "name": "ipython",
    "version": 3
   },
   "file_extension": ".py",
   "mimetype": "text/x-python",
   "name": "python",
   "nbconvert_exporter": "python",
   "pygments_lexer": "ipython3",
   "version": "3.8.8"
  }
 },
 "nbformat": 4,
 "nbformat_minor": 2
}
