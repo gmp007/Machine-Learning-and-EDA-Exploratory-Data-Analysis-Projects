{
  "cells": [
    {
      "cell_type": "markdown",
      "metadata": {
        "id": "view-in-github",
        "colab_type": "text"
      },
      "source": [
        "<a href=\"https://colab.research.google.com/github/gmp007/Machine-Learning-and-EDA-Exploratory-Data-Analysis-Projects/blob/main/MovieRecommender/MovieRecommenderModeling.ipynb\" target=\"_parent\"><img src=\"https://colab.research.google.com/assets/colab-badge.svg\" alt=\"Open In Colab\"/></a>"
      ]
    },
    {
      "cell_type": "markdown",
      "metadata": {
        "id": "gvp-_5f13YS7"
      },
      "source": [
        "# Table of Contents \n",
        "[Libraries Used](#libraries) \n",
        "\n",
        "Part I: [About Dataset](#aboutdataset)\n",
        "\n",
        "Part II: [Summary of Problem and Task](#task)\n",
        "\n",
        "Part III: [Getting the Dataset](#getdata)\n",
        "\n",
        "Part IV: [Data Preprocessing](#cleanup) \n",
        "\n",
        "Part V: [Exploratory Data Analysis and Visualization](#eda)\n",
        "\n",
        "Part VI: [Model Design and Model Training](#model)\n",
        "\n",
        "Part VII: [Model Evaluation and Performance](#makeprediction)\n",
        "\n",
        "Part VIII: [Hyperparameter Optimization](#hyperparameter)\n",
        "\n",
        "Part IX: [Summary](#summary)"
      ]
    },
    {
      "cell_type": "markdown",
      "metadata": {
        "id": "sSdoKW3N4-bZ"
      },
      "source": [
        "<a id='libraries'></a>"
      ]
    },
    {
      "cell_type": "markdown",
      "metadata": {
        "id": "-uelTvdD7a38"
      },
      "source": [
        "# Import Essential Libraries"
      ]
    },
    {
      "cell_type": "code",
      "execution_count": 1,
      "metadata": {
        "id": "6nbF4GviskRg",
        "colab": {
          "base_uri": "https://localhost:8080/"
        },
        "outputId": "77bf2663-ada8-4b88-fbd5-5318b21f1e85"
      },
      "outputs": [
        {
          "output_type": "stream",
          "name": "stderr",
          "text": [
            "[nltk_data] Downloading package stopwords to /root/nltk_data...\n",
            "[nltk_data]   Package stopwords is already up-to-date!\n"
          ]
        },
        {
          "output_type": "execute_result",
          "data": {
            "text/plain": [
              "True"
            ]
          },
          "metadata": {},
          "execution_count": 1
        }
      ],
      "source": [
        "# General libraries\n",
        "import pandas as pd\n",
        "import numpy as np\n",
        "import json\n",
        "import re\n",
        "import matplotlib.pyplot as plt \n",
        "import seaborn as sns\n",
        "import string\n",
        "from scipy.stats import loguniform\n",
        "import csv\n",
        "import requests\n",
        "import tarfile\n",
        "\n",
        "# NLP libraries\n",
        "from nltk.corpus import stopwords\n",
        "import nltk\n",
        "from tqdm import tqdm\n",
        "from sklearn.feature_extraction.text import TfidfVectorizer\n",
        "\n",
        "# Model Building\n",
        "from sklearn.model_selection import train_test_split\n",
        "from sklearn.linear_model import LogisticRegression,LogisticRegressionCV\n",
        "from sklearn.ensemble import RandomForestClassifier\n",
        "from sklearn.metrics.pairwise import cosine_similarity\n",
        "\n",
        "\n",
        "#import the required libraries for grid search\n",
        "from sklearn.model_selection import RandomizedSearchCV\n",
        "from sklearn.model_selection import RepeatedKFold,StratifiedKFold,KFold\n",
        "\n",
        "# Binary Relevance\n",
        "from sklearn.multiclass import OneVsRestClassifier\n",
        "from sklearn.preprocessing import MultiLabelBinarizer \n",
        "\n",
        "# Performance metric\n",
        "from sklearn.metrics import f1_score\n",
        "\n",
        "\n",
        "import warnings\n",
        "\n",
        "random_seed = 121\n",
        "test_size = 0.20\n",
        "hyperparameter =False\n",
        "\n",
        "%matplotlib inline\n",
        "pd.set_option('display.max_colwidth', 300)\n",
        "warnings.filterwarnings(\"ignore\")\n",
        "# nltk needed below. Download it here\n",
        "nltk.download('stopwords')"
      ]
    },
    {
      "cell_type": "markdown",
      "metadata": {
        "id": "XdkX8Lgm62Em"
      },
      "source": [
        "<a id='aboutdataset'></a>"
      ]
    },
    {
      "cell_type": "markdown",
      "metadata": {
        "id": "tWVisroN6PsS"
      },
      "source": [
        "# Part I: About the Datasets\n",
        "This is the famous IMDB dataset. Data is accessed from the URLs below:\n",
        "\n",
        "- [IMDB Static Datasets - https://datasets.imdbws.com/](https://datasets.imdbws.com/)\n",
        "- [IMDB Data Definition Details - https://www.imdb.com/interfaces/](https://www.imdb.com/interfaces/)\n",
        "- [IMDB Spoiler Dataset - https://www.kaggle.com/rmisra/imdb-spoiler-dataset/data](https://www.kaggle.com/rmisra/imdb-spoiler-dataset/data)\n",
        "- [CMU Plot Summary Data Set - http://www.cs.cmu.edu/~ark/personas/data/MovieSummaries.tar.gz](http://www.cs.cmu.edu/~ark/personas/data/MovieSummaries.tar.gz)"
      ]
    },
    {
      "cell_type": "markdown",
      "metadata": {
        "id": "LYaJbDol7vzi"
      },
      "source": [
        "<a id='task'></a>"
      ]
    },
    {
      "cell_type": "markdown",
      "metadata": {
        "id": "YXA2GjZN7qqR"
      },
      "source": [
        "# Part II: Summary of Problem and Task"
      ]
    },
    {
      "cell_type": "markdown",
      "metadata": {
        "id": "B2CptGOz5nOK"
      },
      "source": [
        "<a id='getdata'></a>"
      ]
    },
    {
      "cell_type": "markdown",
      "metadata": {
        "id": "UQgJrfg-8BMK"
      },
      "source": [
        "## **Task**\n",
        "- Use data-driven machine learning modeling to classify movie genres and recommend similar films for new movie production company's internal review and assessment based on lightning pitch synopses.\n",
        "\n",
        "## **Input**\n",
        "\n",
        "- The system should accept a text file containing a movie synopsis as input. The text file should be in plain text format and include a description of the movie's plot, characters, and other relevant details.\n",
        "\n",
        "## **Output**\n",
        "- The system should return the primary genre of the movie, or multiple genres if more than one scores equally high. The output should be a list of genre(s) that best describe the movie based on its synopsis.\n",
        "\n",
        "- Additionally, the system will return a list of no more than five similar movies based on the synopsis provided. The list will include movie titles and a brief description of each movie.\n",
        "\n",
        "## **Genre Derivation**\n",
        "- The list of applicable genres will be derived from the data provided during training. The system will use advanced natural language processing techniques to determine the genre of a movie based on its synopsis.\n",
        "\n",
        "## **Multiple Genres**\n",
        "- A movie can belong to more than one genre, but the system believes that movies should fit in a given genre more than another. If a movie belongs to multiple genres equally, the system will return all relevant genres in the output.\n",
        "\n",
        "## **What the Model is Intended to Achieve**\n",
        "- This system is designed to help moviegoers and experts in quickly determining the genre of a film and finding related films based on its description. The system's powerful natural language processing capabilities provide reliable findings, making it a great tool for anybody interested in film analysis."
      ]
    },
    {
      "cell_type": "markdown",
      "metadata": {
        "id": "SbM3wn1q-b8C"
      },
      "source": [
        "<a id='getdata'></a>"
      ]
    },
    {
      "cell_type": "markdown",
      "metadata": {
        "id": "kfCwMADxf1He"
      },
      "source": [
        "# Part III: Getting the Dataset"
      ]
    },
    {
      "cell_type": "code",
      "execution_count": 2,
      "metadata": {
        "id": "S3_7qDf6TIQT"
      },
      "outputs": [],
      "source": [
        "url = \"http://www.cs.cmu.edu/~ark/personas/data/MovieSummaries.tar.gz\"\n",
        "response = requests.get(url, stream=True)\n",
        "file = tarfile.open(fileobj=response.raw, mode=\"r|gz\")\n",
        "file.extractall(path=\".\")"
      ]
    },
    {
      "cell_type": "code",
      "execution_count": 3,
      "metadata": {
        "id": "Vk-2clPvTIae"
      },
      "outputs": [],
      "source": [
        "!cp MovieSummaries/* ."
      ]
    },
    {
      "cell_type": "code",
      "execution_count": 4,
      "metadata": {
        "colab": {
          "base_uri": "https://localhost:8080/",
          "height": 389
        },
        "id": "VBpAePZI_CeC",
        "outputId": "534bf5d2-deb4-419a-c1ad-83e74c01b77b"
      },
      "outputs": [
        {
          "output_type": "execute_result",
          "data": {
            "text/plain": [
              "          0           1  \\\n",
              "0    975900   /m/03vyhn   \n",
              "1   3196793   /m/08yl5d   \n",
              "2  28463795  /m/0crgdbh   \n",
              "3   9363483  /m/0285_cd   \n",
              "4    261236   /m/01mrr1   \n",
              "\n",
              "                                                       2           3  \\\n",
              "0                                         Ghosts of Mars  2001-08-24   \n",
              "1  Getting Away with Murder: The JonBenét Ramsey Mystery  2000-02-16   \n",
              "2                                            Brun bitter        1988   \n",
              "3                                       White Of The Eye        1987   \n",
              "4                                      A Woman in Flames        1983   \n",
              "\n",
              "            4      5                                   6  \\\n",
              "0  14010832.0   98.0  {\"/m/02h40lc\": \"English Language\"}   \n",
              "1         NaN   95.0  {\"/m/02h40lc\": \"English Language\"}   \n",
              "2         NaN   83.0  {\"/m/05f_3\": \"Norwegian Language\"}   \n",
              "3         NaN  110.0  {\"/m/02h40lc\": \"English Language\"}   \n",
              "4         NaN  106.0   {\"/m/04306rv\": \"German Language\"}   \n",
              "\n",
              "                                           7  \\\n",
              "0  {\"/m/09c7w0\": \"United States of America\"}   \n",
              "1  {\"/m/09c7w0\": \"United States of America\"}   \n",
              "2                     {\"/m/05b4w\": \"Norway\"}   \n",
              "3             {\"/m/07ssc\": \"United Kingdom\"}   \n",
              "4                    {\"/m/0345h\": \"Germany\"}   \n",
              "\n",
              "                                                                                                                                                                                            8  \n",
              "0  {\"/m/01jfsb\": \"Thriller\", \"/m/06n90\": \"Science Fiction\", \"/m/03npn\": \"Horror\", \"/m/03k9fj\": \"Adventure\", \"/m/0fdjb\": \"Supernatural\", \"/m/02kdv5l\": \"Action\", \"/m/09zvmj\": \"Space western\"}  \n",
              "1                                                                              {\"/m/02n4kr\": \"Mystery\", \"/m/03bxz7\": \"Biographical film\", \"/m/07s9rl0\": \"Drama\", \"/m/0hj3n01\": \"Crime Drama\"}  \n",
              "2                                                                                                                                        {\"/m/0lsxr\": \"Crime Fiction\", \"/m/07s9rl0\": \"Drama\"}  \n",
              "3                                                                                            {\"/m/01jfsb\": \"Thriller\", \"/m/0glj9q\": \"Erotic thriller\", \"/m/09blyk\": \"Psychological thriller\"}  \n",
              "4                                                                                                                                                                     {\"/m/07s9rl0\": \"Drama\"}  "
            ],
            "text/html": [
              "\n",
              "  <div id=\"df-06d8683b-067e-428b-b803-02e55f5daaef\">\n",
              "    <div class=\"colab-df-container\">\n",
              "      <div>\n",
              "<style scoped>\n",
              "    .dataframe tbody tr th:only-of-type {\n",
              "        vertical-align: middle;\n",
              "    }\n",
              "\n",
              "    .dataframe tbody tr th {\n",
              "        vertical-align: top;\n",
              "    }\n",
              "\n",
              "    .dataframe thead th {\n",
              "        text-align: right;\n",
              "    }\n",
              "</style>\n",
              "<table border=\"1\" class=\"dataframe\">\n",
              "  <thead>\n",
              "    <tr style=\"text-align: right;\">\n",
              "      <th></th>\n",
              "      <th>0</th>\n",
              "      <th>1</th>\n",
              "      <th>2</th>\n",
              "      <th>3</th>\n",
              "      <th>4</th>\n",
              "      <th>5</th>\n",
              "      <th>6</th>\n",
              "      <th>7</th>\n",
              "      <th>8</th>\n",
              "    </tr>\n",
              "  </thead>\n",
              "  <tbody>\n",
              "    <tr>\n",
              "      <th>0</th>\n",
              "      <td>975900</td>\n",
              "      <td>/m/03vyhn</td>\n",
              "      <td>Ghosts of Mars</td>\n",
              "      <td>2001-08-24</td>\n",
              "      <td>14010832.0</td>\n",
              "      <td>98.0</td>\n",
              "      <td>{\"/m/02h40lc\": \"English Language\"}</td>\n",
              "      <td>{\"/m/09c7w0\": \"United States of America\"}</td>\n",
              "      <td>{\"/m/01jfsb\": \"Thriller\", \"/m/06n90\": \"Science Fiction\", \"/m/03npn\": \"Horror\", \"/m/03k9fj\": \"Adventure\", \"/m/0fdjb\": \"Supernatural\", \"/m/02kdv5l\": \"Action\", \"/m/09zvmj\": \"Space western\"}</td>\n",
              "    </tr>\n",
              "    <tr>\n",
              "      <th>1</th>\n",
              "      <td>3196793</td>\n",
              "      <td>/m/08yl5d</td>\n",
              "      <td>Getting Away with Murder: The JonBenét Ramsey Mystery</td>\n",
              "      <td>2000-02-16</td>\n",
              "      <td>NaN</td>\n",
              "      <td>95.0</td>\n",
              "      <td>{\"/m/02h40lc\": \"English Language\"}</td>\n",
              "      <td>{\"/m/09c7w0\": \"United States of America\"}</td>\n",
              "      <td>{\"/m/02n4kr\": \"Mystery\", \"/m/03bxz7\": \"Biographical film\", \"/m/07s9rl0\": \"Drama\", \"/m/0hj3n01\": \"Crime Drama\"}</td>\n",
              "    </tr>\n",
              "    <tr>\n",
              "      <th>2</th>\n",
              "      <td>28463795</td>\n",
              "      <td>/m/0crgdbh</td>\n",
              "      <td>Brun bitter</td>\n",
              "      <td>1988</td>\n",
              "      <td>NaN</td>\n",
              "      <td>83.0</td>\n",
              "      <td>{\"/m/05f_3\": \"Norwegian Language\"}</td>\n",
              "      <td>{\"/m/05b4w\": \"Norway\"}</td>\n",
              "      <td>{\"/m/0lsxr\": \"Crime Fiction\", \"/m/07s9rl0\": \"Drama\"}</td>\n",
              "    </tr>\n",
              "    <tr>\n",
              "      <th>3</th>\n",
              "      <td>9363483</td>\n",
              "      <td>/m/0285_cd</td>\n",
              "      <td>White Of The Eye</td>\n",
              "      <td>1987</td>\n",
              "      <td>NaN</td>\n",
              "      <td>110.0</td>\n",
              "      <td>{\"/m/02h40lc\": \"English Language\"}</td>\n",
              "      <td>{\"/m/07ssc\": \"United Kingdom\"}</td>\n",
              "      <td>{\"/m/01jfsb\": \"Thriller\", \"/m/0glj9q\": \"Erotic thriller\", \"/m/09blyk\": \"Psychological thriller\"}</td>\n",
              "    </tr>\n",
              "    <tr>\n",
              "      <th>4</th>\n",
              "      <td>261236</td>\n",
              "      <td>/m/01mrr1</td>\n",
              "      <td>A Woman in Flames</td>\n",
              "      <td>1983</td>\n",
              "      <td>NaN</td>\n",
              "      <td>106.0</td>\n",
              "      <td>{\"/m/04306rv\": \"German Language\"}</td>\n",
              "      <td>{\"/m/0345h\": \"Germany\"}</td>\n",
              "      <td>{\"/m/07s9rl0\": \"Drama\"}</td>\n",
              "    </tr>\n",
              "  </tbody>\n",
              "</table>\n",
              "</div>\n",
              "      <button class=\"colab-df-convert\" onclick=\"convertToInteractive('df-06d8683b-067e-428b-b803-02e55f5daaef')\"\n",
              "              title=\"Convert this dataframe to an interactive table.\"\n",
              "              style=\"display:none;\">\n",
              "        \n",
              "  <svg xmlns=\"http://www.w3.org/2000/svg\" height=\"24px\"viewBox=\"0 0 24 24\"\n",
              "       width=\"24px\">\n",
              "    <path d=\"M0 0h24v24H0V0z\" fill=\"none\"/>\n",
              "    <path d=\"M18.56 5.44l.94 2.06.94-2.06 2.06-.94-2.06-.94-.94-2.06-.94 2.06-2.06.94zm-11 1L8.5 8.5l.94-2.06 2.06-.94-2.06-.94L8.5 2.5l-.94 2.06-2.06.94zm10 10l.94 2.06.94-2.06 2.06-.94-2.06-.94-.94-2.06-.94 2.06-2.06.94z\"/><path d=\"M17.41 7.96l-1.37-1.37c-.4-.4-.92-.59-1.43-.59-.52 0-1.04.2-1.43.59L10.3 9.45l-7.72 7.72c-.78.78-.78 2.05 0 2.83L4 21.41c.39.39.9.59 1.41.59.51 0 1.02-.2 1.41-.59l7.78-7.78 2.81-2.81c.8-.78.8-2.07 0-2.86zM5.41 20L4 18.59l7.72-7.72 1.47 1.35L5.41 20z\"/>\n",
              "  </svg>\n",
              "      </button>\n",
              "      \n",
              "  <style>\n",
              "    .colab-df-container {\n",
              "      display:flex;\n",
              "      flex-wrap:wrap;\n",
              "      gap: 12px;\n",
              "    }\n",
              "\n",
              "    .colab-df-convert {\n",
              "      background-color: #E8F0FE;\n",
              "      border: none;\n",
              "      border-radius: 50%;\n",
              "      cursor: pointer;\n",
              "      display: none;\n",
              "      fill: #1967D2;\n",
              "      height: 32px;\n",
              "      padding: 0 0 0 0;\n",
              "      width: 32px;\n",
              "    }\n",
              "\n",
              "    .colab-df-convert:hover {\n",
              "      background-color: #E2EBFA;\n",
              "      box-shadow: 0px 1px 2px rgba(60, 64, 67, 0.3), 0px 1px 3px 1px rgba(60, 64, 67, 0.15);\n",
              "      fill: #174EA6;\n",
              "    }\n",
              "\n",
              "    [theme=dark] .colab-df-convert {\n",
              "      background-color: #3B4455;\n",
              "      fill: #D2E3FC;\n",
              "    }\n",
              "\n",
              "    [theme=dark] .colab-df-convert:hover {\n",
              "      background-color: #434B5C;\n",
              "      box-shadow: 0px 1px 3px 1px rgba(0, 0, 0, 0.15);\n",
              "      filter: drop-shadow(0px 1px 2px rgba(0, 0, 0, 0.3));\n",
              "      fill: #FFFFFF;\n",
              "    }\n",
              "  </style>\n",
              "\n",
              "      <script>\n",
              "        const buttonEl =\n",
              "          document.querySelector('#df-06d8683b-067e-428b-b803-02e55f5daaef button.colab-df-convert');\n",
              "        buttonEl.style.display =\n",
              "          google.colab.kernel.accessAllowed ? 'block' : 'none';\n",
              "\n",
              "        async function convertToInteractive(key) {\n",
              "          const element = document.querySelector('#df-06d8683b-067e-428b-b803-02e55f5daaef');\n",
              "          const dataTable =\n",
              "            await google.colab.kernel.invokeFunction('convertToInteractive',\n",
              "                                                     [key], {});\n",
              "          if (!dataTable) return;\n",
              "\n",
              "          const docLinkHtml = 'Like what you see? Visit the ' +\n",
              "            '<a target=\"_blank\" href=https://colab.research.google.com/notebooks/data_table.ipynb>data table notebook</a>'\n",
              "            + ' to learn more about interactive tables.';\n",
              "          element.innerHTML = '';\n",
              "          dataTable['output_type'] = 'display_data';\n",
              "          await google.colab.output.renderOutput(dataTable, element);\n",
              "          const docLink = document.createElement('div');\n",
              "          docLink.innerHTML = docLinkHtml;\n",
              "          element.appendChild(docLink);\n",
              "        }\n",
              "      </script>\n",
              "    </div>\n",
              "  </div>\n",
              "  "
            ]
          },
          "metadata": {},
          "execution_count": 4
        }
      ],
      "source": [
        "meta_data = pd.read_csv(\"movie.metadata.tsv\", sep = '\\t', header = None)\n",
        "meta_data.head()"
      ]
    },
    {
      "cell_type": "markdown",
      "metadata": {
        "id": "J-OHLTXg-0i_"
      },
      "source": [
        "<a id='cleanup'></a>"
      ]
    },
    {
      "cell_type": "markdown",
      "metadata": {
        "id": "Zn2VWC9M-xMk"
      },
      "source": [
        "# Part IV: Data Preprocessing"
      ]
    },
    {
      "cell_type": "code",
      "execution_count": 5,
      "metadata": {
        "id": "mPdihY6ZtjL0"
      },
      "outputs": [],
      "source": [
        "# The data has no head. So, use documentation to assign essential headers\n",
        "# rename columns\n",
        "meta_data.columns = [\"movie_id\",1,\"movie_name\",3,4,5,6,7,\"movie_genre\"]"
      ]
    },
    {
      "cell_type": "code",
      "execution_count": 6,
      "metadata": {
        "colab": {
          "base_uri": "https://localhost:8080/"
        },
        "id": "9tghQ-Kat4z8",
        "outputId": "edb20acf-b3c8-4b94-ceca-169a9d8ad110"
      },
      "outputs": [
        {
          "output_type": "stream",
          "name": "stderr",
          "text": [
            "42303it [00:03, 12751.68it/s]\n"
          ]
        }
      ],
      "source": [
        "# Load the plot summary\n",
        "plots_sum = []\n",
        "\n",
        "with open(\"plot_summaries.txt\", 'r') as f:\n",
        "       reader_plot_sum = csv.reader(f, dialect='excel-tab') \n",
        "       for row in tqdm(reader_plot_sum):\n",
        "            plots_sum.append(row)"
      ]
    },
    {
      "cell_type": "code",
      "execution_count": 7,
      "metadata": {
        "colab": {
          "base_uri": "https://localhost:8080/"
        },
        "id": "vWfaCE8SuVLi",
        "outputId": "c751de0f-0cc1-44fd-d1a2-8bb4014b8d94"
      },
      "outputs": [
        {
          "output_type": "stream",
          "name": "stderr",
          "text": [
            "100%|██████████| 42303/42303 [00:00<00:00, 530495.49it/s]\n"
          ]
        }
      ],
      "source": [
        "#Next, split the movie ids and the plots into two separate lists. I will use these lists to form a dataframe\n",
        "movie_id = []\n",
        "MovieSynopsis = []\n",
        "\n",
        "# extract movie Ids and plot summaries\n",
        "for i in tqdm(plots_sum):\n",
        "  movie_id.append(i[0])\n",
        "  MovieSynopsis.append(i[1])\n",
        "\n",
        "# Create the Dataframe\n",
        "movies = pd.DataFrame({'movie_id': movie_id, 'MovieSynopsis': MovieSynopsis})"
      ]
    },
    {
      "cell_type": "code",
      "execution_count": 8,
      "metadata": {
        "colab": {
          "base_uri": "https://localhost:8080/",
          "height": 406
        },
        "id": "AilfdFz5uFgY",
        "outputId": "a34276f8-1244-473a-f1b8-c9c1dec95281"
      },
      "outputs": [
        {
          "output_type": "execute_result",
          "data": {
            "text/plain": [
              "   movie_id  \\\n",
              "0  23890098   \n",
              "1  31186339   \n",
              "2  20663735   \n",
              "3   2231378   \n",
              "4    595909   \n",
              "\n",
              "                                                                                                                                                                                                                                                                                                 MovieSynopsis  \\\n",
              "0                                                                                                                           Shlykov, a hard-working taxi driver and Lyosha, a saxophonist, develop a bizarre love-hate relationship, and despite their prejudices, realize they aren't so different after all.   \n",
              "1  The nation of Panem consists of a wealthy Capitol and twelve poorer districts. As punishment for a past rebellion, each district must provide a boy and girl  between the ages of 12 and 18 selected by lottery  for the annual Hunger Games. The tributes must fight to the death in an arena; the sole...   \n",
              "2  Poovalli Induchoodan  is sentenced for six years prison life for murdering his classmate. Induchoodan, the only son of Justice Maranchery Karunakara Menon  was framed in the case by Manapally Madhavan Nambiar  and his crony DYSP Sankaranarayanan  to take revenge on idealist judge Menon who had e...   \n",
              "3  The Lemon Drop Kid , a New York City swindler, is illegally touting horses at a Florida racetrack. After several successful hustles, the Kid comes across a beautiful, but gullible, woman intending to bet a lot of money. The Kid convinces her to switch her bet, employing a prefabricated con. Unfo...   \n",
              "4  Seventh-day Adventist Church pastor Michael Chamberlain, his wife Lindy, their two sons, and their nine-week-old daughter Azaria are on a camping holiday in the Outback. With the baby sleeping in their tent, the family is enjoying a barbecue with their fellow campers when a cry is heard. Lindy r...   \n",
              "\n",
              "           movie_name  \\\n",
              "0          Taxi Blues   \n",
              "1    The Hunger Games   \n",
              "2          Narasimham   \n",
              "3  The Lemon Drop Kid   \n",
              "4   A Cry in the Dark   \n",
              "\n",
              "                                                                                                                                    movie_genre  \n",
              "0                                                                                          {\"/m/07s9rl0\": \"Drama\", \"/m/03q4nz\": \"World cinema\"}  \n",
              "1                              {\"/m/03btsm8\": \"Action/Adventure\", \"/m/06n90\": \"Science Fiction\", \"/m/02kdv5l\": \"Action\", \"/m/07s9rl0\": \"Drama\"}  \n",
              "2                                               {\"/m/04t36\": \"Musical\", \"/m/02kdv5l\": \"Action\", \"/m/07s9rl0\": \"Drama\", \"/m/01chg\": \"Bollywood\"}  \n",
              "3                                                                                        {\"/m/06qm3\": \"Screwball comedy\", \"/m/01z4y\": \"Comedy\"}  \n",
              "4  {\"/m/0lsxr\": \"Crime Fiction\", \"/m/07s9rl0\": \"Drama\", \"/m/01f9r0\": \"Docudrama\", \"/m/03q4nz\": \"World cinema\", \"/m/05bh16v\": \"Courtroom Drama\"}  "
            ],
            "text/html": [
              "\n",
              "  <div id=\"df-a7a97573-f105-407c-87c8-c4a2eb20fb2c\">\n",
              "    <div class=\"colab-df-container\">\n",
              "      <div>\n",
              "<style scoped>\n",
              "    .dataframe tbody tr th:only-of-type {\n",
              "        vertical-align: middle;\n",
              "    }\n",
              "\n",
              "    .dataframe tbody tr th {\n",
              "        vertical-align: top;\n",
              "    }\n",
              "\n",
              "    .dataframe thead th {\n",
              "        text-align: right;\n",
              "    }\n",
              "</style>\n",
              "<table border=\"1\" class=\"dataframe\">\n",
              "  <thead>\n",
              "    <tr style=\"text-align: right;\">\n",
              "      <th></th>\n",
              "      <th>movie_id</th>\n",
              "      <th>MovieSynopsis</th>\n",
              "      <th>movie_name</th>\n",
              "      <th>movie_genre</th>\n",
              "    </tr>\n",
              "  </thead>\n",
              "  <tbody>\n",
              "    <tr>\n",
              "      <th>0</th>\n",
              "      <td>23890098</td>\n",
              "      <td>Shlykov, a hard-working taxi driver and Lyosha, a saxophonist, develop a bizarre love-hate relationship, and despite their prejudices, realize they aren't so different after all.</td>\n",
              "      <td>Taxi Blues</td>\n",
              "      <td>{\"/m/07s9rl0\": \"Drama\", \"/m/03q4nz\": \"World cinema\"}</td>\n",
              "    </tr>\n",
              "    <tr>\n",
              "      <th>1</th>\n",
              "      <td>31186339</td>\n",
              "      <td>The nation of Panem consists of a wealthy Capitol and twelve poorer districts. As punishment for a past rebellion, each district must provide a boy and girl  between the ages of 12 and 18 selected by lottery  for the annual Hunger Games. The tributes must fight to the death in an arena; the sole...</td>\n",
              "      <td>The Hunger Games</td>\n",
              "      <td>{\"/m/03btsm8\": \"Action/Adventure\", \"/m/06n90\": \"Science Fiction\", \"/m/02kdv5l\": \"Action\", \"/m/07s9rl0\": \"Drama\"}</td>\n",
              "    </tr>\n",
              "    <tr>\n",
              "      <th>2</th>\n",
              "      <td>20663735</td>\n",
              "      <td>Poovalli Induchoodan  is sentenced for six years prison life for murdering his classmate. Induchoodan, the only son of Justice Maranchery Karunakara Menon  was framed in the case by Manapally Madhavan Nambiar  and his crony DYSP Sankaranarayanan  to take revenge on idealist judge Menon who had e...</td>\n",
              "      <td>Narasimham</td>\n",
              "      <td>{\"/m/04t36\": \"Musical\", \"/m/02kdv5l\": \"Action\", \"/m/07s9rl0\": \"Drama\", \"/m/01chg\": \"Bollywood\"}</td>\n",
              "    </tr>\n",
              "    <tr>\n",
              "      <th>3</th>\n",
              "      <td>2231378</td>\n",
              "      <td>The Lemon Drop Kid , a New York City swindler, is illegally touting horses at a Florida racetrack. After several successful hustles, the Kid comes across a beautiful, but gullible, woman intending to bet a lot of money. The Kid convinces her to switch her bet, employing a prefabricated con. Unfo...</td>\n",
              "      <td>The Lemon Drop Kid</td>\n",
              "      <td>{\"/m/06qm3\": \"Screwball comedy\", \"/m/01z4y\": \"Comedy\"}</td>\n",
              "    </tr>\n",
              "    <tr>\n",
              "      <th>4</th>\n",
              "      <td>595909</td>\n",
              "      <td>Seventh-day Adventist Church pastor Michael Chamberlain, his wife Lindy, their two sons, and their nine-week-old daughter Azaria are on a camping holiday in the Outback. With the baby sleeping in their tent, the family is enjoying a barbecue with their fellow campers when a cry is heard. Lindy r...</td>\n",
              "      <td>A Cry in the Dark</td>\n",
              "      <td>{\"/m/0lsxr\": \"Crime Fiction\", \"/m/07s9rl0\": \"Drama\", \"/m/01f9r0\": \"Docudrama\", \"/m/03q4nz\": \"World cinema\", \"/m/05bh16v\": \"Courtroom Drama\"}</td>\n",
              "    </tr>\n",
              "  </tbody>\n",
              "</table>\n",
              "</div>\n",
              "      <button class=\"colab-df-convert\" onclick=\"convertToInteractive('df-a7a97573-f105-407c-87c8-c4a2eb20fb2c')\"\n",
              "              title=\"Convert this dataframe to an interactive table.\"\n",
              "              style=\"display:none;\">\n",
              "        \n",
              "  <svg xmlns=\"http://www.w3.org/2000/svg\" height=\"24px\"viewBox=\"0 0 24 24\"\n",
              "       width=\"24px\">\n",
              "    <path d=\"M0 0h24v24H0V0z\" fill=\"none\"/>\n",
              "    <path d=\"M18.56 5.44l.94 2.06.94-2.06 2.06-.94-2.06-.94-.94-2.06-.94 2.06-2.06.94zm-11 1L8.5 8.5l.94-2.06 2.06-.94-2.06-.94L8.5 2.5l-.94 2.06-2.06.94zm10 10l.94 2.06.94-2.06 2.06-.94-2.06-.94-.94-2.06-.94 2.06-2.06.94z\"/><path d=\"M17.41 7.96l-1.37-1.37c-.4-.4-.92-.59-1.43-.59-.52 0-1.04.2-1.43.59L10.3 9.45l-7.72 7.72c-.78.78-.78 2.05 0 2.83L4 21.41c.39.39.9.59 1.41.59.51 0 1.02-.2 1.41-.59l7.78-7.78 2.81-2.81c.8-.78.8-2.07 0-2.86zM5.41 20L4 18.59l7.72-7.72 1.47 1.35L5.41 20z\"/>\n",
              "  </svg>\n",
              "      </button>\n",
              "      \n",
              "  <style>\n",
              "    .colab-df-container {\n",
              "      display:flex;\n",
              "      flex-wrap:wrap;\n",
              "      gap: 12px;\n",
              "    }\n",
              "\n",
              "    .colab-df-convert {\n",
              "      background-color: #E8F0FE;\n",
              "      border: none;\n",
              "      border-radius: 50%;\n",
              "      cursor: pointer;\n",
              "      display: none;\n",
              "      fill: #1967D2;\n",
              "      height: 32px;\n",
              "      padding: 0 0 0 0;\n",
              "      width: 32px;\n",
              "    }\n",
              "\n",
              "    .colab-df-convert:hover {\n",
              "      background-color: #E2EBFA;\n",
              "      box-shadow: 0px 1px 2px rgba(60, 64, 67, 0.3), 0px 1px 3px 1px rgba(60, 64, 67, 0.15);\n",
              "      fill: #174EA6;\n",
              "    }\n",
              "\n",
              "    [theme=dark] .colab-df-convert {\n",
              "      background-color: #3B4455;\n",
              "      fill: #D2E3FC;\n",
              "    }\n",
              "\n",
              "    [theme=dark] .colab-df-convert:hover {\n",
              "      background-color: #434B5C;\n",
              "      box-shadow: 0px 1px 3px 1px rgba(0, 0, 0, 0.15);\n",
              "      filter: drop-shadow(0px 1px 2px rgba(0, 0, 0, 0.3));\n",
              "      fill: #FFFFFF;\n",
              "    }\n",
              "  </style>\n",
              "\n",
              "      <script>\n",
              "        const buttonEl =\n",
              "          document.querySelector('#df-a7a97573-f105-407c-87c8-c4a2eb20fb2c button.colab-df-convert');\n",
              "        buttonEl.style.display =\n",
              "          google.colab.kernel.accessAllowed ? 'block' : 'none';\n",
              "\n",
              "        async function convertToInteractive(key) {\n",
              "          const element = document.querySelector('#df-a7a97573-f105-407c-87c8-c4a2eb20fb2c');\n",
              "          const dataTable =\n",
              "            await google.colab.kernel.invokeFunction('convertToInteractive',\n",
              "                                                     [key], {});\n",
              "          if (!dataTable) return;\n",
              "\n",
              "          const docLinkHtml = 'Like what you see? Visit the ' +\n",
              "            '<a target=\"_blank\" href=https://colab.research.google.com/notebooks/data_table.ipynb>data table notebook</a>'\n",
              "            + ' to learn more about interactive tables.';\n",
              "          element.innerHTML = '';\n",
              "          dataTable['output_type'] = 'display_data';\n",
              "          await google.colab.output.renderOutput(dataTable, element);\n",
              "          const docLink = document.createElement('div');\n",
              "          docLink.innerHTML = docLinkHtml;\n",
              "          element.appendChild(docLink);\n",
              "        }\n",
              "      </script>\n",
              "    </div>\n",
              "  </div>\n",
              "  "
            ]
          },
          "metadata": {},
          "execution_count": 8
        }
      ],
      "source": [
        "# Add the movie genres and names\n",
        "# change datatype of 'movie_id'\n",
        "meta_data['movie_id'] = meta_data['movie_id'].astype(str)\n",
        "\n",
        "# merge meta with plot data\n",
        "movies = pd.merge(movies, meta_data[['movie_id', 'movie_name', 'movie_genre']], on = 'movie_id')\n",
        "\n",
        "movies.head()"
      ]
    },
    {
      "cell_type": "markdown",
      "metadata": {
        "id": "leoyNGrl_mwS"
      },
      "source": [
        "<a id='eda'></a>"
      ]
    },
    {
      "cell_type": "markdown",
      "metadata": {
        "id": "d7MBsUU0fvDP"
      },
      "source": [
        "# Part V: Exploratory Data Analysis, Visualization, and Pre-processing"
      ]
    },
    {
      "cell_type": "code",
      "execution_count": 9,
      "metadata": {
        "id": "i4EPPYUyvHPV"
      },
      "outputs": [],
      "source": [
        "#The movie genres are in a dictionary notation. \n",
        "#Convert them to Python list\n",
        "# an empty list\n",
        "genres = [] \n",
        "\n",
        "# extract genres\n",
        "for i in movies['movie_genre']: \n",
        "  genres.append(list(json.loads(i).values())) \n",
        "\n",
        "# add to 'movies' dataframe  \n",
        "movies['new_movie_genre'] = genres"
      ]
    },
    {
      "cell_type": "code",
      "execution_count": 10,
      "metadata": {
        "colab": {
          "base_uri": "https://localhost:8080/",
          "height": 475
        },
        "id": "H5HxNcHDvrsM",
        "outputId": "ed22b113-937f-464e-ba90-d267f2686653"
      },
      "outputs": [
        {
          "output_type": "execute_result",
          "data": {
            "text/plain": [
              "   movie_id  \\\n",
              "0  23890098   \n",
              "1  31186339   \n",
              "2  20663735   \n",
              "3   2231378   \n",
              "4    595909   \n",
              "\n",
              "                                                                                                                                                                                                                                                                                                 MovieSynopsis  \\\n",
              "0                                                                                                                           Shlykov, a hard-working taxi driver and Lyosha, a saxophonist, develop a bizarre love-hate relationship, and despite their prejudices, realize they aren't so different after all.   \n",
              "1  The nation of Panem consists of a wealthy Capitol and twelve poorer districts. As punishment for a past rebellion, each district must provide a boy and girl  between the ages of 12 and 18 selected by lottery  for the annual Hunger Games. The tributes must fight to the death in an arena; the sole...   \n",
              "2  Poovalli Induchoodan  is sentenced for six years prison life for murdering his classmate. Induchoodan, the only son of Justice Maranchery Karunakara Menon  was framed in the case by Manapally Madhavan Nambiar  and his crony DYSP Sankaranarayanan  to take revenge on idealist judge Menon who had e...   \n",
              "3  The Lemon Drop Kid , a New York City swindler, is illegally touting horses at a Florida racetrack. After several successful hustles, the Kid comes across a beautiful, but gullible, woman intending to bet a lot of money. The Kid convinces her to switch her bet, employing a prefabricated con. Unfo...   \n",
              "4  Seventh-day Adventist Church pastor Michael Chamberlain, his wife Lindy, their two sons, and their nine-week-old daughter Azaria are on a camping holiday in the Outback. With the baby sleeping in their tent, the family is enjoying a barbecue with their fellow campers when a cry is heard. Lindy r...   \n",
              "\n",
              "           movie_name  \\\n",
              "0          Taxi Blues   \n",
              "1    The Hunger Games   \n",
              "2          Narasimham   \n",
              "3  The Lemon Drop Kid   \n",
              "4   A Cry in the Dark   \n",
              "\n",
              "                                                                                                                                    movie_genre  \\\n",
              "0                                                                                          {\"/m/07s9rl0\": \"Drama\", \"/m/03q4nz\": \"World cinema\"}   \n",
              "1                              {\"/m/03btsm8\": \"Action/Adventure\", \"/m/06n90\": \"Science Fiction\", \"/m/02kdv5l\": \"Action\", \"/m/07s9rl0\": \"Drama\"}   \n",
              "2                                               {\"/m/04t36\": \"Musical\", \"/m/02kdv5l\": \"Action\", \"/m/07s9rl0\": \"Drama\", \"/m/01chg\": \"Bollywood\"}   \n",
              "3                                                                                        {\"/m/06qm3\": \"Screwball comedy\", \"/m/01z4y\": \"Comedy\"}   \n",
              "4  {\"/m/0lsxr\": \"Crime Fiction\", \"/m/07s9rl0\": \"Drama\", \"/m/01f9r0\": \"Docudrama\", \"/m/03q4nz\": \"World cinema\", \"/m/05bh16v\": \"Courtroom Drama\"}   \n",
              "\n",
              "                                                    new_movie_genre  \n",
              "0                                             [Drama, World cinema]  \n",
              "1                [Action/Adventure, Science Fiction, Action, Drama]  \n",
              "2                               [Musical, Action, Drama, Bollywood]  \n",
              "3                                        [Screwball comedy, Comedy]  \n",
              "4  [Crime Fiction, Drama, Docudrama, World cinema, Courtroom Drama]  "
            ],
            "text/html": [
              "\n",
              "  <div id=\"df-c184b8cc-7f52-44f4-80d3-f000c3ac8f8c\">\n",
              "    <div class=\"colab-df-container\">\n",
              "      <div>\n",
              "<style scoped>\n",
              "    .dataframe tbody tr th:only-of-type {\n",
              "        vertical-align: middle;\n",
              "    }\n",
              "\n",
              "    .dataframe tbody tr th {\n",
              "        vertical-align: top;\n",
              "    }\n",
              "\n",
              "    .dataframe thead th {\n",
              "        text-align: right;\n",
              "    }\n",
              "</style>\n",
              "<table border=\"1\" class=\"dataframe\">\n",
              "  <thead>\n",
              "    <tr style=\"text-align: right;\">\n",
              "      <th></th>\n",
              "      <th>movie_id</th>\n",
              "      <th>MovieSynopsis</th>\n",
              "      <th>movie_name</th>\n",
              "      <th>movie_genre</th>\n",
              "      <th>new_movie_genre</th>\n",
              "    </tr>\n",
              "  </thead>\n",
              "  <tbody>\n",
              "    <tr>\n",
              "      <th>0</th>\n",
              "      <td>23890098</td>\n",
              "      <td>Shlykov, a hard-working taxi driver and Lyosha, a saxophonist, develop a bizarre love-hate relationship, and despite their prejudices, realize they aren't so different after all.</td>\n",
              "      <td>Taxi Blues</td>\n",
              "      <td>{\"/m/07s9rl0\": \"Drama\", \"/m/03q4nz\": \"World cinema\"}</td>\n",
              "      <td>[Drama, World cinema]</td>\n",
              "    </tr>\n",
              "    <tr>\n",
              "      <th>1</th>\n",
              "      <td>31186339</td>\n",
              "      <td>The nation of Panem consists of a wealthy Capitol and twelve poorer districts. As punishment for a past rebellion, each district must provide a boy and girl  between the ages of 12 and 18 selected by lottery  for the annual Hunger Games. The tributes must fight to the death in an arena; the sole...</td>\n",
              "      <td>The Hunger Games</td>\n",
              "      <td>{\"/m/03btsm8\": \"Action/Adventure\", \"/m/06n90\": \"Science Fiction\", \"/m/02kdv5l\": \"Action\", \"/m/07s9rl0\": \"Drama\"}</td>\n",
              "      <td>[Action/Adventure, Science Fiction, Action, Drama]</td>\n",
              "    </tr>\n",
              "    <tr>\n",
              "      <th>2</th>\n",
              "      <td>20663735</td>\n",
              "      <td>Poovalli Induchoodan  is sentenced for six years prison life for murdering his classmate. Induchoodan, the only son of Justice Maranchery Karunakara Menon  was framed in the case by Manapally Madhavan Nambiar  and his crony DYSP Sankaranarayanan  to take revenge on idealist judge Menon who had e...</td>\n",
              "      <td>Narasimham</td>\n",
              "      <td>{\"/m/04t36\": \"Musical\", \"/m/02kdv5l\": \"Action\", \"/m/07s9rl0\": \"Drama\", \"/m/01chg\": \"Bollywood\"}</td>\n",
              "      <td>[Musical, Action, Drama, Bollywood]</td>\n",
              "    </tr>\n",
              "    <tr>\n",
              "      <th>3</th>\n",
              "      <td>2231378</td>\n",
              "      <td>The Lemon Drop Kid , a New York City swindler, is illegally touting horses at a Florida racetrack. After several successful hustles, the Kid comes across a beautiful, but gullible, woman intending to bet a lot of money. The Kid convinces her to switch her bet, employing a prefabricated con. Unfo...</td>\n",
              "      <td>The Lemon Drop Kid</td>\n",
              "      <td>{\"/m/06qm3\": \"Screwball comedy\", \"/m/01z4y\": \"Comedy\"}</td>\n",
              "      <td>[Screwball comedy, Comedy]</td>\n",
              "    </tr>\n",
              "    <tr>\n",
              "      <th>4</th>\n",
              "      <td>595909</td>\n",
              "      <td>Seventh-day Adventist Church pastor Michael Chamberlain, his wife Lindy, their two sons, and their nine-week-old daughter Azaria are on a camping holiday in the Outback. With the baby sleeping in their tent, the family is enjoying a barbecue with their fellow campers when a cry is heard. Lindy r...</td>\n",
              "      <td>A Cry in the Dark</td>\n",
              "      <td>{\"/m/0lsxr\": \"Crime Fiction\", \"/m/07s9rl0\": \"Drama\", \"/m/01f9r0\": \"Docudrama\", \"/m/03q4nz\": \"World cinema\", \"/m/05bh16v\": \"Courtroom Drama\"}</td>\n",
              "      <td>[Crime Fiction, Drama, Docudrama, World cinema, Courtroom Drama]</td>\n",
              "    </tr>\n",
              "  </tbody>\n",
              "</table>\n",
              "</div>\n",
              "      <button class=\"colab-df-convert\" onclick=\"convertToInteractive('df-c184b8cc-7f52-44f4-80d3-f000c3ac8f8c')\"\n",
              "              title=\"Convert this dataframe to an interactive table.\"\n",
              "              style=\"display:none;\">\n",
              "        \n",
              "  <svg xmlns=\"http://www.w3.org/2000/svg\" height=\"24px\"viewBox=\"0 0 24 24\"\n",
              "       width=\"24px\">\n",
              "    <path d=\"M0 0h24v24H0V0z\" fill=\"none\"/>\n",
              "    <path d=\"M18.56 5.44l.94 2.06.94-2.06 2.06-.94-2.06-.94-.94-2.06-.94 2.06-2.06.94zm-11 1L8.5 8.5l.94-2.06 2.06-.94-2.06-.94L8.5 2.5l-.94 2.06-2.06.94zm10 10l.94 2.06.94-2.06 2.06-.94-2.06-.94-.94-2.06-.94 2.06-2.06.94z\"/><path d=\"M17.41 7.96l-1.37-1.37c-.4-.4-.92-.59-1.43-.59-.52 0-1.04.2-1.43.59L10.3 9.45l-7.72 7.72c-.78.78-.78 2.05 0 2.83L4 21.41c.39.39.9.59 1.41.59.51 0 1.02-.2 1.41-.59l7.78-7.78 2.81-2.81c.8-.78.8-2.07 0-2.86zM5.41 20L4 18.59l7.72-7.72 1.47 1.35L5.41 20z\"/>\n",
              "  </svg>\n",
              "      </button>\n",
              "      \n",
              "  <style>\n",
              "    .colab-df-container {\n",
              "      display:flex;\n",
              "      flex-wrap:wrap;\n",
              "      gap: 12px;\n",
              "    }\n",
              "\n",
              "    .colab-df-convert {\n",
              "      background-color: #E8F0FE;\n",
              "      border: none;\n",
              "      border-radius: 50%;\n",
              "      cursor: pointer;\n",
              "      display: none;\n",
              "      fill: #1967D2;\n",
              "      height: 32px;\n",
              "      padding: 0 0 0 0;\n",
              "      width: 32px;\n",
              "    }\n",
              "\n",
              "    .colab-df-convert:hover {\n",
              "      background-color: #E2EBFA;\n",
              "      box-shadow: 0px 1px 2px rgba(60, 64, 67, 0.3), 0px 1px 3px 1px rgba(60, 64, 67, 0.15);\n",
              "      fill: #174EA6;\n",
              "    }\n",
              "\n",
              "    [theme=dark] .colab-df-convert {\n",
              "      background-color: #3B4455;\n",
              "      fill: #D2E3FC;\n",
              "    }\n",
              "\n",
              "    [theme=dark] .colab-df-convert:hover {\n",
              "      background-color: #434B5C;\n",
              "      box-shadow: 0px 1px 3px 1px rgba(0, 0, 0, 0.15);\n",
              "      filter: drop-shadow(0px 1px 2px rgba(0, 0, 0, 0.3));\n",
              "      fill: #FFFFFF;\n",
              "    }\n",
              "  </style>\n",
              "\n",
              "      <script>\n",
              "        const buttonEl =\n",
              "          document.querySelector('#df-c184b8cc-7f52-44f4-80d3-f000c3ac8f8c button.colab-df-convert');\n",
              "        buttonEl.style.display =\n",
              "          google.colab.kernel.accessAllowed ? 'block' : 'none';\n",
              "\n",
              "        async function convertToInteractive(key) {\n",
              "          const element = document.querySelector('#df-c184b8cc-7f52-44f4-80d3-f000c3ac8f8c');\n",
              "          const dataTable =\n",
              "            await google.colab.kernel.invokeFunction('convertToInteractive',\n",
              "                                                     [key], {});\n",
              "          if (!dataTable) return;\n",
              "\n",
              "          const docLinkHtml = 'Like what you see? Visit the ' +\n",
              "            '<a target=\"_blank\" href=https://colab.research.google.com/notebooks/data_table.ipynb>data table notebook</a>'\n",
              "            + ' to learn more about interactive tables.';\n",
              "          element.innerHTML = '';\n",
              "          dataTable['output_type'] = 'display_data';\n",
              "          await google.colab.output.renderOutput(dataTable, element);\n",
              "          const docLink = document.createElement('div');\n",
              "          docLink.innerHTML = docLinkHtml;\n",
              "          element.appendChild(docLink);\n",
              "        }\n",
              "      </script>\n",
              "    </div>\n",
              "  </div>\n",
              "  "
            ]
          },
          "metadata": {},
          "execution_count": 10
        }
      ],
      "source": [
        "movies.head(5)"
      ]
    },
    {
      "cell_type": "code",
      "execution_count": 11,
      "metadata": {
        "id": "mBrIPlbyvu6y"
      },
      "outputs": [],
      "source": [
        "# Some movies have zero genre entry. Remove these entries with no genre\n",
        "movies_new = movies[~(movies['new_movie_genre'].str.len() == 0)]"
      ]
    },
    {
      "cell_type": "code",
      "execution_count": 12,
      "metadata": {
        "colab": {
          "base_uri": "https://localhost:8080/"
        },
        "id": "wz6ZmVQ-wXVS",
        "outputId": "7cb54a76-248b-4d83-ceb0-2a934b6a7033"
      },
      "outputs": [
        {
          "output_type": "stream",
          "name": "stdout",
          "text": [
            "Movies with zero genre 411\n"
          ]
        }
      ],
      "source": [
        "#Compare the two:\n",
        "movies.shape, movies_new.shape # About 411 has no genres\n",
        "print(\"Movies with zero genre\",(movies.shape[0] -movies_new.shape[0]))"
      ]
    },
    {
      "cell_type": "code",
      "execution_count": 13,
      "metadata": {
        "colab": {
          "base_uri": "https://localhost:8080/"
        },
        "id": "RjyF05zawfRQ",
        "outputId": "e7509c2e-ee03-4f5f-bc9b-14ac43a30e17"
      },
      "outputs": [
        {
          "output_type": "execute_result",
          "data": {
            "text/plain": [
              "363"
            ]
          },
          "metadata": {},
          "execution_count": 13
        }
      ],
      "source": [
        "# Check the number of genre tags in the dataset\n",
        "all_genres = sum(genres,[])\n",
        "len(set(all_genres))"
      ]
    },
    {
      "cell_type": "code",
      "execution_count": 14,
      "metadata": {
        "id": "DPR_PSTyww_5"
      },
      "outputs": [],
      "source": [
        "# Check the genre tags\n",
        "all_genres = nltk.FreqDist(all_genres) \n",
        "\n",
        "# create dataframe\n",
        "all_genres_df = pd.DataFrame({'Genre': list(all_genres.keys()), \n",
        "                              'Count': list(all_genres.values())})"
      ]
    },
    {
      "cell_type": "code",
      "execution_count": 15,
      "metadata": {
        "colab": {
          "base_uri": "https://localhost:8080/",
          "height": 877
        },
        "id": "x-xuG0vixCTW",
        "outputId": "577b3f22-e8e1-41f8-f9ff-7b28458dd4c2"
      },
      "outputs": [
        {
          "output_type": "display_data",
          "data": {
            "text/plain": [
              "<Figure size 864x1080 with 1 Axes>"
            ],
            "image/png": "[encoded data removed]"
          },
          "metadata": {
            "needs_background": "light"
          }
        }
      ],
      "source": [
        "# Plot the genres:\n",
        "g = all_genres_df.nlargest(columns=\"Count\", n = 50) \n",
        "plt.figure(figsize=(12,15)) \n",
        "ax = sns.barplot(data=g, x= \"Count\", y = \"Genre\") \n",
        "ax.set(ylabel = 'Genre') \n",
        "ax.set(xlabel = 'Genre Count') \n",
        "plt.show()"
      ]
    },
    {
      "cell_type": "code",
      "execution_count": 16,
      "metadata": {
        "id": "mATZkXkNE7F_"
      },
      "outputs": [],
      "source": [
        "# Further data cleaning \n",
        "stop_words = set(stopwords.words('english'))\n",
        "\n",
        "\n",
        "def clean_text_and_remove_stopwords(text):\n",
        "    # remove backslash-apostrophe \n",
        "    text = re.sub(\"\\'\", \"\", text) \n",
        "    # remove everything except alphabets \n",
        "    text = re.sub(\"[^a-zA-Z]\",\" \",text) \n",
        "    # remove whitespaces \n",
        "    text = ' '.join(text.split()) \n",
        "    # convert text to lowercase \n",
        "    text = text.lower() \n",
        "    # remove stopwords\n",
        "    no_stopword_text = [w for w in text.split() if not w in stop_words]\n",
        "    return ' '.join(no_stopword_text)\n",
        "\n",
        "movies_new['Clean_MovieSynopsis'] = movies_new['MovieSynopsis'].apply(lambda x: clean_text_and_remove_stopwords(x))"
      ]
    },
    {
      "cell_type": "code",
      "execution_count": 17,
      "metadata": {
        "id": "ABJBpSZKx1Ct",
        "colab": {
          "base_uri": "https://localhost:8080/",
          "height": 877
        },
        "outputId": "051c82db-0d25-40ec-87ce-9a2e9421cd03"
      },
      "outputs": [
        {
          "output_type": "display_data",
          "data": {
            "text/plain": [
              "<Figure size 864x1080 with 1 Axes>"
            ],
            "image/png": "[encoded data removed]"
          },
          "metadata": {
            "needs_background": "light"
          }
        }
      ],
      "source": [
        "def top_frequent_terms(data, max_terms=50):\n",
        "  all_text = ' '.join(data)\n",
        "  tokens = all_text.split()\n",
        "  word_freq = nltk.FreqDist(tokens)\n",
        "  term_df = pd.DataFrame({'term':list(word_freq.keys()), 'frequency':list(word_freq.values())})\n",
        "\n",
        "  top_terms = term_df.nlargest(columns='frequency', n=max_terms)\n",
        "\n",
        "  plt.figure(figsize=(12,15))\n",
        "  plot = sns.barplot(data=top_terms, x='frequency', y='term')\n",
        "  plot.set(ylabel='Term')\n",
        "  plt.show()\n",
        "\n",
        "# print 50 most frequent words in a genre \n",
        "top_frequent_terms(movies_new['Clean_MovieSynopsis'], 50)"
      ]
    },
    {
      "cell_type": "code",
      "execution_count": 18,
      "metadata": {
        "id": "Heyz9XF0vqZP",
        "colab": {
          "base_uri": "https://localhost:8080/",
          "height": 375
        },
        "outputId": "9dcaddab-7852-4e47-a328-0a868c4e8fdd"
      },
      "outputs": [
        {
          "output_type": "display_data",
          "data": {
            "text/plain": [
              "<Figure size 432x288 with 1 Axes>"
            ],
            "image/png": "[encoded data removed]"
          },
          "metadata": {
            "needs_background": "light"
          }
        }
      ],
      "source": [
        "# Plot the cummulative frequency curve of the genres\n",
        "plt.title('Top 20 Most Common Terms')\n",
        "all_genres.plot(20,cumulative=True)\n",
        "plt.show()"
      ]
    },
    {
      "cell_type": "markdown",
      "metadata": {
        "id": "DCpqhBjgAOzI"
      },
      "source": [
        "<a id='model'></a>"
      ]
    },
    {
      "cell_type": "markdown",
      "metadata": {
        "id": "mxvgYwTrgAvb"
      },
      "source": [
        "# Model Design and Model Training"
      ]
    },
    {
      "cell_type": "code",
      "execution_count": 19,
      "metadata": {
        "id": "EPzPhh3vyvKN"
      },
      "outputs": [],
      "source": [
        "# Convert the text to features\n",
        "multilabel_binarizer = MultiLabelBinarizer()\n",
        "multilabel_binarizer.fit(movies_new['new_movie_genre']) \n",
        "\n",
        "# transform target variable\n",
        "y = multilabel_binarizer.transform(movies_new['new_movie_genre'])"
      ]
    },
    {
      "cell_type": "code",
      "execution_count": 20,
      "metadata": {
        "id": "8yvDc7MPzFHH"
      },
      "outputs": [],
      "source": [
        "# Using TF-IDF to extract features \n",
        "tfidf_vectorizer = TfidfVectorizer(max_df=0.8, max_features=10000, analyzer='word',min_df=0, stop_words='english') # Check other vectorizers\n",
        "# I have used 10,000 most frequent words in the data as my features"
      ]
    },
    {
      "cell_type": "code",
      "execution_count": 21,
      "metadata": {
        "id": "SDqP6GwWzmP0"
      },
      "outputs": [],
      "source": [
        "# split dataset into training and validation set\n",
        "xtrain, xval, ytrain, yval = train_test_split(movies_new['Clean_MovieSynopsis'], y, test_size=test_size, random_state=random_seed)"
      ]
    },
    {
      "cell_type": "code",
      "execution_count": 22,
      "metadata": {
        "id": "2nTop1OMz9eY"
      },
      "outputs": [],
      "source": [
        "# create TF-IDF features\n",
        "xtrain_tfidf = tfidf_vectorizer.fit_transform(xtrain)\n",
        "xval_tfidf = tfidf_vectorizer.transform(xval)"
      ]
    },
    {
      "cell_type": "code",
      "execution_count": 23,
      "metadata": {
        "id": "MmIEMoQi0aEa"
      },
      "outputs": [],
      "source": [
        "#Define the model.The dataset has about 363 labels (genres); I have used OneVsRestClassifier for multiclass handling  \n",
        "model = OneVsRestClassifier(estimator=LogisticRegression(max_iter=1000,random_state=random_seed,n_jobs=-1))"
      ]
    },
    {
      "cell_type": "code",
      "execution_count": 24,
      "metadata": {
        "colab": {
          "base_uri": "https://localhost:8080/"
        },
        "id": "Aa-HQzcl0jXP",
        "outputId": "c46d87e8-1b53-4d89-be61-433b7f969871"
      },
      "outputs": [
        {
          "output_type": "execute_result",
          "data": {
            "text/plain": [
              "OneVsRestClassifier(estimator=LogisticRegression(max_iter=1000, n_jobs=-1,\n",
              "                                                 random_state=121))"
            ]
          },
          "metadata": {},
          "execution_count": 24
        }
      ],
      "source": [
        "# Fit the training set\n",
        "model.fit(xtrain_tfidf, ytrain)"
      ]
    },
    {
      "cell_type": "markdown",
      "metadata": {
        "id": "hnOrOIUfAsuH"
      },
      "source": [
        "<a id='makeprediction'></a>"
      ]
    },
    {
      "cell_type": "markdown",
      "metadata": {
        "id": "ffBc-N-RgTGS"
      },
      "source": [
        "# Model Evaluation and Performance"
      ]
    },
    {
      "cell_type": "code",
      "execution_count": 25,
      "metadata": {
        "id": "MBrXMQtU0qc-"
      },
      "outputs": [],
      "source": [
        "# Make some predictions\n",
        "y_pred = model.predict(xval_tfidf)"
      ]
    },
    {
      "cell_type": "code",
      "execution_count": 26,
      "metadata": {
        "colab": {
          "base_uri": "https://localhost:8080/"
        },
        "id": "aNLn0r-J1Nj8",
        "outputId": "db853f7b-e94c-44f8-bdd1-8e550ab08735"
      },
      "outputs": [
        {
          "output_type": "execute_result",
          "data": {
            "text/plain": [
              "array([0, 0, 0, 0, 0, 0, 0, 0, 0, 0, 0, 0, 0, 0, 0, 0, 0, 0, 0, 0, 0, 0,\n",
              "       0, 0, 0, 0, 0, 0, 0, 0, 0, 0, 0, 0, 0, 0, 0, 0, 0, 0, 0, 0, 0, 0,\n",
              "       0, 0, 0, 0, 0, 0, 0, 0, 0, 0, 0, 0, 0, 0, 0, 0, 0, 0, 0, 0, 0, 0,\n",
              "       0, 0, 0, 0, 0, 0, 0, 0, 0, 0, 0, 0, 0, 0, 0, 0, 0, 0, 0, 0, 0, 0,\n",
              "       0, 0, 0, 0, 0, 0, 0, 0, 0, 0, 0, 0, 0, 0, 0, 0, 0, 0, 0, 0, 0, 0,\n",
              "       0, 0, 0, 0, 1, 0, 0, 0, 0, 0, 0, 0, 0, 0, 0, 0, 0, 0, 0, 0, 0, 0,\n",
              "       0, 0, 0, 0, 0, 0, 0, 0, 0, 0, 0, 0, 0, 0, 0, 0, 0, 0, 0, 0, 0, 0,\n",
              "       0, 0, 0, 0, 0, 0, 0, 0, 0, 0, 0, 0, 0, 0, 0, 0, 0, 0, 0, 0, 0, 0,\n",
              "       0, 0, 0, 0, 0, 0, 0, 0, 0, 0, 0, 0, 0, 0, 0, 0, 0, 0, 0, 0, 0, 0,\n",
              "       0, 0, 0, 0, 0, 0, 0, 0, 0, 0, 0, 0, 0, 0, 0, 0, 0, 0, 0, 0, 0, 0,\n",
              "       0, 0, 0, 0, 0, 0, 0, 0, 0, 0, 0, 0, 0, 0, 0, 0, 0, 0, 0, 0, 0, 0,\n",
              "       0, 0, 0, 0, 0, 0, 0, 0, 0, 0, 0, 0, 0, 0, 0, 0, 0, 0, 0, 0, 0, 0,\n",
              "       0, 0, 0, 0, 0, 0, 0, 0, 0, 0, 0, 0, 0, 0, 0, 0, 0, 0, 0, 0, 0, 0,\n",
              "       0, 0, 0, 0, 0, 0, 0, 0, 0, 0, 0, 0, 0, 0, 0, 0, 0, 0, 0, 0, 0, 0,\n",
              "       0, 0, 0, 0, 0, 0, 0, 0, 0, 0, 0, 0, 0, 0, 0, 0, 0, 0, 0, 0, 0, 0,\n",
              "       0, 0, 0, 0, 0, 0, 0, 0, 0, 0, 0, 0, 0, 0, 0, 0, 0, 0, 0, 0, 0, 0,\n",
              "       0, 0, 0, 0, 0, 0, 0, 0, 0, 0, 0])"
            ]
          },
          "metadata": {},
          "execution_count": 26
        }
      ],
      "source": [
        "# Note this output will be in one-hot encoder of the dim of the dataset\n",
        "y_pred[4]"
      ]
    },
    {
      "cell_type": "code",
      "execution_count": 27,
      "metadata": {
        "colab": {
          "base_uri": "https://localhost:8080/"
        },
        "id": "AAspvdcW0-qD",
        "outputId": "392d441a-c93a-4982-db8d-373aef23ac01"
      },
      "outputs": [
        {
          "output_type": "stream",
          "name": "stdout",
          "text": [
            "-----------------------------------\n",
            "The predicted genre is ('Drama',) \n",
            "The Actual Genre is ('Drama', 'Short Film')\n",
            "-----------------------------------\n"
          ]
        }
      ],
      "source": [
        "# Use inverse transform to convert the one-hot encoded data to the unique genre and compare with the actual genre\n",
        "print(\"-\"*35)\n",
        "print(\"The predicted genre is\", multilabel_binarizer.inverse_transform(y_pred)[4], \"\\nThe Actual Genre is\",multilabel_binarizer.inverse_transform(yval)[4])\n",
        "print(\"-\"*35)"
      ]
    },
    {
      "cell_type": "code",
      "execution_count": 28,
      "metadata": {
        "id": "lX0Xwfb32-7G"
      },
      "outputs": [],
      "source": [
        "# Define a function to evaluate the model accuracy based on the f1 score\n",
        "def evaluate_model(model, xvalue, yvalue, thr=0.35):\n",
        "  y_pred_prob = model.predict_proba(xvalue)\n",
        "  y_pred = (y_pred_prob >= thr).astype(int)\n",
        "  f1 = f1_score(yvalue, y_pred, average=\"micro\")\n",
        "  #print(\"The micro-average quality for threshold=\", thr)\n",
        "  print(\"-\"*40)\n",
        "  print(\" The micro F1-score of model is: {:.4f}\".format(f1))\n",
        "  print(\"-\"*40)"
      ]
    },
    {
      "cell_type": "code",
      "execution_count": 29,
      "metadata": {
        "colab": {
          "base_uri": "https://localhost:8080/"
        },
        "id": "KP0NRHSk1csK",
        "outputId": "4757972e-07b9-43e3-81b8-2a5d38d91321"
      },
      "outputs": [
        {
          "output_type": "stream",
          "name": "stdout",
          "text": [
            "----------------------------------------\n",
            " The micro F1-score of model is: 0.4161\n",
            "----------------------------------------\n"
          ]
        }
      ],
      "source": [
        "evaluate_model(model, xval_tfidf, yval)"
      ]
    },
    {
      "cell_type": "markdown",
      "metadata": {
        "id": "o2ctZ3pwhYEP"
      },
      "source": [
        "## The model achieved micro F-1 socre that is greater than the baseline F-1 score of 0.35. Now, I will proceed to handle the main requirement of the model as outlined below:\n",
        "\n",
        "- The movie genre prediction system should be capable of handling new movie plots in raw form as input and generating its corresponding genre tag(s), and predict the top (\"n, here 5\") related movies to the prediction. This will enable to maintain the effectivenss of the model and adapt to future data.\n",
        "\n",
        "**To achieve this, I defined the inference function below**"
      ]
    },
    {
      "cell_type": "code",
      "execution_count": 30,
      "metadata": {
        "id": "M99-eNNqweVI"
      },
      "outputs": [],
      "source": [
        "def predict_and_print_genres(xval, movies_new, model, tfidf_vectorizer, binarizer, nrangemovie, n_related):\n",
        "    def predict_genres(text, model, vectorizer, binarizer):\n",
        "        cleaned_text = clean_text_and_remove_stopwords(text)\n",
        "        text_vector = vectorizer.transform([cleaned_text])\n",
        "        prediction = model.predict(text_vector)\n",
        "        return binarizer.inverse_transform(prediction)\n",
        "\n",
        "    def get_related_movies(text, movies_new, vectorizer):\n",
        "        cleaned_text = clean_text_and_remove_stopwords(text)\n",
        "        text_vector = vectorizer.transform([cleaned_text])\n",
        "        cosine_similarities = cosine_similarity(text_vector, vectorizer.transform(movies_new['movie_name']))\n",
        "        related_movie_indices = cosine_similarities.argsort()[0][::-1][1:n_related+1]\n",
        "        related_movies = movies_new.iloc[related_movie_indices]['movie_name'].values\n",
        "        return related_movies, cosine_similarities[0][related_movie_indices]\n",
        "\n",
        "    for i in range(nrangemovie):\n",
        "        random_index = xval.sample(1).index[0]\n",
        "        print(\"-\"*35)\n",
        "        print(\"Name of Movie: \", movies_new['movie_name'][random_index])\n",
        "        print(\"-\"*35)\n",
        "        print(\"Predicted Genre(s): \", predict_genres(xval[random_index], model, tfidf_vectorizer, binarizer))\n",
        "        print(\"Actual Genre(s): \", movies_new['new_movie_genre'][random_index])\n",
        "        related_movies, similarity_scores = get_related_movies(xval[random_index], movies_new, tfidf_vectorizer)\n",
        "        related_movies_df = pd.DataFrame({'Related Movies': list(related_movies), 'Similarity Scores': similarity_scores})\n",
        "        print(\"\\n{}\\nTop {} Related Movies to prediction:\\n{}\\n{}\".format(\"-\"*35, n_related, \"-\"*35, related_movies_df))\n",
        "        print(\"\\n\")\n"
      ]
    },
    {
      "cell_type": "code",
      "execution_count": 36,
      "metadata": {
        "id": "gpbgwWOBpJ-1",
        "colab": {
          "base_uri": "https://localhost:8080/"
        },
        "outputId": "2a963aa4-0405-4270-ac98-516dc1452025"
      },
      "outputs": [
        {
          "output_type": "stream",
          "name": "stdout",
          "text": [
            "-----------------------------------\n",
            "Name of Movie:  Eun-Gyo\n",
            "-----------------------------------\n",
            "Predicted Genre(s):  [('Drama',)]\n",
            "Actual Genre(s):  ['Romance Film', 'Drama']\n",
            "\n",
            "-----------------------------------\n",
            "Top 5 Related Movies to prediction:\n",
            "-----------------------------------\n",
            "            Related Movies  Similarity Scores\n",
            "0      The Blood of a Poet           0.343505\n",
            "1    The Poet and the Bear           0.320501\n",
            "2                  The Web           0.310371\n",
            "3  Kisna: The Warrior Poet           0.295609\n",
            "4               Poet's Pub           0.292669\n",
            "\n",
            "\n"
          ]
        }
      ],
      "source": [
        "# Make the prediction and also predict the top 5 related movie genres. I have additional printed out the similarity score\n",
        "nrangemovie = 1; related_movies=5\n",
        "predict_and_print_genres(xval, movies_new, model, tfidf_vectorizer, multilabel_binarizer,nrangemovie,related_movies)"
      ]
    },
    {
      "cell_type": "markdown",
      "metadata": {
        "id": "D7AZUxsXA6rb"
      },
      "source": [
        "<a id='hyperparameter'></a>"
      ]
    },
    {
      "cell_type": "markdown",
      "metadata": {
        "id": "nt_gtLbgic_n"
      },
      "source": [
        "# Part VIII: Hyperparameter Optimization \n",
        "- Check to see if hyperparameter optimization of the parameters improves the overall accuracy of the model. \n",
        "- ***Note*** - The hperparameter optimization part is expensive and only need to be ran once. For now, it is not needed unless new dataset is included."
      ]
    },
    {
      "cell_type": "code",
      "execution_count": 37,
      "metadata": {
        "id": "ntETl1Z4zNaA"
      },
      "outputs": [],
      "source": [
        "# Define search space for the hyper parameters\n",
        "space = dict()\n",
        "space['estimator__solver'] = ['newton-cg', 'lbfgs', 'liblinear']\n",
        "space['estimator__penalty'] = ['l2']\n",
        "space['estimator__C'] = loguniform(1e-5, 10)"
      ]
    },
    {
      "cell_type": "code",
      "execution_count": 38,
      "metadata": {
        "id": "Rk-bl_TXzkrY"
      },
      "outputs": [],
      "source": [
        "if(hyperparameter == True):\n",
        "    clf = OneVsRestClassifier(estimator = LogisticRegression(max_iter=500,C=1,penalty='l2',tol=0.001,random_state=random_seed))\n",
        "    #define the number of folds \n",
        "    folds = KFold(n_splits=5, shuffle = True, random_state = random_seed)\n",
        "    # define search\n",
        "    grid_search = RandomizedSearchCV(estimator=clf,param_distributions=space, n_iter=1000, \n",
        "                                     scoring='f1_micro',verbose=3,\n",
        "                                     n_jobs=-1, cv=folds.split(xtrain_tfidf,ytrain), random_state=random_seed)\n",
        "    #fit grid search on the train data\n",
        "    grid_result = grid_search.fit(xtrain_tfidf, ytrain)"
      ]
    },
    {
      "cell_type": "code",
      "execution_count": 39,
      "metadata": {
        "id": "VY9RiKTh04FF"
      },
      "outputs": [],
      "source": [
        "#Determine the best model \n",
        "if(hyperparameter == True):\n",
        "  grid_result.best_estimator_\n",
        "  # Determine the f1 score:\n",
        "  grid_result.cv_results_\n",
        "  #Check with above if it works well\n",
        "  f1_score(grid_result.predict(xval_tfidf), yval,average=\"micro\")"
      ]
    },
    {
      "cell_type": "code",
      "execution_count": 40,
      "metadata": {
        "id": "gDpu95v21Ixs"
      },
      "outputs": [],
      "source": [
        "if(hyperparameter == True):\n",
        "  #Instantiate the ML with the best model\n",
        "  #clf = OneVsRestClassifier(estimator = LogisticRegression(**grid_result.best_params_))\n",
        "  optimized_model = grid_result.best_estimator_\n",
        "  optimized_model.fit(xtrain_tfidf, ytrain)\n",
        "  evaluate_model(optimized_model, xval_tfidf, yval, 0.35)\n",
        "  predict_and_print_genres(optimized_model, movies_new, model, tfidf_vectorizer, multilabel_binarizer)"
      ]
    },
    {
      "cell_type": "markdown",
      "metadata": {
        "id": "bF-fqMKjDFfi"
      },
      "source": [
        "<a id='summary'></a>"
      ]
    },
    {
      "cell_type": "markdown",
      "metadata": {
        "id": "sahb2BVqDJEB"
      },
      "source": [
        "# Part IX: Summary\n",
        "\n",
        "**Key Inference from ML Model** \n",
        "The predicted micro F-1 score is 0.42, which is approximately 10% better than the baseline F-1 micro scores of 0.35."
      ]
    },
    {
      "cell_type": "markdown",
      "metadata": {
        "id": "G1UxIF1V2qYp"
      },
      "source": [
        "# End"
      ]
    }
  ],
  "metadata": {
    "accelerator": "TPU",
    "colab": {
      "provenance": [],
      "authorship_tag": "ABX9TyNzXKPiY2EN5GNeaXXE/2et",
      "include_colab_link": true
    },
    "gpuClass": "standard",
    "kernelspec": {
      "display_name": "Python 3",
      "name": "python3"
    },
    "language_info": {
      "name": "python"
    }
  },
  "nbformat": 4,
  "nbformat_minor": 0
}